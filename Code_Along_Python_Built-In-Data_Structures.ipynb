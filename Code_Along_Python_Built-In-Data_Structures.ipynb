{
 "cells": [
  {
   "cell_type": "markdown",
   "metadata": {
    "id": "JY7x-LVSTDP-"
   },
   "source": [
    "# Python Built-In Data Structures"
   ]
  },
  {
   "cell_type": "markdown",
   "metadata": {
    "id": "MIyFrLvJTDQI"
   },
   "source": [
    "## Lists"
   ]
  },
  {
   "cell_type": "code",
   "execution_count": 1,
   "metadata": {},
   "outputs": [],
   "source": [
    "TAs = [\"Flo\", \"Anne\"]"
   ]
  },
  {
   "cell_type": "code",
   "execution_count": 2,
   "metadata": {},
   "outputs": [
    {
     "data": {
      "text/plain": [
       "list"
      ]
     },
     "execution_count": 2,
     "metadata": {},
     "output_type": "execute_result"
    }
   ],
   "source": [
    "type(TAs)"
   ]
  },
  {
   "cell_type": "code",
   "execution_count": 3,
   "metadata": {},
   "outputs": [
    {
     "data": {
      "text/plain": [
       "'Anne'"
      ]
     },
     "execution_count": 3,
     "metadata": {},
     "output_type": "execute_result"
    }
   ],
   "source": [
    "TAs[1]"
   ]
  },
  {
   "cell_type": "code",
   "execution_count": 4,
   "metadata": {},
   "outputs": [
    {
     "ename": "IndexError",
     "evalue": "list index out of range",
     "output_type": "error",
     "traceback": [
      "\u001b[1;31m---------------------------------------------------------------------------\u001b[0m",
      "\u001b[1;31mIndexError\u001b[0m                                Traceback (most recent call last)",
      "\u001b[1;32m~\\AppData\\Local\\Temp/ipykernel_10492/256194233.py\u001b[0m in \u001b[0;36m<module>\u001b[1;34m\u001b[0m\n\u001b[1;32m----> 1\u001b[1;33m \u001b[0mTAs\u001b[0m\u001b[1;33m[\u001b[0m\u001b[1;36m2\u001b[0m\u001b[1;33m]\u001b[0m\u001b[1;33m\u001b[0m\u001b[1;33m\u001b[0m\u001b[0m\n\u001b[0m",
      "\u001b[1;31mIndexError\u001b[0m: list index out of range"
     ]
    }
   ],
   "source": [
    "TAs[2]"
   ]
  },
  {
   "cell_type": "code",
   "execution_count": 5,
   "metadata": {},
   "outputs": [],
   "source": [
    "LT = \"Rafa\""
   ]
  },
  {
   "cell_type": "code",
   "execution_count": 6,
   "metadata": {},
   "outputs": [],
   "source": [
    "Teachers = TAs + [LT]"
   ]
  },
  {
   "cell_type": "code",
   "execution_count": 7,
   "metadata": {},
   "outputs": [
    {
     "data": {
      "text/plain": [
       "['Flo', 'Anne', 'Rafa']"
      ]
     },
     "execution_count": 7,
     "metadata": {},
     "output_type": "execute_result"
    }
   ],
   "source": [
    "Teachers"
   ]
  },
  {
   "cell_type": "code",
   "execution_count": 8,
   "metadata": {},
   "outputs": [
    {
     "data": {
      "text/plain": [
       "3"
      ]
     },
     "execution_count": 8,
     "metadata": {},
     "output_type": "execute_result"
    }
   ],
   "source": [
    "len(Teachers)"
   ]
  },
  {
   "cell_type": "markdown",
   "metadata": {
    "id": "QtkkNP8iTDQJ"
   },
   "source": [
    "#### Indexing, slicing, appending"
   ]
  },
  {
   "cell_type": "code",
   "execution_count": 9,
   "metadata": {},
   "outputs": [
    {
     "name": "stdout",
     "output_type": "stream",
     "text": [
      "Flo is a cool teacher\n",
      "Anne is a cool teacher\n",
      "Rafa is a cool teacher\n"
     ]
    }
   ],
   "source": [
    "for teacher in Teachers:\n",
    "    print(teacher + \" is a cool teacher\")"
   ]
  },
  {
   "cell_type": "markdown",
   "metadata": {
    "id": "1A_2ABUuTDQL"
   },
   "source": [
    "#### Iterating through lists"
   ]
  },
  {
   "cell_type": "code",
   "execution_count": 18,
   "metadata": {
    "executionInfo": {
     "elapsed": 219,
     "status": "ok",
     "timestamp": 1622473266171,
     "user": {
      "displayName": "Ignacio Soteras",
      "photoUrl": "",
      "userId": "02050793736257155229"
     },
     "user_tz": -120
    },
    "id": "-NX_DJeXTDQL"
   },
   "outputs": [],
   "source": [
    "students = [\"tobias hegewald\",\"srinivasan narayanan\", \"silvia delgado abendano\" , \n",
    "            \"shushanik hakobyan hakobyan\" , \"rene stuedemann\", \n",
    "            \"raphael weidemann\" , \"peter ludas\" , \n",
    "            \"niranjan shrikant kondo\", \"nelson lage\" , \n",
    "            \"mercedes santana rodriguez\", \"marie rodov\" , \n",
    "            \"luca hein\",\"inga eichhorn\" ,\n",
    "            \"hong kiu cheng\" , \"henrike sahnwaldt\",\"enrique hernani ros\",\"emma baker reynolds\",\n",
    "            \"edu jockers\",\"dwie steffyanti\",\"denny meyer\",\"carlos martinez\",\"carla colomer\",\n",
    "            \"bianca macedo richa\",\"rand abu ajamia\"]"
   ]
  },
  {
   "cell_type": "code",
   "execution_count": 19,
   "metadata": {},
   "outputs": [
    {
     "data": {
      "text/plain": [
       "['tobias hegewald',\n",
       " 'srinivasan narayanan',\n",
       " 'silvia delgado abendano',\n",
       " 'shushanik hakobyan hakobyan',\n",
       " 'rene stuedemann',\n",
       " 'raphael weidemann',\n",
       " 'peter ludas',\n",
       " 'niranjan shrikant kondo',\n",
       " 'nelson lage',\n",
       " 'mercedes santana rodriguez',\n",
       " 'marie rodov',\n",
       " 'luca hein',\n",
       " 'inga eichhorn',\n",
       " 'hong kiu cheng',\n",
       " 'henrike sahnwaldt',\n",
       " 'enrique hernani ros',\n",
       " 'emma baker reynolds',\n",
       " 'edu jockers',\n",
       " 'dwie steffyanti',\n",
       " 'denny meyer',\n",
       " 'carlos martinez',\n",
       " 'carla colomer',\n",
       " 'bianca macedo richa',\n",
       " 'rand abu ajamia']"
      ]
     },
     "execution_count": 19,
     "metadata": {},
     "output_type": "execute_result"
    }
   ],
   "source": [
    "students"
   ]
  },
  {
   "cell_type": "markdown",
   "metadata": {
    "id": "31rHy2z_TDQM"
   },
   "source": [
    "#### Print students with names starting with e"
   ]
  },
  {
   "cell_type": "code",
   "execution_count": 20,
   "metadata": {},
   "outputs": [
    {
     "name": "stdout",
     "output_type": "stream",
     "text": [
      "enrique hernani ros\n",
      "emma baker reynolds\n",
      "edu jockers\n"
     ]
    }
   ],
   "source": [
    "for student in students:\n",
    "    if student[0] == \"e\":\n",
    "        print(student)"
   ]
  },
  {
   "cell_type": "markdown",
   "metadata": {
    "id": "CxU-y1wDTDQM"
   },
   "source": [
    "#### Create two lists: \"student_names\" and \"student_surnames\""
   ]
  },
  {
   "cell_type": "code",
   "execution_count": 25,
   "metadata": {},
   "outputs": [],
   "source": [
    "students_names = []"
   ]
  },
  {
   "cell_type": "code",
   "execution_count": 26,
   "metadata": {},
   "outputs": [],
   "source": [
    "students_surnames = []"
   ]
  },
  {
   "cell_type": "code",
   "execution_count": 28,
   "metadata": {},
   "outputs": [],
   "source": [
    "for student in students:\n",
    "        student_split = student.split()\n",
    "        students_names.append(student_split[0])\n",
    "        students_surnames.append(student_split[1])"
   ]
  },
  {
   "cell_type": "code",
   "execution_count": 29,
   "metadata": {},
   "outputs": [
    {
     "data": {
      "text/plain": [
       "['tobias',\n",
       " 'srinivasan',\n",
       " 'silvia',\n",
       " 'shushanik',\n",
       " 'rene',\n",
       " 'raphael',\n",
       " 'peter',\n",
       " 'niranjan',\n",
       " 'nelson',\n",
       " 'mercedes',\n",
       " 'marie',\n",
       " 'luca',\n",
       " 'inga',\n",
       " 'hong',\n",
       " 'henrike',\n",
       " 'enrique',\n",
       " 'emma',\n",
       " 'edu',\n",
       " 'dwie',\n",
       " 'denny',\n",
       " 'carlos',\n",
       " 'carla',\n",
       " 'bianca',\n",
       " 'rand']"
      ]
     },
     "execution_count": 29,
     "metadata": {},
     "output_type": "execute_result"
    }
   ],
   "source": [
    "students_names"
   ]
  },
  {
   "cell_type": "code",
   "execution_count": 30,
   "metadata": {},
   "outputs": [
    {
     "data": {
      "text/plain": [
       "['hegewald',\n",
       " 'narayanan',\n",
       " 'delgado',\n",
       " 'hakobyan',\n",
       " 'stuedemann',\n",
       " 'weidemann',\n",
       " 'ludas',\n",
       " 'shrikant',\n",
       " 'lage',\n",
       " 'santana',\n",
       " 'rodov',\n",
       " 'hein',\n",
       " 'eichhorn',\n",
       " 'kiu',\n",
       " 'sahnwaldt',\n",
       " 'hernani',\n",
       " 'baker',\n",
       " 'jockers',\n",
       " 'steffyanti',\n",
       " 'meyer',\n",
       " 'martinez',\n",
       " 'colomer',\n",
       " 'macedo',\n",
       " 'abu']"
      ]
     },
     "execution_count": 30,
     "metadata": {},
     "output_type": "execute_result"
    }
   ],
   "source": [
    "students_surnames"
   ]
  },
  {
   "cell_type": "markdown",
   "metadata": {
    "id": "JXR4QJ23TDQN"
   },
   "source": [
    "#### Print the surname for \"bianca\"."
   ]
  },
  {
   "cell_type": "code",
   "execution_count": 32,
   "metadata": {},
   "outputs": [
    {
     "data": {
      "text/plain": [
       "22"
      ]
     },
     "execution_count": 32,
     "metadata": {},
     "output_type": "execute_result"
    }
   ],
   "source": [
    "students_names.index(\"bianca\")"
   ]
  },
  {
   "cell_type": "code",
   "execution_count": 33,
   "metadata": {},
   "outputs": [
    {
     "data": {
      "text/plain": [
       "'macedo'"
      ]
     },
     "execution_count": 33,
     "metadata": {},
     "output_type": "execute_result"
    }
   ],
   "source": [
    "students_surnames[students_names.index(\"bianca\")]"
   ]
  },
  {
   "cell_type": "markdown",
   "metadata": {},
   "source": [
    "<b>user input"
   ]
  },
  {
   "cell_type": "code",
   "execution_count": 34,
   "metadata": {
    "scrolled": true
   },
   "outputs": [
    {
     "name": "stdout",
     "output_type": "stream",
     "text": [
      "['tobias', 'srinivasan', 'silvia', 'shushanik', 'rene', 'raphael', 'peter', 'niranjan', 'nelson', 'mercedes', 'marie', 'luca', 'inga', 'hong', 'henrike', 'enrique', 'emma', 'edu', 'dwie', 'denny', 'carlos', 'carla', 'bianca', 'rand']\n",
      "Select one fot the names in the list:edu\n"
     ]
    },
    {
     "data": {
      "text/plain": [
       "'edu'"
      ]
     },
     "execution_count": 34,
     "metadata": {},
     "output_type": "execute_result"
    }
   ],
   "source": [
    "print(students_names)\n",
    "input(\"Select one fot the names in the list:\")"
   ]
  },
  {
   "cell_type": "markdown",
   "metadata": {
    "id": "cIXAV-1PTDQP"
   },
   "source": [
    "## Dictionaries"
   ]
  },
  {
   "cell_type": "markdown",
   "metadata": {
    "id": "dWATnEg2TDQQ"
   },
   "source": [
    "#### Accessing keys & values"
   ]
  },
  {
   "cell_type": "code",
   "execution_count": 35,
   "metadata": {},
   "outputs": [],
   "source": [
    "ages = {\"Flo\":18, \"Rafa\":19, \"Anne\":33}"
   ]
  },
  {
   "cell_type": "code",
   "execution_count": 36,
   "metadata": {},
   "outputs": [
    {
     "data": {
      "text/plain": [
       "{'Flo': 18, 'Rafa': 19, 'Anne': 33}"
      ]
     },
     "execution_count": 36,
     "metadata": {},
     "output_type": "execute_result"
    }
   ],
   "source": [
    "ages"
   ]
  },
  {
   "cell_type": "code",
   "execution_count": 37,
   "metadata": {},
   "outputs": [
    {
     "data": {
      "text/plain": [
       "dict_keys(['Flo', 'Rafa', 'Anne'])"
      ]
     },
     "execution_count": 37,
     "metadata": {},
     "output_type": "execute_result"
    }
   ],
   "source": [
    "ages.keys()"
   ]
  },
  {
   "cell_type": "code",
   "execution_count": 39,
   "metadata": {},
   "outputs": [
    {
     "data": {
      "text/plain": [
       "['Flo', 'Rafa', 'Anne']"
      ]
     },
     "execution_count": 39,
     "metadata": {},
     "output_type": "execute_result"
    }
   ],
   "source": [
    "list(ages.keys())"
   ]
  },
  {
   "cell_type": "code",
   "execution_count": 40,
   "metadata": {},
   "outputs": [
    {
     "data": {
      "text/plain": [
       "dict_values([18, 19, 33])"
      ]
     },
     "execution_count": 40,
     "metadata": {},
     "output_type": "execute_result"
    }
   ],
   "source": [
    "ages.values()"
   ]
  },
  {
   "cell_type": "code",
   "execution_count": 41,
   "metadata": {},
   "outputs": [
    {
     "data": {
      "text/plain": [
       "18"
      ]
     },
     "execution_count": 41,
     "metadata": {},
     "output_type": "execute_result"
    }
   ],
   "source": [
    "ages[\"Flo\"]"
   ]
  },
  {
   "cell_type": "code",
   "execution_count": 42,
   "metadata": {},
   "outputs": [
    {
     "data": {
      "text/plain": [
       "3"
      ]
     },
     "execution_count": 42,
     "metadata": {},
     "output_type": "execute_result"
    }
   ],
   "source": [
    "len(ages)"
   ]
  },
  {
   "cell_type": "code",
   "execution_count": 43,
   "metadata": {},
   "outputs": [
    {
     "data": {
      "text/plain": [
       "dict_items([('Flo', 18), ('Rafa', 19), ('Anne', 33)])"
      ]
     },
     "execution_count": 43,
     "metadata": {},
     "output_type": "execute_result"
    }
   ],
   "source": [
    "ages.items()"
   ]
  },
  {
   "cell_type": "markdown",
   "metadata": {
    "id": "S71yWy_TTDQR"
   },
   "source": [
    "#### Iterate through dictionary"
   ]
  },
  {
   "cell_type": "code",
   "execution_count": 46,
   "metadata": {},
   "outputs": [
    {
     "name": "stdout",
     "output_type": "stream",
     "text": [
      "Flo 18\n",
      "Rafa 19\n",
      "Anne 33\n"
     ]
    }
   ],
   "source": [
    "for key,value in ages.items():\n",
    "    \n",
    "    print(key + \" \" + str(value))"
   ]
  },
  {
   "cell_type": "markdown",
   "metadata": {
    "id": "_1gzqo1QTDQR"
   },
   "source": [
    "#### Nested dictionaries\n",
    "\n",
    "Create a dictionary of teachers. For it teacher, it stores their age, role and the city where they live."
   ]
  },
  {
   "cell_type": "code",
   "execution_count": 47,
   "metadata": {},
   "outputs": [],
   "source": [
    "teachers_dict = {\n",
    "\"Raafat\":{\n",
    "\"age\": 19,\n",
    "\"role\":\"LT\",\n",
    "\"city_residence\":\"Berlin\"\n",
    "},\n",
    "\"Flo\":{\n",
    "\"age\":18,\n",
    "\"role\":\"TA\",\n",
    "\"city_residence\":\"Cologne\"\n",
    "},\n",
    "\"Anne\":{\n",
    "\"age\":33,\n",
    "\"role\":\"TA\",\n",
    "\"city_residence\":\"Berlin\"\n",
    "}\n",
    "}"
   ]
  },
  {
   "cell_type": "code",
   "execution_count": 48,
   "metadata": {},
   "outputs": [
    {
     "data": {
      "text/plain": [
       "{'age': 19, 'role': 'LT', 'city_residence': 'Berlin'}"
      ]
     },
     "execution_count": 48,
     "metadata": {},
     "output_type": "execute_result"
    }
   ],
   "source": [
    "teachers_dict[\"Raafat\"]"
   ]
  },
  {
   "cell_type": "code",
   "execution_count": 49,
   "metadata": {},
   "outputs": [
    {
     "data": {
      "text/plain": [
       "19"
      ]
     },
     "execution_count": 49,
     "metadata": {},
     "output_type": "execute_result"
    }
   ],
   "source": [
    "teachers_dict[\"Raafat\"][\"age\"]"
   ]
  },
  {
   "cell_type": "markdown",
   "metadata": {
    "id": "dk6riaYKTDQS"
   },
   "source": [
    "#### Print only name of teachers who live in Berlin"
   ]
  },
  {
   "cell_type": "code",
   "execution_count": 54,
   "metadata": {},
   "outputs": [
    {
     "name": "stdout",
     "output_type": "stream",
     "text": [
      "Raafat lives in Berlin.\n",
      "Anne lives in Berlin.\n"
     ]
    }
   ],
   "source": [
    "for key,value in teachers_dict.items():\n",
    "    \n",
    "    if value[\"city_residence\"] == \"Berlin\":\n",
    "        \n",
    "        print(key + \" lives in Berlin.\")"
   ]
  },
  {
   "cell_type": "markdown",
   "metadata": {
    "id": "6doqUoN5TDQS"
   },
   "source": [
    "## Tuples"
   ]
  },
  {
   "cell_type": "code",
   "execution_count": 60,
   "metadata": {},
   "outputs": [],
   "source": [
    "teachers_tuple = tuple(Teachers)"
   ]
  },
  {
   "cell_type": "code",
   "execution_count": 61,
   "metadata": {},
   "outputs": [
    {
     "data": {
      "text/plain": [
       "'Anne'"
      ]
     },
     "execution_count": 61,
     "metadata": {},
     "output_type": "execute_result"
    }
   ],
   "source": [
    "teachers_tuple[1]"
   ]
  },
  {
   "cell_type": "code",
   "execution_count": 62,
   "metadata": {},
   "outputs": [
    {
     "ename": "TypeError",
     "evalue": "'tuple' object does not support item assignment",
     "output_type": "error",
     "traceback": [
      "\u001b[1;31m---------------------------------------------------------------------------\u001b[0m",
      "\u001b[1;31mTypeError\u001b[0m                                 Traceback (most recent call last)",
      "\u001b[1;32m~\\AppData\\Local\\Temp/ipykernel_10492/592385316.py\u001b[0m in \u001b[0;36m<module>\u001b[1;34m\u001b[0m\n\u001b[1;32m----> 1\u001b[1;33m \u001b[0mteachers_tuple\u001b[0m\u001b[1;33m[\u001b[0m\u001b[1;36m1\u001b[0m\u001b[1;33m]\u001b[0m \u001b[1;33m=\u001b[0m \u001b[1;34m\"Pep\"\u001b[0m\u001b[1;33m\u001b[0m\u001b[1;33m\u001b[0m\u001b[0m\n\u001b[0m",
      "\u001b[1;31mTypeError\u001b[0m: 'tuple' object does not support item assignment"
     ]
    }
   ],
   "source": [
    "teachers_tuple[1] = \"Pep\""
   ]
  },
  {
   "cell_type": "markdown",
   "metadata": {
    "id": "aiyy0TvZTDQT"
   },
   "source": [
    "## Sets"
   ]
  },
  {
   "cell_type": "markdown",
   "metadata": {
    "id": "hBrTNpyUTDQU"
   },
   "source": [
    "#### Take a random sample (with replacement) of 100 numbers from 1 to 100:"
   ]
  },
  {
   "cell_type": "markdown",
   "metadata": {
    "id": "4fvrNF5MTDQU"
   },
   "source": [
    "What is the expected proportion of unique elements when taking samples with replacement of the same size of the population?\n",
    "\n",
    "Too soon for statistics: take a hacker approach - repeat the operation a few thousand times and report the average."
   ]
  },
  {
   "cell_type": "code",
   "execution_count": 84,
   "metadata": {
    "executionInfo": {
     "elapsed": 179,
     "status": "ok",
     "timestamp": 1622473590721,
     "user": {
      "displayName": "Ignacio Soteras",
      "photoUrl": "",
      "userId": "02050793736257155229"
     },
     "user_tz": -120
    },
    "id": "M7gJayegTDQV"
   },
   "outputs": [],
   "source": [
    "import statistics"
   ]
  },
  {
   "cell_type": "code",
   "execution_count": 85,
   "metadata": {},
   "outputs": [
    {
     "ename": "SyntaxError",
     "evalue": "invalid syntax (Temp/ipykernel_10492/1260615849.py, line 3)",
     "output_type": "error",
     "traceback": [
      "\u001b[1;36m  File \u001b[1;32m\"C:\\Users\\ehern\\AppData\\Local\\Temp/ipykernel_10492/1260615849.py\"\u001b[1;36m, line \u001b[1;32m3\u001b[0m\n\u001b[1;33m    for in range(100):\u001b[0m\n\u001b[1;37m        ^\u001b[0m\n\u001b[1;31mSyntaxError\u001b[0m\u001b[1;31m:\u001b[0m invalid syntax\n"
     ]
    }
   ],
   "source": [
    "random_numbers = []\n",
    "\n",
    "for in range(100):\n",
    "    \n",
    "    random_numbers.append(random.randint(1,100))"
   ]
  },
  {
   "cell_type": "markdown",
   "metadata": {},
   "source": [
    "### Set items are immutable"
   ]
  },
  {
   "cell_type": "code",
   "execution_count": 65,
   "metadata": {},
   "outputs": [],
   "source": [
    "set1 = {1,2,3}"
   ]
  },
  {
   "cell_type": "code",
   "execution_count": 66,
   "metadata": {},
   "outputs": [
    {
     "ename": "TypeError",
     "evalue": "unhashable type: 'list'",
     "output_type": "error",
     "traceback": [
      "\u001b[1;31m---------------------------------------------------------------------------\u001b[0m",
      "\u001b[1;31mTypeError\u001b[0m                                 Traceback (most recent call last)",
      "\u001b[1;32m~\\AppData\\Local\\Temp/ipykernel_10492/4000789812.py\u001b[0m in \u001b[0;36m<module>\u001b[1;34m\u001b[0m\n\u001b[1;32m----> 1\u001b[1;33m \u001b[0mset2\u001b[0m \u001b[1;33m=\u001b[0m \u001b[1;33m{\u001b[0m\u001b[1;36m1\u001b[0m\u001b[1;33m,\u001b[0m\u001b[1;36m2\u001b[0m\u001b[1;33m,\u001b[0m\u001b[1;33m[\u001b[0m\u001b[1;36m1\u001b[0m\u001b[1;33m,\u001b[0m\u001b[1;36m2\u001b[0m\u001b[1;33m]\u001b[0m\u001b[1;33m}\u001b[0m\u001b[1;33m\u001b[0m\u001b[1;33m\u001b[0m\u001b[0m\n\u001b[0m\u001b[0;32m      2\u001b[0m \u001b[1;31m# Set elements should be immutable.\u001b[0m\u001b[1;33m\u001b[0m\u001b[1;33m\u001b[0m\u001b[1;33m\u001b[0m\u001b[0m\n",
      "\u001b[1;31mTypeError\u001b[0m: unhashable type: 'list'"
     ]
    }
   ],
   "source": [
    "set2 = {1,2,[1,2]} \n",
    "# Set elements should be immutable."
   ]
  },
  {
   "cell_type": "code",
   "execution_count": 67,
   "metadata": {},
   "outputs": [],
   "source": [
    "set3 = {1,2,(1,2)} "
   ]
  },
  {
   "cell_type": "markdown",
   "metadata": {},
   "source": [
    "### set union"
   ]
  },
  {
   "cell_type": "code",
   "execution_count": 68,
   "metadata": {},
   "outputs": [],
   "source": [
    "x = {\"apple\", \"banana\", \"cherry\"}\n",
    "y = {\"google\", \"microsoft\", \"apple\"}\n",
    "\n",
    "z = x.union(y)"
   ]
  },
  {
   "cell_type": "code",
   "execution_count": 69,
   "metadata": {},
   "outputs": [
    {
     "data": {
      "text/plain": [
       "{'apple', 'banana', 'cherry', 'google', 'microsoft'}"
      ]
     },
     "execution_count": 69,
     "metadata": {},
     "output_type": "execute_result"
    }
   ],
   "source": [
    "z"
   ]
  },
  {
   "cell_type": "code",
   "execution_count": 70,
   "metadata": {},
   "outputs": [],
   "source": [
    "zz = x.intersection(y)"
   ]
  },
  {
   "cell_type": "code",
   "execution_count": 71,
   "metadata": {},
   "outputs": [
    {
     "data": {
      "text/plain": [
       "{'apple'}"
      ]
     },
     "execution_count": 71,
     "metadata": {},
     "output_type": "execute_result"
    }
   ],
   "source": [
    "zz"
   ]
  },
  {
   "cell_type": "code",
   "execution_count": 73,
   "metadata": {},
   "outputs": [],
   "source": [
    "x = (1, 2, 3, 4, 5, 6, 6, 6)"
   ]
  },
  {
   "cell_type": "code",
   "execution_count": 75,
   "metadata": {},
   "outputs": [
    {
     "data": {
      "text/plain": [
       "{1, 2, 3, 4, 5, 6}"
      ]
     },
     "execution_count": 75,
     "metadata": {},
     "output_type": "execute_result"
    }
   ],
   "source": [
    "set(x) # Perfect to remove duplicates"
   ]
  },
  {
   "cell_type": "code",
   "execution_count": null,
   "metadata": {},
   "outputs": [],
   "source": []
  }
 ],
 "metadata": {
  "colab": {
   "name": "Code Along Object Types.ipynb",
   "provenance": []
  },
  "kernelspec": {
   "display_name": "Python 3 (ipykernel)",
   "language": "python",
   "name": "python3"
  },
  "language_info": {
   "codemirror_mode": {
    "name": "ipython",
    "version": 3
   },
   "file_extension": ".py",
   "mimetype": "text/x-python",
   "name": "python",
   "nbconvert_exporter": "python",
   "pygments_lexer": "ipython3",
   "version": "3.9.6"
  }
 },
 "nbformat": 4,
 "nbformat_minor": 1
}
