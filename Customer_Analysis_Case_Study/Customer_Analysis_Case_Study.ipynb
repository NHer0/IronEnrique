{
 "cells": [
  {
   "cell_type": "code",
   "execution_count": null,
   "metadata": {},
   "outputs": [],
   "source": []
  }
 ],
 "metadata": {
  "interpreter": {
   "hash": "350fa199ac5972690c7e339cc739f563045f32da9cdb6c3e3b5da606ff6ebbd1"
  },
  "kernelspec": {
   "display_name": "Python 3.9.0 64-bit ('DA_Environment': conda)",
   "name": "python3"
  },
  "language_info": {
   "name": "python",
   "version": "3.9.0"
  },
  "orig_nbformat": 4
 },
 "nbformat": 4,
 "nbformat_minor": 2
}
