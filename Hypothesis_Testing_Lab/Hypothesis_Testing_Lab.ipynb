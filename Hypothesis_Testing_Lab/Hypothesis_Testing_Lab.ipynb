{
 "cells": [
  {
   "cell_type": "markdown",
   "metadata": {},
   "source": [
    "# Lab | Hypothesis Testing\n",
    "\n",
    "\n",
    "### Instructions\n",
    "\n",
    " 1. It is assumed that the mean systolic blood pressure is `μ = 120 mm Hg`. In the Honolulu Heart Study, a sample of `n = 100` people had an average systolic blood pressure of 130.1 mm Hg with a standard deviation of 21.21 mm Hg. Is the group significantly different (with respect to systolic blood pressure!) from the regular population?\n",
    "\n",
    "   - Set up the hypothesis test.\n",
    "   - Write down all the steps followed for setting up the test.\n",
    "   - Calculate the test statistic by hand and also code it in Python. It should be 4.76190. What decision can you make based on this calculated value? \n",
    "\n"
   ]
  },
  {
   "cell_type": "markdown",
   "metadata": {},
   "source": [
    "1. First we enunciate our null (H0) and alternative (Ha) hypotheses:\n",
    "\n",
    "    - H0 - The  average systolic blood pressure of the selected group is 120mmHG\n",
    "    - Ha - The  average systolic blood pressure of the selected group is not 120mmHG\n",
    "2. We choose a confidence level. We will use the commonly use 95%\n",
    "3. We compute the test statistic for our sample, i.e. t parameter. We use the t parameter because although the test sample size is bigger than 30 we don't know the population standard deviation\n",
    "    - t = (sample_mean - population_mean)/(sample_std_corr/(sample_size)^0.5) = (130.1 - 120)/(21.21/(100)^0.5) = 4.7619\n",
    "    - sample_mean = 130.1mmHG\n",
    "    - population_mean = 120mmHG\n",
    "    - sample_std_corr = 21.21\n",
    "    - sample_size = 100\n",
    "4. We compare our t score with the t critical for a two tailed test an a 95% confidence level\n",
    "5. Looking into a t-table, the t critical is 1.984 (approx. for a degree of freedom = 100 instead of 99)\n",
    "6. Our t score is well above our t-critical and therefore we are in the rejection zone. We should reject our H0\n",
    "7. onclusion: The  average systolic blood pressure of the selected group is different\n"
   ]
  },
  {
   "cell_type": "code",
   "execution_count": 1,
   "metadata": {},
   "outputs": [],
   "source": [
    "import numpy as np\n",
    "from scipy.stats import t"
   ]
  },
  {
   "cell_type": "code",
   "execution_count": 2,
   "metadata": {},
   "outputs": [],
   "source": [
    "sample_mean = 130.1\n",
    "population_mean = 120\n",
    "sample_std = 21.21\n",
    "n = 100"
   ]
  },
  {
   "cell_type": "code",
   "execution_count": 3,
   "metadata": {},
   "outputs": [
    {
     "data": {
      "text/plain": [
       "4.761904761904759"
      ]
     },
     "execution_count": 3,
     "metadata": {},
     "output_type": "execute_result"
    }
   ],
   "source": [
    "t = (sample_mean - population_mean)/(sample_std/np.sqrt(n))"
   ]
  },
  {
   "cell_type": "code",
   "execution_count": 4,
   "metadata": {},
   "outputs": [],
   "source": [
    "tc = t.ppf(0.975, n-1)"
   ]
  },
  {
   "cell_type": "code",
   "execution_count": 5,
   "metadata": {},
   "outputs": [
    {
     "data": {
      "text/plain": [
       "1.9842169515086827"
      ]
     },
     "execution_count": 5,
     "metadata": {},
     "output_type": "execute_result"
    }
   ],
   "source": [
    "tc"
   ]
  }
 ],
 "metadata": {
  "interpreter": {
   "hash": "06f0efb8c313447c71f64cab399bf2f53a17127c99d584d929d84a2f7db1cd8d"
  },
  "kernelspec": {
   "display_name": "Python 3.9.0 64-bit ('DA_Environment': conda)",
   "language": "python",
   "name": "python3"
  },
  "language_info": {
   "codemirror_mode": {
    "name": "ipython",
    "version": 3
   },
   "file_extension": ".py",
   "mimetype": "text/x-python",
   "name": "python",
   "nbconvert_exporter": "python",
   "pygments_lexer": "ipython3",
   "version": "3.9.0"
  },
  "orig_nbformat": 4
 },
 "nbformat": 4,
 "nbformat_minor": 2
}
