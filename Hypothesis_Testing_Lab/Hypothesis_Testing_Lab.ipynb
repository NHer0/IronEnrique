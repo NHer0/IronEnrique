{
 "cells": [
  {
   "cell_type": "code",
   "execution_count": 62,
   "metadata": {},
   "outputs": [],
   "source": [
    "import numpy as np\n",
    "from scipy.stats import t\n",
    "import pandas as pd"
   ]
  },
  {
   "cell_type": "markdown",
   "metadata": {},
   "source": [
    "# Lab | Hypothesis Testing\n",
    "\n",
    "\n",
    "## Instructions\n",
    "\n",
    " ### It is assumed that the mean systolic blood pressure is `μ = 120 mm Hg`. In the Honolulu Heart Study, a sample of `n = 100` people had an average systolic blood pressure of 130.1 mm Hg with a standard deviation of 21.21 mm Hg. Is the group significantly different (with respect to systolic blood pressure!) from the regular population?\n",
    "\n",
    "   - Set up the hypothesis test.\n",
    "   - Write down all the steps followed for setting up the test.\n",
    "   - Calculate the test statistic by hand and also code it in Python. It should be 4.76190. What decision can you make based on this calculated value? \n",
    "\n"
   ]
  },
  {
   "cell_type": "markdown",
   "metadata": {},
   "source": [
    "1. First we enunciate our null (H0) and alternative (Ha) hypotheses:\n",
    "\n",
    "    - H0 - The  average systolic blood pressure of the selected group is 120mmHG\n",
    "    - Ha - The  average systolic blood pressure of the selected group is not 120mmHG"
   ]
  },
  {
   "cell_type": "markdown",
   "metadata": {},
   "source": [
    "2. We choose a confidence level. We will use the commonly used 95%"
   ]
  },
  {
   "cell_type": "markdown",
   "metadata": {},
   "source": [
    "3. We compute the test statistic for our sample, i.e. t parameter. We use the t parameter because although the test sample size is bigger than 30 we don't know the population standard deviation:\n",
    "\n",
    "$$t = \\displaystyle \\frac{\\hat{x}-\\mu}{\\frac{\\sigma_{x}}{\\sqrt{n}}}$$\n",
    "\n",
    "- $\\hat{x} = \\text{Sample Mean = 130.1 mmHG}$\n",
    "- $\\mu = \\text{Population Mean = 120 mmHG}$\n",
    "- $\\sigma_{x} = \\text{Corrected Sample Standard Deviation =  21.21 mmHG}$\n",
    "- $n = \\text{Sample Size = 100}$\n"
   ]
  },
  {
   "cell_type": "code",
   "execution_count": 63,
   "metadata": {},
   "outputs": [],
   "source": [
    "sample_mean = 130.1\n",
    "population_mean = 120\n",
    "sample_std = 21.21\n",
    "n = 100"
   ]
  },
  {
   "cell_type": "code",
   "execution_count": 64,
   "metadata": {},
   "outputs": [
    {
     "data": {
      "text/plain": [
       "4.761904761904759"
      ]
     },
     "execution_count": 64,
     "metadata": {},
     "output_type": "execute_result"
    }
   ],
   "source": [
    "t_score = (sample_mean - population_mean)/(sample_std/np.sqrt(n))\n",
    "t_score"
   ]
  },
  {
   "cell_type": "markdown",
   "metadata": {},
   "source": [
    "4. We compare our t_score with the t_critical for a two tailed test an a 95% confidence level"
   ]
  },
  {
   "cell_type": "markdown",
   "metadata": {},
   "source": [
    "5. Looking into a t-table, the t critical is 1.984 (approx. for a degree of freedom = 100 instead of 99). We can also calcualte t_critical using the cumulative distribution t function provided by scipy"
   ]
  },
  {
   "cell_type": "code",
   "execution_count": 65,
   "metadata": {},
   "outputs": [
    {
     "data": {
      "text/plain": [
       "1.9842169515086827"
      ]
     },
     "execution_count": 65,
     "metadata": {},
     "output_type": "execute_result"
    }
   ],
   "source": [
    "tc = t.ppf(0.975, n-1)\n",
    "tc"
   ]
  },
  {
   "cell_type": "markdown",
   "metadata": {},
   "source": [
    "6. Our t_score is well above our t_critical and therefore we are in the rejection zone. We should reject our H0.\n"
   ]
  },
  {
   "cell_type": "markdown",
   "metadata": {},
   "source": [
    "\n",
    "7. Conclusion: The  average systolic blood pressure of the selected group is different to the population one\n"
   ]
  },
  {
   "cell_type": "markdown",
   "metadata": {},
   "source": [
    "### In a packing plant, a machine packs cartons with jars. It is supposed that a new machine will pack faster on the average than the machine currently used. To test that hypothesis, the times it takes each machine to pack ten cartons are recorded. The results, in seconds, are shown in the tables in the file `Data/machine.txt`. Assume that there is sufficient evidence to conduct the t test, does the data provide sufficient evidence to show if one machine is better than the other"
   ]
  },
  {
   "cell_type": "markdown",
   "metadata": {},
   "source": [
    "- H0: The new machine is not better than the old one, $\\hat{x}_{new} <= \\hat{x}_{old}$\n",
    "- Ha: The new machine is better than the old one, $\\hat{x}_{new} > \\hat{x}_{old}$\n"
   ]
  },
  {
   "cell_type": "code",
   "execution_count": 66,
   "metadata": {},
   "outputs": [],
   "source": [
    "df = pd.read_csv(\"Data/Data_Machine.txt\", sep=\"\\t\")\n",
    "df = df.rename(columns = {'  Old Machine': 'Old Machine'})"
   ]
  },
  {
   "cell_type": "code",
   "execution_count": 67,
   "metadata": {},
   "outputs": [],
   "source": [
    "n = 10\n",
    "new_mean = round(np.mean(df[\"New Machine\"]),2)\n",
    "old_mean = round(np.mean(df[\"Old Machine\"]),2)\n",
    "new_std = round(np.std(df[\"New Machine\"]),2)\n",
    "old_std = round(np.std(df[\"Old Machine\"]),2)"
   ]
  },
  {
   "cell_type": "code",
   "execution_count": 68,
   "metadata": {},
   "outputs": [
    {
     "name": "stdout",
     "output_type": "stream",
     "text": [
      "The parameters of the new machine sample are: mean = 42.14 and std = 0.65\n",
      "The parameters of the old machine sample are: mean = 43.23 and std = 0.71\n"
     ]
    }
   ],
   "source": [
    "print(f'The parameters of the new machine sample are: mean = {new_mean} and std = {new_std}')\n",
    "print(f'The parameters of the old machine sample are: mean = {old_mean} and std = {old_std}')"
   ]
  },
  {
   "cell_type": "code",
   "execution_count": 69,
   "metadata": {},
   "outputs": [
    {
     "data": {
      "text/plain": [
       "-3.58"
      ]
     },
     "execution_count": 69,
     "metadata": {},
     "output_type": "execute_result"
    }
   ],
   "source": [
    "t_value = round((new_mean - old_mean)/np.sqrt((new_std**2/n)+(old_std**2/n)),2)\n",
    "t_value"
   ]
  },
  {
   "cell_type": "code",
   "execution_count": 70,
   "metadata": {},
   "outputs": [
    {
     "name": "stdout",
     "output_type": "stream",
     "text": [
      "The t value of the two samples is t = -3.58\n"
     ]
    }
   ],
   "source": [
    "print(f'The t value of the two samples is t = {t_value}')"
   ]
  },
  {
   "cell_type": "code",
   "execution_count": 71,
   "metadata": {},
   "outputs": [
    {
     "data": {
      "text/plain": [
       "1.83"
      ]
     },
     "execution_count": 71,
     "metadata": {},
     "output_type": "execute_result"
    }
   ],
   "source": [
    "tc = round(t.ppf(0.95,n-1),2)\n",
    "tc"
   ]
  },
  {
   "cell_type": "code",
   "execution_count": 72,
   "metadata": {},
   "outputs": [
    {
     "name": "stdout",
     "output_type": "stream",
     "text": [
      "The experiment t critical for a 95% confidence level is 1.83\n"
     ]
    }
   ],
   "source": [
    "print(f'The experiment t critical for a 95% confidence level is {tc}')"
   ]
  },
  {
   "cell_type": "markdown",
   "metadata": {},
   "source": [
    "The t_value is outside the rejection zone and therefore the null hypothesis shoulbe accepted."
   ]
  },
  {
   "cell_type": "markdown",
   "metadata": {},
   "source": [
    "Conclusion: The new machine is not better than the old one."
   ]
  },
  {
   "cell_type": "markdown",
   "metadata": {},
   "source": []
  }
 ],
 "metadata": {
  "interpreter": {
   "hash": "06f0efb8c313447c71f64cab399bf2f53a17127c99d584d929d84a2f7db1cd8d"
  },
  "kernelspec": {
   "display_name": "Python 3.9.0 64-bit ('DA_Environment': conda)",
   "language": "python",
   "name": "python3"
  },
  "language_info": {
   "codemirror_mode": {
    "name": "ipython",
    "version": 3
   },
   "file_extension": ".py",
   "mimetype": "text/x-python",
   "name": "python",
   "nbconvert_exporter": "python",
   "pygments_lexer": "ipython3",
   "version": "3.9.0"
  },
  "orig_nbformat": 4
 },
 "nbformat": 4,
 "nbformat_minor": 2
}
