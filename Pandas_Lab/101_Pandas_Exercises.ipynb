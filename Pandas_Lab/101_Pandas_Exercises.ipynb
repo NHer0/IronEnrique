{
 "cells": [
  {
   "cell_type": "markdown",
   "metadata": {},
   "source": [
    "# 1. How to import pandas and check the version?"
   ]
  },
  {
   "cell_type": "code",
   "execution_count": 15,
   "metadata": {},
   "outputs": [
    {
     "data": {
      "text/plain": [
       "'1.3.3'"
      ]
     },
     "execution_count": 15,
     "metadata": {},
     "output_type": "execute_result"
    }
   ],
   "source": [
    "import pandas as pd\n",
    "\n",
    "pd.__version__"
   ]
  },
  {
   "cell_type": "markdown",
   "metadata": {},
   "source": [
    "# 2. How to create a series from a list, numpy array and dict?"
   ]
  },
  {
   "cell_type": "code",
   "execution_count": 16,
   "metadata": {},
   "outputs": [],
   "source": [
    "import numpy as np\n",
    "\n",
    "mylist = list('abcedfghijklmnopqrstuvwxyz')\n",
    "myarr = np.arange(26)\n",
    "mydict = dict(zip(mylist, myarr))\n",
    "\n",
    "ser_list = pd.Series(mylist)\n",
    "ser_array = pd.Series(myarr)\n",
    "ser_dict = pd.Series(mydict)\n",
    "\n"
   ]
  },
  {
   "cell_type": "markdown",
   "metadata": {},
   "source": [
    "# 3. How to convert the index of a series into a column of a dataframe?"
   ]
  },
  {
   "cell_type": "code",
   "execution_count": 17,
   "metadata": {},
   "outputs": [
    {
     "name": "stdout",
     "output_type": "stream",
     "text": [
      "a     0\n",
      "b     1\n",
      "c     2\n",
      "e     3\n",
      "d     4\n",
      "f     5\n",
      "g     6\n",
      "h     7\n",
      "i     8\n",
      "j     9\n",
      "k    10\n",
      "l    11\n",
      "m    12\n",
      "n    13\n",
      "o    14\n",
      "p    15\n",
      "q    16\n",
      "r    17\n",
      "s    18\n",
      "t    19\n",
      "u    20\n",
      "v    21\n",
      "w    22\n",
      "x    23\n",
      "y    24\n",
      "z    25\n",
      "dtype: int32\n",
      "   index   0\n",
      "0      a   0\n",
      "1      b   1\n",
      "2      c   2\n",
      "3      e   3\n",
      "4      d   4\n",
      "5      f   5\n",
      "6      g   6\n",
      "7      h   7\n",
      "8      i   8\n",
      "9      j   9\n",
      "10     k  10\n",
      "11     l  11\n",
      "12     m  12\n",
      "13     n  13\n",
      "14     o  14\n",
      "15     p  15\n",
      "16     q  16\n",
      "17     r  17\n",
      "18     s  18\n",
      "19     t  19\n",
      "20     u  20\n",
      "21     v  21\n",
      "22     w  22\n",
      "23     x  23\n",
      "24     y  24\n",
      "25     z  25\n"
     ]
    }
   ],
   "source": [
    "mylist = list('abcedfghijklmnopqrstuvwxyz')\n",
    "myarr = np.arange(26)\n",
    "mydict = dict(zip(mylist, myarr))\n",
    "ser = pd.Series(mydict)\n",
    "\n",
    "print(ser)\n",
    "ser.index\n",
    "\n",
    "df = ser.to_frame().reset_index()\n",
    "\n",
    "print(df)"
   ]
  },
  {
   "cell_type": "markdown",
   "metadata": {},
   "source": [
    "# 4. How to combine many series to form a dataframe?"
   ]
  },
  {
   "cell_type": "code",
   "execution_count": 18,
   "metadata": {},
   "outputs": [],
   "source": [
    "ser1 = pd.Series(list('abcedfghijklmnopqrstuvwxyz'))\n",
    "ser2 = pd.Series(np.arange(26))"
   ]
  },
  {
   "cell_type": "code",
   "execution_count": 19,
   "metadata": {},
   "outputs": [
    {
     "name": "stdout",
     "output_type": "stream",
     "text": [
      "    0   1\n",
      "0   a   0\n",
      "1   b   1\n",
      "2   c   2\n",
      "3   e   3\n",
      "4   d   4\n",
      "5   f   5\n",
      "6   g   6\n",
      "7   h   7\n",
      "8   i   8\n",
      "9   j   9\n",
      "10  k  10\n",
      "11  l  11\n",
      "12  m  12\n",
      "13  n  13\n",
      "14  o  14\n",
      "15  p  15\n",
      "16  q  16\n",
      "17  r  17\n",
      "18  s  18\n",
      "19  t  19\n",
      "20  u  20\n",
      "21  v  21\n",
      "22  w  22\n",
      "23  x  23\n",
      "24  y  24\n",
      "25  z  25\n"
     ]
    }
   ],
   "source": [
    "df = pd.concat([ser1, ser2], axis=1)\n",
    "print(df)"
   ]
  },
  {
   "cell_type": "code",
   "execution_count": 20,
   "metadata": {},
   "outputs": [
    {
     "name": "stdout",
     "output_type": "stream",
     "text": [
      "  col1  col2\n",
      "0    a     0\n",
      "1    b     1\n",
      "2    c     2\n",
      "3    e     3\n",
      "4    d     4\n"
     ]
    }
   ],
   "source": [
    "df = pd.DataFrame({'col1': ser1, 'col2': ser2})\n",
    "print(df.head())"
   ]
  },
  {
   "cell_type": "markdown",
   "metadata": {},
   "source": [
    "# 5. How to assign name to the series’ index?"
   ]
  },
  {
   "cell_type": "code",
   "execution_count": 21,
   "metadata": {},
   "outputs": [
    {
     "data": {
      "text/plain": [
       "<bound method NDFrame.head of 0     a\n",
       "1     b\n",
       "2     c\n",
       "3     e\n",
       "4     d\n",
       "5     f\n",
       "6     g\n",
       "7     h\n",
       "8     i\n",
       "9     j\n",
       "10    k\n",
       "11    l\n",
       "12    m\n",
       "13    n\n",
       "14    o\n",
       "15    p\n",
       "16    q\n",
       "17    r\n",
       "18    s\n",
       "19    t\n",
       "20    u\n",
       "21    v\n",
       "22    w\n",
       "23    x\n",
       "24    y\n",
       "25    z\n",
       "Name: alphabets, dtype: object>"
      ]
     },
     "execution_count": 21,
     "metadata": {},
     "output_type": "execute_result"
    }
   ],
   "source": [
    "ser = pd.Series(list('abcedfghijklmnopqrstuvwxyz'))\n",
    "\n",
    "ser.name = \"alphabets\"\n",
    "\n",
    "ser.head\n"
   ]
  },
  {
   "cell_type": "markdown",
   "metadata": {},
   "source": [
    "# 6. How to get the items of series A not present in series B?"
   ]
  },
  {
   "cell_type": "code",
   "execution_count": 22,
   "metadata": {},
   "outputs": [],
   "source": [
    "ser1 = pd.Series([1, 2, 3, 4, 5])\n",
    "ser2 = pd.Series([4, 5, 6, 7, 8])"
   ]
  },
  {
   "cell_type": "code",
   "execution_count": 23,
   "metadata": {},
   "outputs": [
    {
     "data": {
      "text/plain": [
       "0    1\n",
       "1    2\n",
       "2    3\n",
       "dtype: int64"
      ]
     },
     "execution_count": 23,
     "metadata": {},
     "output_type": "execute_result"
    }
   ],
   "source": [
    "ser1[~ser1.isin(ser2)]"
   ]
  },
  {
   "cell_type": "markdown",
   "metadata": {},
   "source": [
    "# 7. How to get the items not common to both series A and series B?"
   ]
  },
  {
   "cell_type": "code",
   "execution_count": 24,
   "metadata": {},
   "outputs": [
    {
     "name": "stdout",
     "output_type": "stream",
     "text": [
      "0    1\n",
      "1    2\n",
      "2    3\n",
      "2    6\n",
      "3    7\n",
      "4    8\n",
      "dtype: int64\n"
     ]
    }
   ],
   "source": [
    "ser3 = pd.concat([ser1[~ser1.isin(ser2)], ser2[~ser2.isin(ser1)]])\n",
    "\n",
    "print(ser3)"
   ]
  },
  {
   "cell_type": "markdown",
   "metadata": {},
   "source": [
    "# 8 How to get the minimum, 25th percentile, median, 75th, and max of a numeric series?"
   ]
  },
  {
   "cell_type": "code",
   "execution_count": 25,
   "metadata": {},
   "outputs": [
    {
     "name": "stdout",
     "output_type": "stream",
     "text": [
      "0     12.862814\n",
      "1     17.014515\n",
      "2     17.678057\n",
      "3     13.034268\n",
      "4      5.311458\n",
      "5      6.597315\n",
      "6     16.212327\n",
      "7     14.153294\n",
      "8     11.613813\n",
      "9     10.728301\n",
      "10     4.816992\n",
      "11    15.312965\n",
      "12    13.031797\n",
      "13    11.199946\n",
      "14     2.929020\n",
      "15    11.397564\n",
      "16    11.964564\n",
      "17    12.974423\n",
      "18     7.454841\n",
      "19    17.974499\n",
      "20    18.967128\n",
      "21     1.669077\n",
      "22     3.059955\n",
      "23     9.037979\n",
      "24    15.112724\n",
      "dtype: float64\n",
      "1.669077030000473\n",
      "11.964563525149087\n"
     ]
    },
    {
     "data": {
      "text/plain": [
       "array([ 1.66907703,  7.45484058, 11.96456353, 15.11272395, 18.96712752])"
      ]
     },
     "execution_count": 25,
     "metadata": {},
     "output_type": "execute_result"
    }
   ],
   "source": [
    "ser = pd.Series(np.random.normal(10, 5, 25))\n",
    "\n",
    "print(ser)\n",
    "\n",
    "ser_min = print(ser.min())\n",
    "ser_25 = ser.quantile(q=0.25)\n",
    "ser_50 = print(ser.quantile(q=0.5))\n",
    "ser_75 = ser.quantile(q=0.75)\n",
    "ser_max = ser.max()\n",
    "\n",
    "np.percentile(ser, q=[0, 25, 50, 75, 100])"
   ]
  },
  {
   "cell_type": "markdown",
   "metadata": {},
   "source": [
    "# 9. How to get frequency counts of unique items of a series?"
   ]
  },
  {
   "cell_type": "code",
   "execution_count": 26,
   "metadata": {},
   "outputs": [
    {
     "name": "stdout",
     "output_type": "stream",
     "text": [
      "0     h\n",
      "1     g\n",
      "2     g\n",
      "3     h\n",
      "4     g\n",
      "5     g\n",
      "6     b\n",
      "7     d\n",
      "8     e\n",
      "9     a\n",
      "10    e\n",
      "11    d\n",
      "12    d\n",
      "13    d\n",
      "14    c\n",
      "15    e\n",
      "16    g\n",
      "17    g\n",
      "18    g\n",
      "19    c\n",
      "20    h\n",
      "21    h\n",
      "22    c\n",
      "23    a\n",
      "24    c\n",
      "25    c\n",
      "26    a\n",
      "27    h\n",
      "28    c\n",
      "29    d\n",
      "dtype: object\n"
     ]
    }
   ],
   "source": [
    "ser = pd.Series(np.take(list('abcdefgh'), np.random.randint(8, size=30)))\n",
    "\n",
    "print(ser)\n"
   ]
  },
  {
   "cell_type": "code",
   "execution_count": 27,
   "metadata": {},
   "outputs": [
    {
     "data": {
      "text/plain": [
       "g    7\n",
       "c    6\n",
       "h    5\n",
       "d    5\n",
       "e    3\n",
       "a    3\n",
       "b    1\n",
       "dtype: int64"
      ]
     },
     "execution_count": 27,
     "metadata": {},
     "output_type": "execute_result"
    }
   ],
   "source": [
    "ser.value_counts()"
   ]
  },
  {
   "cell_type": "markdown",
   "metadata": {},
   "source": [
    "# 10. How to keep only top 2 most frequent values as it is and replace everything else as ‘Other’?"
   ]
  },
  {
   "cell_type": "code",
   "execution_count": 28,
   "metadata": {},
   "outputs": [],
   "source": [
    "np.random.RandomState(100)\n",
    "ser = pd.Series(np.random.randint(1, 5, [12]))"
   ]
  },
  {
   "cell_type": "code",
   "execution_count": 29,
   "metadata": {},
   "outputs": [
    {
     "data": {
      "text/plain": [
       "0          2\n",
       "1          3\n",
       "2          2\n",
       "3     Others\n",
       "4          3\n",
       "5          3\n",
       "6          3\n",
       "7     Others\n",
       "8          2\n",
       "9     Others\n",
       "10         3\n",
       "11    Others\n",
       "dtype: object"
      ]
     },
     "execution_count": 29,
     "metadata": {},
     "output_type": "execute_result"
    }
   ],
   "source": [
    "ser[~ser.isin(ser.value_counts().index[:2])] = \"Others\"\n",
    "ser"
   ]
  },
  {
   "cell_type": "markdown",
   "metadata": {},
   "source": [
    "# 11. How to bin a numeric series to 10 groups of equal size?"
   ]
  },
  {
   "cell_type": "code",
   "execution_count": 30,
   "metadata": {},
   "outputs": [
    {
     "name": "stdout",
     "output_type": "stream",
     "text": [
      "0     0.302882\n",
      "1     0.436645\n",
      "2     0.611930\n",
      "3     0.581362\n",
      "4     0.814327\n",
      "5     0.002903\n",
      "6     0.545803\n",
      "7     0.299957\n",
      "8     0.459018\n",
      "9     0.433219\n",
      "10    0.537099\n",
      "11    0.126923\n",
      "12    0.696733\n",
      "13    0.500696\n",
      "14    0.281293\n",
      "15    0.927366\n",
      "16    0.542081\n",
      "17    0.633054\n",
      "18    0.272753\n",
      "19    0.910736\n",
      "dtype: float64\n"
     ]
    }
   ],
   "source": [
    "ser = pd.Series(np.random.random(20))\n",
    "\n",
    "print(ser)"
   ]
  },
  {
   "cell_type": "code",
   "execution_count": 31,
   "metadata": {},
   "outputs": [
    {
     "data": {
      "text/plain": [
       "0      3rd\n",
       "1      4th\n",
       "2      8th\n",
       "3      7th\n",
       "4      9th\n",
       "5      1st\n",
       "6      7th\n",
       "7      3rd\n",
       "8      5th\n",
       "9      4th\n",
       "10     6th\n",
       "11     1st\n",
       "12     9th\n",
       "13     5th\n",
       "14     2nd\n",
       "15    10th\n",
       "16     6th\n",
       "17     8th\n",
       "18     2nd\n",
       "19    10th\n",
       "dtype: category\n",
       "Categories (10, object): ['1st' < '2nd' < '3rd' < '4th' ... '7th' < '8th' < '9th' < '10th']"
      ]
     },
     "execution_count": 31,
     "metadata": {},
     "output_type": "execute_result"
    }
   ],
   "source": [
    "pd.qcut(ser, 10, labels = ['1st', '2nd', '3rd', '4th', '5th', '6th', '7th', '8th', '9th', '10th'])"
   ]
  },
  {
   "cell_type": "markdown",
   "metadata": {},
   "source": [
    "# 12. How to convert a numpy array to a dataframe of given shape? (L1)"
   ]
  },
  {
   "cell_type": "code",
   "execution_count": 32,
   "metadata": {},
   "outputs": [
    {
     "name": "stdout",
     "output_type": "stream",
     "text": [
      "   0  1  2  3  4\n",
      "0  4  1  4  8  1\n",
      "1  3  1  2  4  3\n",
      "2  6  4  9  5  4\n",
      "3  7  3  9  7  1\n",
      "4  9  8  4  2  3\n",
      "5  9  8  4  3  4\n",
      "6  8  8  7  5  4\n"
     ]
    }
   ],
   "source": [
    "ser = pd.Series(np.random.randint(1, 10, 35))\n",
    "\n",
    "df = pd.DataFrame(ser.values.reshape(7,5))\n",
    "\n",
    "print(df)"
   ]
  },
  {
   "cell_type": "markdown",
   "metadata": {},
   "source": [
    "# 13. How to find the positions of numbers that are multiples of 3 from a series?"
   ]
  },
  {
   "cell_type": "code",
   "execution_count": 33,
   "metadata": {},
   "outputs": [
    {
     "name": "stdout",
     "output_type": "stream",
     "text": [
      "0    9\n",
      "1    5\n",
      "2    7\n",
      "3    7\n",
      "4    7\n",
      "5    9\n",
      "6    8\n",
      "dtype: int32\n"
     ]
    }
   ],
   "source": [
    "ser = pd.Series(np.random.randint(1, 10, 7))\n",
    "print(ser)"
   ]
  },
  {
   "cell_type": "code",
   "execution_count": 34,
   "metadata": {},
   "outputs": [
    {
     "data": {
      "text/plain": [
       "array([[0],\n",
       "       [5]], dtype=int64)"
      ]
     },
     "execution_count": 34,
     "metadata": {},
     "output_type": "execute_result"
    }
   ],
   "source": [
    "np.argwhere(ser.to_numpy() % 3==0)"
   ]
  },
  {
   "cell_type": "code",
   "execution_count": 35,
   "metadata": {},
   "outputs": [
    {
     "data": {
      "text/plain": [
       "0     True\n",
       "1    False\n",
       "2    False\n",
       "3    False\n",
       "4    False\n",
       "5     True\n",
       "6    False\n",
       "dtype: bool"
      ]
     },
     "execution_count": 35,
     "metadata": {},
     "output_type": "execute_result"
    }
   ],
   "source": [
    "ser % 3 == 0"
   ]
  },
  {
   "cell_type": "markdown",
   "metadata": {},
   "source": [
    "# 15. How to stack two series vertically and horizontally ?"
   ]
  },
  {
   "cell_type": "code",
   "execution_count": 36,
   "metadata": {},
   "outputs": [],
   "source": [
    "ser1 = pd.Series(range(5))\n",
    "ser2 = pd.Series(list('abcde'))"
   ]
  },
  {
   "cell_type": "code",
   "execution_count": 37,
   "metadata": {},
   "outputs": [
    {
     "data": {
      "text/plain": [
       "0    0\n",
       "1    1\n",
       "2    2\n",
       "3    3\n",
       "4    4\n",
       "0    a\n",
       "1    b\n",
       "2    c\n",
       "3    d\n",
       "4    e\n",
       "dtype: object"
      ]
     },
     "execution_count": 37,
     "metadata": {},
     "output_type": "execute_result"
    }
   ],
   "source": [
    "# Vertically\n",
    "\n",
    "pd.concat([ser1, ser2])\n",
    "\n"
   ]
  },
  {
   "cell_type": "code",
   "execution_count": 38,
   "metadata": {},
   "outputs": [
    {
     "data": {
      "text/plain": [
       "0    0\n",
       "1    1\n",
       "2    2\n",
       "3    3\n",
       "4    4\n",
       "0    a\n",
       "1    b\n",
       "2    c\n",
       "3    d\n",
       "4    e\n",
       "dtype: object"
      ]
     },
     "execution_count": 38,
     "metadata": {},
     "output_type": "execute_result"
    }
   ],
   "source": [
    "# Horizontally\n",
    "pd.concat([ser1, ser2])"
   ]
  },
  {
   "cell_type": "code",
   "execution_count": 39,
   "metadata": {},
   "outputs": [
    {
     "data": {
      "text/html": [
       "<div>\n",
       "<style scoped>\n",
       "    .dataframe tbody tr th:only-of-type {\n",
       "        vertical-align: middle;\n",
       "    }\n",
       "\n",
       "    .dataframe tbody tr th {\n",
       "        vertical-align: top;\n",
       "    }\n",
       "\n",
       "    .dataframe thead th {\n",
       "        text-align: right;\n",
       "    }\n",
       "</style>\n",
       "<table border=\"1\" class=\"dataframe\">\n",
       "  <thead>\n",
       "    <tr style=\"text-align: right;\">\n",
       "      <th></th>\n",
       "      <th>0</th>\n",
       "      <th>1</th>\n",
       "    </tr>\n",
       "  </thead>\n",
       "  <tbody>\n",
       "    <tr>\n",
       "      <th>0</th>\n",
       "      <td>0</td>\n",
       "      <td>a</td>\n",
       "    </tr>\n",
       "    <tr>\n",
       "      <th>1</th>\n",
       "      <td>1</td>\n",
       "      <td>b</td>\n",
       "    </tr>\n",
       "    <tr>\n",
       "      <th>2</th>\n",
       "      <td>2</td>\n",
       "      <td>c</td>\n",
       "    </tr>\n",
       "    <tr>\n",
       "      <th>3</th>\n",
       "      <td>3</td>\n",
       "      <td>d</td>\n",
       "    </tr>\n",
       "    <tr>\n",
       "      <th>4</th>\n",
       "      <td>4</td>\n",
       "      <td>e</td>\n",
       "    </tr>\n",
       "  </tbody>\n",
       "</table>\n",
       "</div>"
      ],
      "text/plain": [
       "   0  1\n",
       "0  0  a\n",
       "1  1  b\n",
       "2  2  c\n",
       "3  3  d\n",
       "4  4  e"
      ]
     },
     "execution_count": 39,
     "metadata": {},
     "output_type": "execute_result"
    }
   ],
   "source": [
    "pd.concat([ser1, ser2], axis = 1)"
   ]
  },
  {
   "cell_type": "markdown",
   "metadata": {},
   "source": [
    "# 16. How to get the positions of items of series A in another series B?"
   ]
  },
  {
   "cell_type": "code",
   "execution_count": 40,
   "metadata": {},
   "outputs": [],
   "source": [
    "ser1 = pd.Series([10, 9, 6, 5, 3, 1, 12, 8, 13])\n",
    "ser2 = pd.Series([1, 3, 10, 13])"
   ]
  },
  {
   "cell_type": "code",
   "execution_count": 41,
   "metadata": {},
   "outputs": [
    {
     "data": {
      "text/plain": [
       "[(array([5], dtype=int64),),\n",
       " (array([4], dtype=int64),),\n",
       " (array([0], dtype=int64),),\n",
       " (array([8], dtype=int64),)]"
      ]
     },
     "execution_count": 41,
     "metadata": {},
     "output_type": "execute_result"
    }
   ],
   "source": [
    "[np.where(i == ser1) for i in ser2]"
   ]
  },
  {
   "cell_type": "code",
   "execution_count": 42,
   "metadata": {},
   "outputs": [
    {
     "data": {
      "text/plain": [
       "[5, 4, 0, 8]"
      ]
     },
     "execution_count": 42,
     "metadata": {},
     "output_type": "execute_result"
    }
   ],
   "source": [
    "[np.where(i == ser1)[0][0] for i in ser2]"
   ]
  },
  {
   "cell_type": "markdown",
   "metadata": {},
   "source": [
    "# 17. How to compute the mean squared error on a truth and predicted series?"
   ]
  },
  {
   "cell_type": "code",
   "execution_count": 43,
   "metadata": {},
   "outputs": [],
   "source": [
    "truth = pd.Series(range(10))\n",
    "pred = pd.Series(range(10)) + np.random.random(10)"
   ]
  },
  {
   "cell_type": "code",
   "execution_count": 44,
   "metadata": {},
   "outputs": [],
   "source": [
    "msr = np.mean((truth - pred)**2)"
   ]
  },
  {
   "cell_type": "code",
   "execution_count": 45,
   "metadata": {},
   "outputs": [
    {
     "data": {
      "text/plain": [
       "0.3688785478783788"
      ]
     },
     "execution_count": 45,
     "metadata": {},
     "output_type": "execute_result"
    }
   ],
   "source": [
    "msr"
   ]
  },
  {
   "cell_type": "markdown",
   "metadata": {},
   "source": [
    "# 18. How to convert the first character of each element in a series to uppercase?"
   ]
  },
  {
   "cell_type": "code",
   "execution_count": 46,
   "metadata": {},
   "outputs": [],
   "source": [
    "ser = pd.Series(['how', 'to', 'kick', 'ass?'])"
   ]
  },
  {
   "cell_type": "code",
   "execution_count": 47,
   "metadata": {},
   "outputs": [
    {
     "data": {
      "text/plain": [
       "0     How\n",
       "1      To\n",
       "2    Kick\n",
       "3    Ass?\n",
       "dtype: object"
      ]
     },
     "execution_count": 47,
     "metadata": {},
     "output_type": "execute_result"
    }
   ],
   "source": [
    "ser1 = pd.Series([w.capitalize() for w in ser])\n",
    "\n",
    "ser1"
   ]
  },
  {
   "cell_type": "code",
   "execution_count": 48,
   "metadata": {},
   "outputs": [
    {
     "data": {
      "text/plain": [
       "0     How\n",
       "1      To\n",
       "2    Kick\n",
       "3    Ass?\n",
       "dtype: object"
      ]
     },
     "execution_count": 48,
     "metadata": {},
     "output_type": "execute_result"
    }
   ],
   "source": [
    "ser.map(lambda x:x.title())"
   ]
  },
  {
   "cell_type": "markdown",
   "metadata": {},
   "source": [
    "# 19. How to calculate the number of characters in each word in a series?"
   ]
  },
  {
   "cell_type": "code",
   "execution_count": 49,
   "metadata": {},
   "outputs": [],
   "source": [
    "ser = pd.Series(['how', 'to', 'kick', 'ass?'])"
   ]
  },
  {
   "cell_type": "code",
   "execution_count": 50,
   "metadata": {},
   "outputs": [
    {
     "data": {
      "text/plain": [
       "0    3\n",
       "1    2\n",
       "2    4\n",
       "3    4\n",
       "dtype: int64"
      ]
     },
     "execution_count": 50,
     "metadata": {},
     "output_type": "execute_result"
    }
   ],
   "source": [
    "ser.map(lambda x:len(x))"
   ]
  },
  {
   "cell_type": "markdown",
   "metadata": {},
   "source": [
    "# 20. How to compute difference of differences between consequtive numbers of a series?"
   ]
  },
  {
   "cell_type": "code",
   "execution_count": 51,
   "metadata": {},
   "outputs": [],
   "source": [
    "ser = pd.Series([1, 3, 6, 10, 15, 21, 27, 35])"
   ]
  },
  {
   "cell_type": "code",
   "execution_count": 52,
   "metadata": {},
   "outputs": [
    {
     "name": "stdout",
     "output_type": "stream",
     "text": [
      "[nan, 2.0, 3.0, 4.0, 5.0, 6.0, 6.0, 8.0]\n"
     ]
    }
   ],
   "source": [
    "print(ser.diff().tolist())"
   ]
  },
  {
   "cell_type": "markdown",
   "metadata": {},
   "source": [
    "# 33. How to import only every nth row from a csv file to create a dataframe?"
   ]
  },
  {
   "cell_type": "code",
   "execution_count": 71,
   "metadata": {},
   "outputs": [],
   "source": [
    "df = pd.read_csv('https://raw.githubusercontent.com/selva86/datasets/master/BostonHousing.csv', chunksize=50)"
   ]
  },
  {
   "cell_type": "code",
   "execution_count": 59,
   "metadata": {},
   "outputs": [
    {
     "name": "stdout",
     "output_type": "stream",
     "text": [
      "        crim    zn  indus  chas    nox     rm   age     dis  rad    tax  \\\n",
      "0    0.00632  18.0   2.31   0.0  0.538  6.575  65.2  4.0900  1.0  296.0   \n",
      "50   0.08873  21.0   5.64   0.0  0.439  5.963  45.7  6.8147  4.0  243.0   \n",
      "100  0.14866   0.0   8.56   0.0  0.520  6.727  79.9  2.7778  5.0  384.0   \n",
      "150  1.65660   0.0  19.58   0.0  0.871  6.122  97.3  1.6180  5.0  403.0   \n",
      "200  0.01778  95.0   1.47   0.0  0.403  7.135  13.9  7.6534  3.0  402.0   \n",
      "\n",
      "     ptratio       b  lstat  medv  \n",
      "0       15.3  396.90   4.98  24.0  \n",
      "50      16.8  395.56  13.45  19.7  \n",
      "100     20.9  394.76   9.42  27.5  \n",
      "150     14.7  372.80  14.10  21.5  \n",
      "200     17.0  384.30   4.45  32.9  \n"
     ]
    }
   ],
   "source": [
    "df2 = pd.DataFrame()\n",
    "\n",
    "for chunk in df:\n",
    "\n",
    "    df2 = df2.append(chunk.iloc[0])\n",
    "\n",
    "print(df2.head())"
   ]
  },
  {
   "cell_type": "code",
   "execution_count": 70,
   "metadata": {},
   "outputs": [],
   "source": [
    "df2 = pd.concat([chunk.iloc[0] for chunk in df], axis=1)\n",
    "df2 = df2.transpose()"
   ]
  },
  {
   "cell_type": "code",
   "execution_count": 75,
   "metadata": {},
   "outputs": [
    {
     "name": "stdout",
     "output_type": "stream",
     "text": [
      "[['crim', 'zn', 'indus', 'chas', 'nox', 'rm', 'age', 'dis', 'rad', 'tax', 'ptratio', 'b', 'lstat', 'medv'], ['0.21977', '0', '6.91', '0', '0.448', '5.602', '62', '6.0877', '3', '233', '17.9', '396.9', '16.2', '19.4'], ['0.0686', '0', '2.89', '0', '0.445', '7.416', '62.5', '3.4952', '2', '276', '18', '396.9', '6.19', '33.2'], ['2.73397', '0', '19.58', '0', '0.871', '5.597', '94.9', '1.5257', '5', '403', '14.7', '351.85', '21.45', '15.4'], ['0.0315', '95', '1.47', '0', '0.403', '6.975', '15.3', '7.6534', '3', '402', '17', '396.9', '4.56', '34.9'], ['0.19073', '22', '5.86', '0', '0.431', '6.718', '17.5', '7.8265', '7', '330', '19.1', '393.74', '6.56', '26.2'], ['0.05561', '70', '2.24', '0', '0.4', '7.041', '10', '7.8278', '5', '358', '14.8', '371.58', '4.74', '29'], ['0.02899', '40', '1.25', '0', '0.429', '6.939', '34.5', '8.7921', '1', '335', '19.7', '389.85', '5.89', '26.6'], ['9.91655', '0', '18.1', '0', '0.693', '5.852', '77.8', '1.5004', '24', '666', '20.2', '338.16', '29.97', '6.3'], ['7.52601', '0', '18.1', '0', '0.713', '6.417', '98.3', '2.185', '24', '666', '20.2', '304.21', '19.31', '13'], ['0.17783', '0', '9.69', '0', '0.585', '5.569', '73.5', '2.3999', '6', '391', '19.2', '395.77', '15.1', '17.5']]\n",
      "      crim  zn  indus chas    nox     rm   age     dis rad  tax ptratio  \\\n",
      "0  0.21977   0   6.91    0  0.448  5.602    62  6.0877   3  233    17.9   \n",
      "1   0.0686   0   2.89    0  0.445  7.416  62.5  3.4952   2  276      18   \n",
      "2  2.73397   0  19.58    0  0.871  5.597  94.9  1.5257   5  403    14.7   \n",
      "3   0.0315  95   1.47    0  0.403  6.975  15.3  7.6534   3  402      17   \n",
      "4  0.19073  22   5.86    0  0.431  6.718  17.5  7.8265   7  330    19.1   \n",
      "\n",
      "        b  lstat  medv  \n",
      "0   396.9   16.2  19.4  \n",
      "1   396.9   6.19  33.2  \n",
      "2  351.85  21.45  15.4  \n",
      "3   396.9   4.56  34.9  \n",
      "4  393.74   6.56  26.2  \n"
     ]
    }
   ],
   "source": [
    "import csv\n",
    "\n",
    "with open('BostonHousing.csv', 'r') as f:\n",
    "    reader = csv.reader(f)\n",
    "    out = []\n",
    "    for i, row in enumerate(reader):\n",
    "        if i%50 == 0:\n",
    "            out.append(row)\n",
    "\n",
    "\n",
    "print(out)\n",
    "df2 = pd.DataFrame(out[1:], columns=out[0])\n",
    "print(df2.head())"
   ]
  },
  {
   "cell_type": "markdown",
   "metadata": {},
   "source": [
    "# 34. How to change column values when importing csv to a dataframe?"
   ]
  },
  {
   "cell_type": "code",
   "execution_count": 115,
   "metadata": {},
   "outputs": [],
   "source": [
    "df = pd.read_csv('https://raw.githubusercontent.com/selva86/datasets/master/BostonHousing.csv', chunksize=1)\n"
   ]
  },
  {
   "cell_type": "code",
   "execution_count": 116,
   "metadata": {},
   "outputs": [],
   "source": [
    "df2 = pd.DataFrame()\n",
    "\n",
    "for i,chunk in enumerate(df):\n",
    "\n",
    "    chunk.loc[i,\"medv\"] = \"High\" if chunk.loc[i,\"medv\"] >= 25 else \"Low\"\n",
    "\n",
    "    df2 = df2.append(chunk)\n",
    "\n",
    "  "
   ]
  },
  {
   "cell_type": "code",
   "execution_count": 113,
   "metadata": {},
   "outputs": [
    {
     "name": "stdout",
     "output_type": "stream",
     "text": [
      "        crim    zn  indus  chas    nox     rm   age     dis  rad  tax  \\\n",
      "0    0.00632  18.0   2.31     0  0.538  6.575  65.2  4.0900    1  296   \n",
      "1    0.02731   0.0   7.07     0  0.469  6.421  78.9  4.9671    2  242   \n",
      "2    0.02729   0.0   7.07     0  0.469  7.185  61.1  4.9671    2  242   \n",
      "3    0.03237   0.0   2.18     0  0.458  6.998  45.8  6.0622    3  222   \n",
      "4    0.06905   0.0   2.18     0  0.458  7.147  54.2  6.0622    3  222   \n",
      "..       ...   ...    ...   ...    ...    ...   ...     ...  ...  ...   \n",
      "501  0.06263   0.0  11.93     0  0.573  6.593  69.1  2.4786    1  273   \n",
      "502  0.04527   0.0  11.93     0  0.573  6.120  76.7  2.2875    1  273   \n",
      "503  0.06076   0.0  11.93     0  0.573  6.976  91.0  2.1675    1  273   \n",
      "504  0.10959   0.0  11.93     0  0.573  6.794  89.3  2.3889    1  273   \n",
      "505  0.04741   0.0  11.93     0  0.573  6.030  80.8  2.5050    1  273   \n",
      "\n",
      "     ptratio       b  lstat  medv  \n",
      "0       15.3  396.90   4.98   Low  \n",
      "1       17.8  396.90   9.14   Low  \n",
      "2       17.8  392.83   4.03  High  \n",
      "3       18.7  394.63   2.94  High  \n",
      "4       18.7  396.90   5.33  High  \n",
      "..       ...     ...    ...   ...  \n",
      "501     21.0  391.99   9.67   Low  \n",
      "502     21.0  396.90   9.08   Low  \n",
      "503     21.0  396.90   5.64   Low  \n",
      "504     21.0  393.45   6.48   Low  \n",
      "505     21.0  396.90   7.88   Low  \n",
      "\n",
      "[506 rows x 14 columns]\n"
     ]
    }
   ],
   "source": [
    "print(df2)"
   ]
  },
  {
   "cell_type": "code",
   "execution_count": 118,
   "metadata": {},
   "outputs": [
    {
     "name": "stdout",
     "output_type": "stream",
     "text": [
      "      crim  zn indus chas    nox     rm   age     dis rad  tax ptratio  \\\n",
      "0  0.00632  18  2.31    0  0.538  6.575  65.2    4.09   1  296    15.3   \n",
      "1  0.02731   0  7.07    0  0.469  6.421  78.9  4.9671   2  242    17.8   \n",
      "2  0.02729   0  7.07    0  0.469  7.185  61.1  4.9671   2  242    17.8   \n",
      "3  0.03237   0  2.18    0  0.458  6.998  45.8  6.0622   3  222    18.7   \n",
      "4  0.06905   0  2.18    0  0.458  7.147  54.2  6.0622   3  222    18.7   \n",
      "\n",
      "        b lstat  medv  \n",
      "0   396.9  4.98   Low  \n",
      "1   396.9  9.14   Low  \n",
      "2  392.83  4.03  High  \n",
      "3  394.63  2.94  High  \n",
      "4   396.9  5.33  High  \n"
     ]
    }
   ],
   "source": [
    "with open('BostonHousing.csv', 'r') as f:\n",
    "    reader = csv.reader(f)\n",
    "    out = []\n",
    "    for i, row in enumerate(reader):\n",
    "        if i > 0:\n",
    "            row[13] = 'High' if float(row[13]) > 25 else 'Low'\n",
    "        out.append(row)\n",
    "\n",
    "df = pd.DataFrame(out[1:], columns=out[0])\n",
    "print(df.head())"
   ]
  },
  {
   "cell_type": "code",
   "execution_count": 117,
   "metadata": {},
   "outputs": [],
   "source": [
    "# Using Converter Parameter\n",
    "\n",
    "df = pd.read_csv('https://raw.githubusercontent.com/selva86/datasets/master/BostonHousing.csv', converters={'medv': lambda x: 'High' if float(x) > 25 else 'Low'})"
   ]
  },
  {
   "cell_type": "markdown",
   "metadata": {},
   "source": [
    "# 36. How to import only specified columns from a csv file?"
   ]
  },
  {
   "cell_type": "code",
   "execution_count": 123,
   "metadata": {},
   "outputs": [
    {
     "name": "stdout",
     "output_type": "stream",
     "text": [
      "        crim  medv\n",
      "0    0.00632  24.0\n",
      "1    0.02731  21.6\n",
      "2    0.02729  34.7\n",
      "3    0.03237  33.4\n",
      "4    0.06905  36.2\n",
      "..       ...   ...\n",
      "501  0.06263  22.4\n",
      "502  0.04527  20.6\n",
      "503  0.06076  23.9\n",
      "504  0.10959  22.0\n",
      "505  0.04741  11.9\n",
      "\n",
      "[506 rows x 2 columns]\n"
     ]
    }
   ],
   "source": [
    "df = pd.read_csv('https://raw.githubusercontent.com/selva86/datasets/master/BostonHousing.csv', usecols=[\"crim\", \"medv\"])\n",
    "print(df)"
   ]
  },
  {
   "cell_type": "code",
   "execution_count": 134,
   "metadata": {},
   "outputs": [
    {
     "data": {
      "text/html": [
       "<div>\n",
       "<style scoped>\n",
       "    .dataframe tbody tr th:only-of-type {\n",
       "        vertical-align: middle;\n",
       "    }\n",
       "\n",
       "    .dataframe tbody tr th {\n",
       "        vertical-align: top;\n",
       "    }\n",
       "\n",
       "    .dataframe thead th {\n",
       "        text-align: right;\n",
       "    }\n",
       "</style>\n",
       "<table border=\"1\" class=\"dataframe\">\n",
       "  <thead>\n",
       "    <tr style=\"text-align: right;\">\n",
       "      <th></th>\n",
       "      <th>Manufacturer</th>\n",
       "      <th>Model</th>\n",
       "      <th>Type</th>\n",
       "      <th>Min.Price</th>\n",
       "      <th>Price</th>\n",
       "      <th>Max.Price</th>\n",
       "      <th>MPG.city</th>\n",
       "      <th>MPG.highway</th>\n",
       "      <th>AirBags</th>\n",
       "      <th>DriveTrain</th>\n",
       "      <th>...</th>\n",
       "      <th>Passengers</th>\n",
       "      <th>Length</th>\n",
       "      <th>Wheelbase</th>\n",
       "      <th>Width</th>\n",
       "      <th>Turn.circle</th>\n",
       "      <th>Rear.seat.room</th>\n",
       "      <th>Luggage.room</th>\n",
       "      <th>Weight</th>\n",
       "      <th>Origin</th>\n",
       "      <th>Make</th>\n",
       "    </tr>\n",
       "  </thead>\n",
       "  <tbody>\n",
       "    <tr>\n",
       "      <th>0</th>\n",
       "      <td>Acura</td>\n",
       "      <td>Integra</td>\n",
       "      <td>Small</td>\n",
       "      <td>12.9</td>\n",
       "      <td>15.9</td>\n",
       "      <td>18.8</td>\n",
       "      <td>25.0</td>\n",
       "      <td>31.0</td>\n",
       "      <td>None</td>\n",
       "      <td>Front</td>\n",
       "      <td>...</td>\n",
       "      <td>5.0</td>\n",
       "      <td>177.0</td>\n",
       "      <td>102.0</td>\n",
       "      <td>68.0</td>\n",
       "      <td>37.0</td>\n",
       "      <td>26.5</td>\n",
       "      <td>NaN</td>\n",
       "      <td>2705.0</td>\n",
       "      <td>non-USA</td>\n",
       "      <td>Acura Integra</td>\n",
       "    </tr>\n",
       "    <tr>\n",
       "      <th>1</th>\n",
       "      <td>NaN</td>\n",
       "      <td>Legend</td>\n",
       "      <td>Midsize</td>\n",
       "      <td>29.2</td>\n",
       "      <td>33.9</td>\n",
       "      <td>38.7</td>\n",
       "      <td>18.0</td>\n",
       "      <td>25.0</td>\n",
       "      <td>Driver &amp; Passenger</td>\n",
       "      <td>Front</td>\n",
       "      <td>...</td>\n",
       "      <td>5.0</td>\n",
       "      <td>195.0</td>\n",
       "      <td>115.0</td>\n",
       "      <td>71.0</td>\n",
       "      <td>38.0</td>\n",
       "      <td>30.0</td>\n",
       "      <td>15.0</td>\n",
       "      <td>3560.0</td>\n",
       "      <td>non-USA</td>\n",
       "      <td>Acura Legend</td>\n",
       "    </tr>\n",
       "    <tr>\n",
       "      <th>2</th>\n",
       "      <td>Audi</td>\n",
       "      <td>90</td>\n",
       "      <td>Compact</td>\n",
       "      <td>25.9</td>\n",
       "      <td>29.1</td>\n",
       "      <td>32.3</td>\n",
       "      <td>20.0</td>\n",
       "      <td>26.0</td>\n",
       "      <td>Driver only</td>\n",
       "      <td>Front</td>\n",
       "      <td>...</td>\n",
       "      <td>5.0</td>\n",
       "      <td>180.0</td>\n",
       "      <td>102.0</td>\n",
       "      <td>67.0</td>\n",
       "      <td>37.0</td>\n",
       "      <td>28.0</td>\n",
       "      <td>14.0</td>\n",
       "      <td>3375.0</td>\n",
       "      <td>non-USA</td>\n",
       "      <td>Audi 90</td>\n",
       "    </tr>\n",
       "    <tr>\n",
       "      <th>3</th>\n",
       "      <td>Audi</td>\n",
       "      <td>100</td>\n",
       "      <td>Midsize</td>\n",
       "      <td>NaN</td>\n",
       "      <td>37.7</td>\n",
       "      <td>44.6</td>\n",
       "      <td>19.0</td>\n",
       "      <td>26.0</td>\n",
       "      <td>Driver &amp; Passenger</td>\n",
       "      <td>NaN</td>\n",
       "      <td>...</td>\n",
       "      <td>6.0</td>\n",
       "      <td>193.0</td>\n",
       "      <td>106.0</td>\n",
       "      <td>NaN</td>\n",
       "      <td>37.0</td>\n",
       "      <td>31.0</td>\n",
       "      <td>17.0</td>\n",
       "      <td>3405.0</td>\n",
       "      <td>non-USA</td>\n",
       "      <td>Audi 100</td>\n",
       "    </tr>\n",
       "    <tr>\n",
       "      <th>4</th>\n",
       "      <td>BMW</td>\n",
       "      <td>535i</td>\n",
       "      <td>Midsize</td>\n",
       "      <td>NaN</td>\n",
       "      <td>30.0</td>\n",
       "      <td>NaN</td>\n",
       "      <td>22.0</td>\n",
       "      <td>30.0</td>\n",
       "      <td>NaN</td>\n",
       "      <td>Rear</td>\n",
       "      <td>...</td>\n",
       "      <td>4.0</td>\n",
       "      <td>186.0</td>\n",
       "      <td>109.0</td>\n",
       "      <td>69.0</td>\n",
       "      <td>39.0</td>\n",
       "      <td>27.0</td>\n",
       "      <td>13.0</td>\n",
       "      <td>3640.0</td>\n",
       "      <td>non-USA</td>\n",
       "      <td>BMW 535i</td>\n",
       "    </tr>\n",
       "    <tr>\n",
       "      <th>...</th>\n",
       "      <td>...</td>\n",
       "      <td>...</td>\n",
       "      <td>...</td>\n",
       "      <td>...</td>\n",
       "      <td>...</td>\n",
       "      <td>...</td>\n",
       "      <td>...</td>\n",
       "      <td>...</td>\n",
       "      <td>...</td>\n",
       "      <td>...</td>\n",
       "      <td>...</td>\n",
       "      <td>...</td>\n",
       "      <td>...</td>\n",
       "      <td>...</td>\n",
       "      <td>...</td>\n",
       "      <td>...</td>\n",
       "      <td>...</td>\n",
       "      <td>...</td>\n",
       "      <td>...</td>\n",
       "      <td>...</td>\n",
       "      <td>...</td>\n",
       "    </tr>\n",
       "    <tr>\n",
       "      <th>88</th>\n",
       "      <td>Volkswagen</td>\n",
       "      <td>Eurovan</td>\n",
       "      <td>Van</td>\n",
       "      <td>16.6</td>\n",
       "      <td>19.7</td>\n",
       "      <td>22.7</td>\n",
       "      <td>17.0</td>\n",
       "      <td>21.0</td>\n",
       "      <td>None</td>\n",
       "      <td>Front</td>\n",
       "      <td>...</td>\n",
       "      <td>7.0</td>\n",
       "      <td>187.0</td>\n",
       "      <td>115.0</td>\n",
       "      <td>72.0</td>\n",
       "      <td>38.0</td>\n",
       "      <td>34.0</td>\n",
       "      <td>NaN</td>\n",
       "      <td>3960.0</td>\n",
       "      <td>NaN</td>\n",
       "      <td>Volkswagen Eurovan</td>\n",
       "    </tr>\n",
       "    <tr>\n",
       "      <th>89</th>\n",
       "      <td>Volkswagen</td>\n",
       "      <td>Passat</td>\n",
       "      <td>Compact</td>\n",
       "      <td>17.6</td>\n",
       "      <td>20.0</td>\n",
       "      <td>22.4</td>\n",
       "      <td>21.0</td>\n",
       "      <td>30.0</td>\n",
       "      <td>None</td>\n",
       "      <td>Front</td>\n",
       "      <td>...</td>\n",
       "      <td>5.0</td>\n",
       "      <td>180.0</td>\n",
       "      <td>103.0</td>\n",
       "      <td>67.0</td>\n",
       "      <td>35.0</td>\n",
       "      <td>31.5</td>\n",
       "      <td>14.0</td>\n",
       "      <td>2985.0</td>\n",
       "      <td>non-USA</td>\n",
       "      <td>Volkswagen Passat</td>\n",
       "    </tr>\n",
       "    <tr>\n",
       "      <th>90</th>\n",
       "      <td>Volkswagen</td>\n",
       "      <td>Corrado</td>\n",
       "      <td>Sporty</td>\n",
       "      <td>22.9</td>\n",
       "      <td>23.3</td>\n",
       "      <td>23.7</td>\n",
       "      <td>18.0</td>\n",
       "      <td>25.0</td>\n",
       "      <td>None</td>\n",
       "      <td>Front</td>\n",
       "      <td>...</td>\n",
       "      <td>4.0</td>\n",
       "      <td>159.0</td>\n",
       "      <td>97.0</td>\n",
       "      <td>66.0</td>\n",
       "      <td>36.0</td>\n",
       "      <td>26.0</td>\n",
       "      <td>15.0</td>\n",
       "      <td>2810.0</td>\n",
       "      <td>non-USA</td>\n",
       "      <td>Volkswagen Corrado</td>\n",
       "    </tr>\n",
       "    <tr>\n",
       "      <th>91</th>\n",
       "      <td>Volvo</td>\n",
       "      <td>240</td>\n",
       "      <td>Compact</td>\n",
       "      <td>21.8</td>\n",
       "      <td>22.7</td>\n",
       "      <td>23.5</td>\n",
       "      <td>21.0</td>\n",
       "      <td>28.0</td>\n",
       "      <td>Driver only</td>\n",
       "      <td>Rear</td>\n",
       "      <td>...</td>\n",
       "      <td>5.0</td>\n",
       "      <td>190.0</td>\n",
       "      <td>104.0</td>\n",
       "      <td>67.0</td>\n",
       "      <td>37.0</td>\n",
       "      <td>29.5</td>\n",
       "      <td>14.0</td>\n",
       "      <td>2985.0</td>\n",
       "      <td>non-USA</td>\n",
       "      <td>Volvo 240</td>\n",
       "    </tr>\n",
       "    <tr>\n",
       "      <th>92</th>\n",
       "      <td>NaN</td>\n",
       "      <td>850</td>\n",
       "      <td>Midsize</td>\n",
       "      <td>24.8</td>\n",
       "      <td>26.7</td>\n",
       "      <td>28.5</td>\n",
       "      <td>20.0</td>\n",
       "      <td>28.0</td>\n",
       "      <td>Driver &amp; Passenger</td>\n",
       "      <td>Front</td>\n",
       "      <td>...</td>\n",
       "      <td>5.0</td>\n",
       "      <td>184.0</td>\n",
       "      <td>105.0</td>\n",
       "      <td>69.0</td>\n",
       "      <td>38.0</td>\n",
       "      <td>30.0</td>\n",
       "      <td>15.0</td>\n",
       "      <td>3245.0</td>\n",
       "      <td>non-USA</td>\n",
       "      <td>Volvo 850</td>\n",
       "    </tr>\n",
       "  </tbody>\n",
       "</table>\n",
       "<p>93 rows × 27 columns</p>\n",
       "</div>"
      ],
      "text/plain": [
       "   Manufacturer    Model     Type  Min.Price  Price  Max.Price  MPG.city  \\\n",
       "0         Acura  Integra    Small       12.9   15.9       18.8      25.0   \n",
       "1           NaN   Legend  Midsize       29.2   33.9       38.7      18.0   \n",
       "2          Audi       90  Compact       25.9   29.1       32.3      20.0   \n",
       "3          Audi      100  Midsize        NaN   37.7       44.6      19.0   \n",
       "4           BMW     535i  Midsize        NaN   30.0        NaN      22.0   \n",
       "..          ...      ...      ...        ...    ...        ...       ...   \n",
       "88   Volkswagen  Eurovan      Van       16.6   19.7       22.7      17.0   \n",
       "89   Volkswagen   Passat  Compact       17.6   20.0       22.4      21.0   \n",
       "90   Volkswagen  Corrado   Sporty       22.9   23.3       23.7      18.0   \n",
       "91        Volvo      240  Compact       21.8   22.7       23.5      21.0   \n",
       "92          NaN      850  Midsize       24.8   26.7       28.5      20.0   \n",
       "\n",
       "    MPG.highway             AirBags DriveTrain  ... Passengers  Length  \\\n",
       "0          31.0                None      Front  ...        5.0   177.0   \n",
       "1          25.0  Driver & Passenger      Front  ...        5.0   195.0   \n",
       "2          26.0         Driver only      Front  ...        5.0   180.0   \n",
       "3          26.0  Driver & Passenger        NaN  ...        6.0   193.0   \n",
       "4          30.0                 NaN       Rear  ...        4.0   186.0   \n",
       "..          ...                 ...        ...  ...        ...     ...   \n",
       "88         21.0                None      Front  ...        7.0   187.0   \n",
       "89         30.0                None      Front  ...        5.0   180.0   \n",
       "90         25.0                None      Front  ...        4.0   159.0   \n",
       "91         28.0         Driver only       Rear  ...        5.0   190.0   \n",
       "92         28.0  Driver & Passenger      Front  ...        5.0   184.0   \n",
       "\n",
       "    Wheelbase  Width  Turn.circle Rear.seat.room  Luggage.room  Weight  \\\n",
       "0       102.0   68.0         37.0           26.5           NaN  2705.0   \n",
       "1       115.0   71.0         38.0           30.0          15.0  3560.0   \n",
       "2       102.0   67.0         37.0           28.0          14.0  3375.0   \n",
       "3       106.0    NaN         37.0           31.0          17.0  3405.0   \n",
       "4       109.0   69.0         39.0           27.0          13.0  3640.0   \n",
       "..        ...    ...          ...            ...           ...     ...   \n",
       "88      115.0   72.0         38.0           34.0           NaN  3960.0   \n",
       "89      103.0   67.0         35.0           31.5          14.0  2985.0   \n",
       "90       97.0   66.0         36.0           26.0          15.0  2810.0   \n",
       "91      104.0   67.0         37.0           29.5          14.0  2985.0   \n",
       "92      105.0   69.0         38.0           30.0          15.0  3245.0   \n",
       "\n",
       "     Origin                Make  \n",
       "0   non-USA       Acura Integra  \n",
       "1   non-USA        Acura Legend  \n",
       "2   non-USA             Audi 90  \n",
       "3   non-USA            Audi 100  \n",
       "4   non-USA            BMW 535i  \n",
       "..      ...                 ...  \n",
       "88      NaN  Volkswagen Eurovan  \n",
       "89  non-USA   Volkswagen Passat  \n",
       "90  non-USA  Volkswagen Corrado  \n",
       "91  non-USA           Volvo 240  \n",
       "92  non-USA           Volvo 850  \n",
       "\n",
       "[93 rows x 27 columns]"
      ]
     },
     "execution_count": 134,
     "metadata": {},
     "output_type": "execute_result"
    }
   ],
   "source": [
    "df = pd.read_csv(\"https://raw.githubusercontent.com/selva86/datasets/master/Cars93_miss.csv\")\n",
    "df"
   ]
  },
  {
   "cell_type": "code",
   "execution_count": 140,
   "metadata": {},
   "outputs": [
    {
     "name": "stdout",
     "output_type": "stream",
     "text": [
      "(93, 27)\n",
      "Manufacturer           object\n",
      "Model                  object\n",
      "Type                   object\n",
      "Min.Price             float64\n",
      "Price                 float64\n",
      "Max.Price             float64\n",
      "MPG.city              float64\n",
      "MPG.highway           float64\n",
      "AirBags                object\n",
      "DriveTrain             object\n",
      "Cylinders              object\n",
      "EngineSize            float64\n",
      "Horsepower            float64\n",
      "RPM                   float64\n",
      "Rev.per.mile          float64\n",
      "Man.trans.avail        object\n",
      "Fuel.tank.capacity    float64\n",
      "Passengers            float64\n",
      "Length                float64\n",
      "Wheelbase             float64\n",
      "Width                 float64\n",
      "Turn.circle           float64\n",
      "Rear.seat.room        float64\n",
      "Luggage.room          float64\n",
      "Weight                float64\n",
      "Origin                 object\n",
      "Make                   object\n",
      "dtype: object\n",
      "float64    18\n",
      "object      9\n",
      "dtype: int64\n",
      "       Min.Price      Price  Max.Price   MPG.city  MPG.highway  EngineSize  \\\n",
      "count  86.000000  91.000000  88.000000  84.000000    91.000000   91.000000   \n",
      "mean   17.118605  19.616484  21.459091  22.404762    29.065934    2.658242   \n",
      "std     8.828290   9.724280  10.696563   5.841520     5.370293    1.045845   \n",
      "min     6.700000   7.400000   7.900000  15.000000    20.000000    1.000000   \n",
      "25%    10.825000  12.350000  14.575000  18.000000    26.000000    1.800000   \n",
      "50%    14.600000  17.700000  19.150000  21.000000    28.000000    2.300000   \n",
      "75%    20.250000  23.500000  24.825000  25.000000    31.000000    3.250000   \n",
      "max    45.400000  61.900000  80.000000  46.000000    50.000000    5.700000   \n",
      "\n",
      "       Horsepower          RPM  Rev.per.mile  Fuel.tank.capacity  Passengers  \\\n",
      "count   86.000000    90.000000     87.000000           85.000000   91.000000   \n",
      "mean   144.000000  5276.666667   2355.000000           16.683529    5.076923   \n",
      "std     53.455204   605.554811    486.916616            3.375748    1.045953   \n",
      "min     55.000000  3800.000000   1320.000000            9.200000    2.000000   \n",
      "25%    100.750000  4800.000000   2017.500000           14.500000    4.000000   \n",
      "50%    140.000000  5200.000000   2360.000000           16.500000    5.000000   \n",
      "75%    170.000000  5787.500000   2565.000000           19.000000    6.000000   \n",
      "max    300.000000  6500.000000   3755.000000           27.000000    8.000000   \n",
      "\n",
      "           Length   Wheelbase      Width  Turn.circle  Rear.seat.room  \\\n",
      "count   89.000000   92.000000  87.000000    88.000000       89.000000   \n",
      "mean   182.865169  103.956522  69.448276    38.954545       27.853933   \n",
      "std     14.792651    6.856317   3.778023     3.304157        3.018129   \n",
      "min    141.000000   90.000000  60.000000    32.000000       19.000000   \n",
      "25%    174.000000   98.000000  67.000000    36.000000       26.000000   \n",
      "50%    181.000000  103.000000  69.000000    39.000000       27.500000   \n",
      "75%    192.000000  110.000000  72.000000    42.000000       30.000000   \n",
      "max    219.000000  119.000000  78.000000    45.000000       36.000000   \n",
      "\n",
      "       Luggage.room       Weight  \n",
      "count     74.000000    86.000000  \n",
      "mean      13.986486  3104.593023  \n",
      "std        3.120824   600.129993  \n",
      "min        6.000000  1695.000000  \n",
      "25%       12.000000  2647.500000  \n",
      "50%       14.000000  3085.000000  \n",
      "75%       16.000000  3567.500000  \n",
      "max       22.000000  4105.000000  \n"
     ]
    }
   ],
   "source": [
    "#  number of rows and columns\n",
    "print(df.shape)\n",
    "\n",
    "# datatypes\n",
    "print(df.dtypes)\n",
    "\n",
    "# how many columns under each dtype\n",
    "print(df.dtypes.value_counts())\n",
    "\n",
    "# summary statistics\n",
    "df_stats = df.describe()\n",
    "print(df_stats)\n",
    "\n",
    "# numpy array \n",
    "df_arr = df.values\n",
    "\n",
    "# list\n",
    "df_list = df.values.tolist()\n",
    "\n"
   ]
  },
  {
   "cell_type": "markdown",
   "metadata": {},
   "source": [
    "# 38. How to extract the row and column number of a particular cell with given criterion?"
   ]
  },
  {
   "cell_type": "code",
   "execution_count": 150,
   "metadata": {},
   "outputs": [
    {
     "data": {
      "text/plain": [
       "61.9"
      ]
     },
     "execution_count": 150,
     "metadata": {},
     "output_type": "execute_result"
    }
   ],
   "source": [
    "# Input\n",
    "df = pd.read_csv('https://raw.githubusercontent.com/selva86/datasets/master/Cars93_miss.csv')\n",
    "\n",
    "# Solution\n",
    "# Get Manufacturer with highest price\n",
    "df.loc[df.Price == np.max(df.Price), ['Manufacturer', 'Model', 'Type']]\n",
    "\n",
    "# Get Row and Column number\n",
    "row, col = np.where(df.values == np.max(df.Price))\n",
    "\n",
    "# Get the value\n",
    "df.iat[row[0], col[0]]\n",
    "df.iloc[row[0], col[0]]\n",
    "\n",
    "# Alternates\n",
    "df.at[row[0], 'Price']"
   ]
  },
  {
   "cell_type": "code",
   "execution_count": null,
   "metadata": {},
   "outputs": [],
   "source": []
  }
 ],
 "metadata": {
  "interpreter": {
   "hash": "350fa199ac5972690c7e339cc739f563045f32da9cdb6c3e3b5da606ff6ebbd1"
  },
  "kernelspec": {
   "display_name": "Python 3.9.0 64-bit ('DA_Environment': conda)",
   "name": "python3"
  },
  "language_info": {
   "codemirror_mode": {
    "name": "ipython",
    "version": 3
   },
   "file_extension": ".py",
   "mimetype": "text/x-python",
   "name": "python",
   "nbconvert_exporter": "python",
   "pygments_lexer": "ipython3",
   "version": "3.9.0"
  },
  "orig_nbformat": 4
 },
 "nbformat": 4,
 "nbformat_minor": 2
}
