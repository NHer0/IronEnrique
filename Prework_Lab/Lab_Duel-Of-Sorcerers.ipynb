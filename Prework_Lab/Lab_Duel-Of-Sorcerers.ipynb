{
 "cells": [
  {
   "cell_type": "markdown",
   "metadata": {},
   "source": [
    "<img src=\"https://bit.ly/2VnXWr2\" width=\"100\" align=\"left\">"
   ]
  },
  {
   "cell_type": "markdown",
   "metadata": {},
   "source": [
    "# Duel of Sorcerers\n",
    "You are witnessing an epic battle between two powerful sorcerers: Gandalf and Saruman. Each sorcerer has 10 spells of variable power in their mind and they are going to throw them one after the other. The winner of the duel will be the one who wins more of those clashes between spells. Spells are represented as a list of 10 integers whose value equals the power of the spell.\n",
    "```\n",
    "gandalf = [10, 11, 13, 30, 22, 11, 10, 33, 22, 22]\n",
    "saruman = [23, 66, 12, 43, 12, 10, 44, 23, 12, 17]\n",
    "```\n",
    "For example:\n",
    "- The first clash is won by Saruman: 10 against 23.\n",
    "- The second clash is won by Saruman: 11 against 66.\n",
    "- ...\n",
    "\n",
    "You will create two variables, one for each sorcerer, where the sum of clashes won will be stored. Depending on which variable is greater at the end of the duel, you will show one of the following three results on the screen:\n",
    "* Gandalf wins\n",
    "* Saruman wins\n",
    "* Tie\n",
    "\n",
    "<img src=\"Images/content_lightning_bolt_big.jpeg\" width=\"400\">"
   ]
  },
  {
   "cell_type": "markdown",
   "metadata": {},
   "source": [
    "## Tools\n",
    "You don't necessarily need to use all the tools. Maybe you opt to use some of them or completely different ones, they are given to help you shape the exercise. Programming exercises can be solved in many different ways.\n",
    "\n",
    "1. Data structures: **lists, dictionaries**\n",
    "2. Loop: **for loop**\n",
    "3. Conditional statements: **if-elif-else**\n",
    "4. Functions: **range(), len(), print()**\n",
    "\n",
    "## Tasks\n",
    "\n",
    "#### 1. Create two variables called `gandalf` and `saruman` and assign them the spell power lists. Create a variable called `spells` to store the number of spells that the sorcerers cast. "
   ]
  },
  {
   "cell_type": "code",
   "execution_count": 3,
   "metadata": {},
   "outputs": [
    {
     "name": "stdout",
     "output_type": "stream",
     "text": [
      "10\n"
     ]
    }
   ],
   "source": [
    "gandalf = [10, 11, 13, 30, 22, 11, 10, 33, 22, 22]\n",
    "saruman = [23, 66, 12, 43, 12, 10, 44, 23, 12, 17]\n",
    "\n",
    "spells = len(gandalf) # It is assumed the spells list has the same length for both Sorcerers\n",
    "\n",
    "print(spells)"
   ]
  },
  {
   "cell_type": "markdown",
   "metadata": {},
   "source": [
    "#### 2. Create two variables called `gandalf_wins` and `saruman_wins`. Set both of them to 0. \n",
    "You will use these variables to count the number of clashes each sorcerer wins. "
   ]
  },
  {
   "cell_type": "code",
   "execution_count": 4,
   "metadata": {},
   "outputs": [],
   "source": [
    "gandalf_wins = 0\n",
    "saruman_wins = 0"
   ]
  },
  {
   "cell_type": "markdown",
   "metadata": {},
   "source": [
    "#### 3. Using the lists of spells of both sorcerers, update variables `gandalf_wins` and `saruman_wins` to count the number of times each sorcerer wins a clash. "
   ]
  },
  {
   "cell_type": "code",
   "execution_count": 5,
   "metadata": {},
   "outputs": [
    {
     "name": "stdout",
     "output_type": "stream",
     "text": [
      "6\n",
      "4\n"
     ]
    }
   ],
   "source": [
    "# Solved using a for loop\n",
    "\n",
    "for i in range(spells):\n",
    "    \n",
    "    if gandalf[i] > saruman[i]:\n",
    "        \n",
    "        gandalf_wins += 1\n",
    "        \n",
    "    elif gandalf[i] < saruman[i]:\n",
    "        \n",
    "        saruman_wins += 1\n",
    "        \n",
    "print(gandalf_wins)\n",
    "print(saruman_wins)"
   ]
  },
  {
   "cell_type": "code",
   "execution_count": 6,
   "metadata": {},
   "outputs": [
    {
     "name": "stdout",
     "output_type": "stream",
     "text": [
      "['S', 'S', 'G', 'S', 'G', 'G', 'S', 'G', 'G', 'G']\n"
     ]
    }
   ],
   "source": [
    "# solved using a list comprehension\n",
    "\n",
    "clash = [\"G\" if gandalf[i] > saruman[i] else \"S\" if gandalf[i] < saruman[i] else \"T\" for i in range(spells)]\n",
    "\n",
    "print(clash)"
   ]
  },
  {
   "cell_type": "markdown",
   "metadata": {},
   "source": [
    "#### 4. Who won the battle?\n",
    "Print `Gandalf wins`, `Saruman wins` or `Tie` depending on the result. "
   ]
  },
  {
   "cell_type": "code",
   "execution_count": 7,
   "metadata": {},
   "outputs": [
    {
     "name": "stdout",
     "output_type": "stream",
     "text": [
      "Gandalf Wins!\n"
     ]
    }
   ],
   "source": [
    "# for the for loop solution\n",
    "\n",
    "if gandalf_wins > saruman_wins:\n",
    "    \n",
    "    print(\"Gandalf Wins!\")\n",
    "    \n",
    "elif gandalf_wins < saruman_wins:\n",
    "    \n",
    "    print(\"Saruman Wins!\")\n",
    "    \n",
    "else:\n",
    "    \n",
    "    print(\"It is a tie!\")\n",
    "    "
   ]
  },
  {
   "cell_type": "code",
   "execution_count": 8,
   "metadata": {},
   "outputs": [
    {
     "name": "stdout",
     "output_type": "stream",
     "text": [
      "Gandalf Wins!\n"
     ]
    }
   ],
   "source": [
    "# for the for list comprehension solution\n",
    "\n",
    "if clash.count(\"G\") > clash.count(\"S\"):\n",
    "    \n",
    "    print(\"Gandalf Wins!\")\n",
    "    \n",
    "elif clash.count(\"G\") < clash.count(\"S\"):\n",
    "    \n",
    "    print(\"Saruman Wins!\")\n",
    "    \n",
    "else:\n",
    "    \n",
    "    print(\"It is a tie!\")"
   ]
  },
  {
   "cell_type": "markdown",
   "metadata": {},
   "source": [
    "## Bonus\n",
    "\n",
    "In this bonus challenge, you'll need to check the winner of the battle but this time, a sorcerer wins if he succeeds in winning 3 spell clashes in a row.\n",
    "\n",
    "Also, the spells now have a name and there is a dictionary that associates that name to a power.\n",
    "\n",
    "```\n",
    "POWER = {\n",
    "    'Fireball': 50, \n",
    "    'Lightning bolt': 40, \n",
    "    'Magic arrow': 10, \n",
    "    'Black Tentacles': 25, \n",
    "    'Contagion': 45\n",
    "}\n",
    "\n",
    "gandalf = ['Fireball', 'Lightning bolt', 'Lightning bolt', 'Magic arrow', 'Fireball', \n",
    "           'Magic arrow', 'Lightning bolt', 'Fireball', 'Fireball', 'Fireball']\n",
    "saruman = ['Contagion', 'Contagion', 'Black Tentacles', 'Fireball', 'Black Tentacles', \n",
    "           'Lightning bolt', 'Magic arrow', 'Contagion', 'Magic arrow', 'Magic arrow']\n",
    "```\n",
    "\n",
    "#### 1. Create variables `POWER`, `gandalf` and `saruman` as seen above. Create a variable called `spells` to store the number of spells that the sorcerers cast. "
   ]
  },
  {
   "cell_type": "code",
   "execution_count": 9,
   "metadata": {},
   "outputs": [],
   "source": [
    "POWER = {\n",
    "    'Fireball': 50, \n",
    "    'Lightning bolt': 40, \n",
    "    'Magic arrow': 10, \n",
    "    'Black Tentacles': 25, \n",
    "    'Contagion': 45\n",
    "}\n",
    "\n",
    "gandalf = ['Fireball', 'Lightning bolt', 'Lightning bolt', 'Magic arrow', 'Fireball', \n",
    "           'Magic arrow', 'Lightning bolt', 'Fireball', 'Fireball', 'Fireball']\n",
    "saruman = ['Contagion', 'Contagion', 'Black Tentacles', 'Fireball', 'Black Tentacles', \n",
    "           'Lightning bolt', 'Magic arrow', 'Contagion', 'Magic arrow', 'Magic arrow']\n",
    "\n",
    "spells = len(gandalf) # It is assumed the spells list has the same length for both Sorcerers"
   ]
  },
  {
   "cell_type": "markdown",
   "metadata": {},
   "source": [
    "#### 2. Create two variables called `gandalf_wins` and `saruman_wins`. Set both of them to 0. "
   ]
  },
  {
   "cell_type": "code",
   "execution_count": 10,
   "metadata": {},
   "outputs": [],
   "source": [
    "gandalf_wins = 0\n",
    "saruman_wins = 0"
   ]
  },
  {
   "cell_type": "markdown",
   "metadata": {},
   "source": [
    "#### 3. Create two variables called `gandalf_power` and `saruman_power` to store the list of spell powers of each sorcerer."
   ]
  },
  {
   "cell_type": "code",
   "execution_count": 11,
   "metadata": {},
   "outputs": [
    {
     "name": "stdout",
     "output_type": "stream",
     "text": [
      "[50, 40, 40, 10, 50, 10, 40, 50, 50, 50]\n",
      "[45, 45, 25, 50, 25, 40, 10, 45, 10, 10]\n"
     ]
    }
   ],
   "source": [
    "# solved with for loop\n",
    "\n",
    "gandalf_power = []\n",
    "saruman_power = []\n",
    "\n",
    "for i in range(spells):\n",
    "    \n",
    "    gandalf_power.append(POWER[gandalf[i]])\n",
    "    saruman_power.append(POWER[saruman[i]])\n",
    "    \n",
    "print(gandalf_power)\n",
    "print(saruman_power)"
   ]
  },
  {
   "cell_type": "code",
   "execution_count": 12,
   "metadata": {},
   "outputs": [
    {
     "name": "stdout",
     "output_type": "stream",
     "text": [
      "[50, 40, 40, 10, 50, 10, 40, 50, 50, 50]\n",
      "[45, 45, 25, 50, 25, 40, 10, 45, 10, 10]\n"
     ]
    }
   ],
   "source": [
    "# solved with list comprehension\n",
    "\n",
    "gandalf_power = [POWER[gandalf[i]] for i in range(spells)]\n",
    "saruman_power = [POWER[saruman[i]] for i in range(spells)]\n",
    "\n",
    "print(gandalf_power)\n",
    "print(saruman_power)\n"
   ]
  },
  {
   "cell_type": "markdown",
   "metadata": {},
   "source": [
    "#### 4. The battle starts! Using the variables you've created above, code the execution of spell clashes. Remember that a sorcerer wins if he succeeds in winning 3 spell clashes in a row. \n",
    "If a clash ends up in a tie, the counter of wins in a row is not restarted to 0. Remember to print who is the winner of the battle. "
   ]
  },
  {
   "cell_type": "code",
   "execution_count": 13,
   "metadata": {},
   "outputs": [
    {
     "name": "stdout",
     "output_type": "stream",
     "text": [
      "Gandalf Wins!\n"
     ]
    }
   ],
   "source": [
    "# Initializen Variables - counters and Gandalf (G) and Saruman (S) Flags\n",
    "\n",
    "gandalf_counter = 0\n",
    "saruman_counter = 0\n",
    "Flag = \"\"\n",
    "\n",
    "# Looping the list of spells using indexes and the length of the list of spells with range\n",
    "for i in range(spells):\n",
    "    \n",
    "    # If Flag is G  that mean that the previous clash was won by Gandalf. Same for SAruman\n",
    "    if Flag == \"G\":\n",
    "        \n",
    "        # checking if Gandalf won\n",
    "        if gandalf_power[i] > saruman_power[i]:\n",
    "            \n",
    "            # increasing the wins count\n",
    "            gandalf_counter += 1\n",
    "            \n",
    "            # If the winning condition is met we break (stop) the for loop and print the winner\n",
    "            if gandalf_counter == 3:\n",
    "                \n",
    "                print(\"Gandalf Wins!\")\n",
    "                break\n",
    "        \n",
    "        # checking if Saruman won\n",
    "        if gandalf_power[i] < saruman_power[i]:\n",
    "             \n",
    "            # we change the flag to Saruman and reset the counter of gandalf (as we dont have a consecutive win)\n",
    "            Flag == \"S\"\n",
    "            gandalf_counter = 0\n",
    "    \n",
    "    # same logic as in the Gandalf if block but for Saruman \n",
    "    elif Flag == \"S\":\n",
    "        \n",
    "        if gandalf_power[i] < saruman_power[i]:\n",
    "            \n",
    "            saruman_counter += 1\n",
    "            \n",
    "            if saruman_counter == 3:\n",
    "                \n",
    "                print(\"Saruman Wins!\") \n",
    "                break\n",
    "        \n",
    "        if gandalf_power[i] > saruman_power[i]:\n",
    "             \n",
    "            Flag = \"G\"        \n",
    "            saruman_counter = 0\n",
    "    \n",
    "    # we enter this block when the flag is still not defined (first element in the loop)\n",
    "    else:\n",
    "        \n",
    "        if gandalf_power[i] > saruman_power[i]:\n",
    "            \n",
    "            Flag = \"G\"\n",
    "            gandalf_counter += 1\n",
    "        \n",
    "        if gandalf_power[i] < saruman_power[i]:        \n",
    "        \n",
    "            Flag = \"S\"\n",
    "            saruman_counter += 1\n",
    "    # when we reached the end of the list of spells, it means there is no winner\n",
    "    if i == spells - 1:\n",
    "    \n",
    "        print(\"It is a tie!\")       "
   ]
  },
  {
   "cell_type": "markdown",
   "metadata": {},
   "source": [
    "#### 5. Find the average spell power of Gandalf and Saruman. "
   ]
  },
  {
   "cell_type": "code",
   "execution_count": null,
   "metadata": {},
   "outputs": [],
   "source": []
  },
  {
   "cell_type": "markdown",
   "metadata": {},
   "source": [
    "#### 6. Find the standard deviation of the spell power of Gandalf and Saruman. "
   ]
  },
  {
   "cell_type": "code",
   "execution_count": null,
   "metadata": {},
   "outputs": [],
   "source": []
  }
 ],
 "metadata": {
  "kernelspec": {
   "display_name": "Python 3 (ipykernel)",
   "language": "python",
   "name": "python3"
  },
  "language_info": {
   "codemirror_mode": {
    "name": "ipython",
    "version": 3
   },
   "file_extension": ".py",
   "mimetype": "text/x-python",
   "name": "python",
   "nbconvert_exporter": "python",
   "pygments_lexer": "ipython3",
   "version": "3.9.0"
  }
 },
 "nbformat": 4,
 "nbformat_minor": 2
}
