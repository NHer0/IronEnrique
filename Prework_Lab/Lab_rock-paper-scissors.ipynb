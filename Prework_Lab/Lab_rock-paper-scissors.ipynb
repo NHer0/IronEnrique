{
 "cells": [
  {
   "cell_type": "markdown",
   "metadata": {},
   "source": [
    "<img src=\"https://bit.ly/2VnXWr2\" width=\"100\" align=\"left\">"
   ]
  },
  {
   "cell_type": "markdown",
   "metadata": {},
   "source": [
    "# Rock, Paper & Scissors\n",
    "\n",
    "Let's play the famous game against our computer. You can check the rules [here](https://en.wikipedia.org/wiki/Rock%E2%80%93paper%E2%80%93scissors). \n",
    "\n",
    "## Task\n",
    "Create a program that imitates the playability of the well known game of rock, paper, scissors. Follow the guidelines provided.\n",
    "\n",
    "## Tools\n",
    "1. Loop: **for/while**\n",
    "2. Functions: **input(), print()...**\n",
    "3. Conditional statements: **if, elif, else**\n",
    "4. Definition of functions. Modular programming\n",
    "5. Import modules\n",
    "\n",
    "**To solve this challenge, the use of functions is recommended.**\n",
    "\n",
    "#### 1. Import the choice function of the random module."
   ]
  },
  {
   "cell_type": "code",
   "execution_count": 16,
   "metadata": {},
   "outputs": [],
   "source": [
    "import random\n",
    "random.seed(0)"
   ]
  },
  {
   "cell_type": "markdown",
   "metadata": {},
   "source": [
    "#### 2. Create a list that includes the 3 possible gesture options of the game: 'rock', 'paper' or 'scissors'. Store the list in a variable called `gestures`."
   ]
  },
  {
   "cell_type": "code",
   "execution_count": 17,
   "metadata": {},
   "outputs": [],
   "source": [
    "gestures_3moves = [\"rock\", \"paper\", \"scissors\"]"
   ]
  },
  {
   "cell_type": "markdown",
   "metadata": {},
   "source": [
    "#### 3. Create a variable called `n_rounds` to store the maximum number of rounds to play in a game. \n",
    "Remember that the number of rounds must be odd: 1, 3, 5, ..."
   ]
  },
  {
   "cell_type": "code",
   "execution_count": 18,
   "metadata": {},
   "outputs": [],
   "source": [
    "n_rounds = 5"
   ]
  },
  {
   "cell_type": "markdown",
   "metadata": {},
   "source": [
    "#### 4. Create a variable called `rounds_to_win` to store the number of rounds that a player must win to win the game.\n",
    "**Hint**: the value stored in `rounds_to_win` depends on the value of `n_rounds`. "
   ]
  },
  {
   "cell_type": "code",
   "execution_count": 19,
   "metadata": {},
   "outputs": [
    {
     "name": "stdout",
     "output_type": "stream",
     "text": [
      "3\n"
     ]
    }
   ],
   "source": [
    "rounds_to_win = int(n_rounds/2) + 1\n",
    "print(rounds_to_win)"
   ]
  },
  {
   "cell_type": "markdown",
   "metadata": {},
   "source": [
    "#### 5. Create two variables to store the number of rounds that the computer and the player have won. Call these variables `cpu_score` and `player_score`."
   ]
  },
  {
   "cell_type": "code",
   "execution_count": 20,
   "metadata": {},
   "outputs": [],
   "source": [
    "cpu_score = 0\n",
    "player_score = 0"
   ]
  },
  {
   "cell_type": "markdown",
   "metadata": {},
   "source": [
    "#### 6. Define a function that randomly returns one of the 3 gesture options.\n",
    "You will use this function to simulate the gesture choice of the computer. "
   ]
  },
  {
   "cell_type": "code",
   "execution_count": 21,
   "metadata": {},
   "outputs": [],
   "source": [
    "def cpu_move(gestures):\n",
    "    \"\"\"\n",
    "    Inputs: a list of legal gestures. Type = List\n",
    "    \n",
    "    Returns: a gesture randomly chosen from gestures. Type = string\n",
    "    \"\"\"\n",
    "    return random.choice(gestures)\n",
    "    \n",
    "    \n",
    "    "
   ]
  },
  {
   "cell_type": "code",
   "execution_count": 22,
   "metadata": {},
   "outputs": [
    {
     "data": {
      "text/plain": [
       "'paper'"
      ]
     },
     "execution_count": 22,
     "metadata": {},
     "output_type": "execute_result"
    }
   ],
   "source": [
    "# cpu_move() function test\n",
    "\n",
    "cpu_move(gestures_3moves)"
   ]
  },
  {
   "cell_type": "markdown",
   "metadata": {},
   "source": [
    "#### 7. Define a function that asks the player which is the gesture he or she wants to show: 'rock', 'paper' or 'scissors'.\n",
    "The player should only be allowed to choose one of the 3 gesture options. If the player's choice is not rock, paper or scissors, keep asking until it is."
   ]
  },
  {
   "cell_type": "code",
   "execution_count": 34,
   "metadata": {},
   "outputs": [],
   "source": [
    "def player_move(gestures):\n",
    "    \n",
    "    \"\"\"\n",
    "    Inputs: a list of legal gestures. Type = List\n",
    "    \n",
    "    Returns: the player selected gesture, if legal. If the chosen gesture is not legal the function will keep asking until the condition is met. Type = string\n",
    "    \n",
    "    \"\"\"\n",
    "    \n",
    "    move = input(\"Please choose your move: \").lower()\n",
    "\n",
    "    while move not in gestures:\n",
    "        \n",
    "            print(\"Sorry that move is not legal in this game. Try one of the legal options.\")\n",
    "            move = input(\"Please choose your move: \").lower()\n",
    "        \n",
    "    return move\n",
    "    "
   ]
  },
  {
   "cell_type": "code",
   "execution_count": 35,
   "metadata": {},
   "outputs": [
    {
     "name": "stdout",
     "output_type": "stream",
     "text": [
      "Sorry that move is not legal in this game. Try one of the legal options.\n",
      "Sorry that move is not legal in this game. Try one of the legal options.\n"
     ]
    },
    {
     "data": {
      "text/plain": [
       "'rock'"
      ]
     },
     "execution_count": 35,
     "metadata": {},
     "output_type": "execute_result"
    }
   ],
   "source": [
    "# player_move() function test\n",
    "\n",
    "player_move(gestures_3moves)"
   ]
  },
  {
   "cell_type": "markdown",
   "metadata": {},
   "source": [
    "#### 8. Define a function that checks who won a round. \n",
    "The function should return 0 if there is a tie, 1 if the computer wins and 2 if the player wins."
   ]
  },
  {
   "cell_type": "code",
   "execution_count": 25,
   "metadata": {},
   "outputs": [],
   "source": [
    "# def winner(cpu_gesture, player_gesture):\n",
    "    \n",
    "#     \"\"\"\n",
    "#     Inputs: player and cpu gestures. Type = strings\n",
    "#     Output: winner of the round (2 = Player / 1 = CPU / 0 = Tie). Type = int\n",
    "    \n",
    "#     \"\"\"\n",
    "    \n",
    "#     if player_gesture == \"paper\":\n",
    "        \n",
    "#         if cpu_gesture == \"rock\":\n",
    "            \n",
    "#             return 2\n",
    "        \n",
    "#         elif cpu_gesture == \"scissors\":\n",
    "            \n",
    "#             return 1\n",
    "        \n",
    "#         else:\n",
    "            \n",
    "#             return 0\n",
    "        \n",
    "#     if player_gesture == \"rock\":\n",
    "        \n",
    "#         if cpu_gesture == \"scissors\":\n",
    "            \n",
    "#             return 2\n",
    "        \n",
    "#         elif cpu_gesture == \"paper\":\n",
    "            \n",
    "#             return 1\n",
    "        \n",
    "#         else:\n",
    "            \n",
    "#             return 0\n",
    "        \n",
    "#     if player_gesture == \"scissors\":\n",
    "        \n",
    "#         if cpu_gesture == \"paper\":\n",
    "            \n",
    "#             return 2\n",
    "        \n",
    "#         elif cpu_gesture == \"rock\":\n",
    "            \n",
    "#             return 1\n",
    "        \n",
    "#         else:\n",
    "            \n",
    "#             return 0"
   ]
  },
  {
   "cell_type": "code",
   "execution_count": 26,
   "metadata": {},
   "outputs": [],
   "source": [
    "# second version of winner(), with a dict containing the rules as input\n",
    "\n",
    "rules_3moves = {\n",
    "    \"rock\":{\"scissors\":\"Wins\", \"paper\":\"Loses\"}, \n",
    "    \"paper\":{\"rock\":\"Wins\", \"scissors\":\"Loses\"}, \n",
    "    \"scissors\":{\"rock\":\"Loses\", \"paper\":\"Wins\"}\n",
    "        }\n",
    "\n",
    "\n",
    "def winner(cpu_gesture, player_gesture, rules):\n",
    "    \n",
    "    \"\"\"\n",
    "    \n",
    "    \"\"\"\n",
    "    \n",
    "    if cpu_gesture == player_gesture:\n",
    "        \n",
    "        return 0    \n",
    "    \n",
    "    elif rules[player_gesture][cpu_gesture] == \"Wins\":\n",
    "        \n",
    "        return 2\n",
    "    \n",
    "    elif rules[player_gesture][cpu_gesture] == \"Loses\":\n",
    "        \n",
    "        return 1\n",
    "       "
   ]
  },
  {
   "cell_type": "code",
   "execution_count": 27,
   "metadata": {},
   "outputs": [
    {
     "data": {
      "text/plain": [
       "1"
      ]
     },
     "execution_count": 27,
     "metadata": {},
     "output_type": "execute_result"
    }
   ],
   "source": [
    "# winner function test\n",
    "\n",
    "winner(\"paper\", \"rock\", rules_3moves)"
   ]
  },
  {
   "cell_type": "markdown",
   "metadata": {},
   "source": [
    "#### 9. Define a function that prints the choice of the computer, the choice of the player and a message that announces who won the current round. \n",
    "You should also use this function to update the variables that count the number of rounds that the computer and the player have won. The score of the winner increases by one point. If there is a tie, the score does not increase."
   ]
  },
  {
   "cell_type": "code",
   "execution_count": 28,
   "metadata": {},
   "outputs": [],
   "source": [
    "def printer(cpu_gesture, player_gesture, winner, cpu_score, player_score):\n",
    "    \"\"\"\n",
    "    \n",
    "    \"\"\"\n",
    "    \n",
    "    print(f'The gesture of the CPU is: {cpu_gesture}')\n",
    "    print(f'The gesture of the Player is: {player_gesture}')\n",
    "    \n",
    "    if winner == 1:\n",
    "        \n",
    "        winner = \"CPU\"\n",
    "        cpu_score += 1\n",
    "        \n",
    "    elif winner == 2:\n",
    "        \n",
    "        winner = \"Player\"\n",
    "        player_score += 1        \n",
    "        \n",
    "    else:\n",
    "        \n",
    "        print(\"The round is a tie.\")\n",
    "\n",
    "    if winner != 0:\n",
    "        \n",
    "        print(f'The {winner} is the winner of this round.')\n",
    "        \n",
    "    print(f'The overall result of the current game is: Player Wins = {player_score} / CPU Wins = {cpu_score}')\n",
    "    \n",
    "    return player_score, cpu_score\n"
   ]
  },
  {
   "cell_type": "code",
   "execution_count": 29,
   "metadata": {},
   "outputs": [
    {
     "name": "stdout",
     "output_type": "stream",
     "text": [
      "The gesture of the CPU is: paper\n",
      "The gesture of the Player is: rock\n",
      "The round is a tie.\n",
      "The overall result of the current game is: Player Wins = 0 / CPU Wins = 0\n"
     ]
    },
    {
     "data": {
      "text/plain": [
       "(0, 0)"
      ]
     },
     "execution_count": 29,
     "metadata": {},
     "output_type": "execute_result"
    }
   ],
   "source": [
    "printer(\"paper\", \"rock\", 0, 0, 0)"
   ]
  },
  {
   "cell_type": "markdown",
   "metadata": {},
   "source": [
    "#### 10. Now it's time to code the execution of the game using the functions and variables you defined above. \n",
    "\n",
    "First, create a loop structure that repeats while no player reaches the minimum score necessary to win and the number of rounds is less than the maximum number of rounds to play in a game.  \n",
    "\n",
    "Inside the loop, use the functions and variables above to create the execution of a round: ask for the player's choice, generate the random choice of the computer, show the round results, update the scores, etc. "
   ]
  },
  {
   "cell_type": "code",
   "execution_count": 30,
   "metadata": {},
   "outputs": [],
   "source": [
    "def rounds():\n",
    "    \n",
    "    rounds = 0\n",
    "    Flag = False\n",
    "\n",
    "    while (rounds % 2) == 0:\n",
    "        \n",
    "        if Flag == True:\n",
    "            print(\"Sorry, Ties are boring. The number of rounds should be an odd number. Please try again.\")\n",
    "        \n",
    "        rounds = int(input(\"Please insert the number of rounds you wanna play: \"))\n",
    "        Flag = True\n",
    "        \n",
    "    return rounds"
   ]
  },
  {
   "cell_type": "code",
   "execution_count": 31,
   "metadata": {},
   "outputs": [],
   "source": [
    "def play_a_game(rules, gestures):\n",
    "    \n",
    "    \"\"\"\n",
    "    \"\"\"\n",
    "    n_wins = 0\n",
    "    cpu_score = 0\n",
    "    player_score = 0\n",
    "    n_rounds = rounds()\n",
    "    rounds_to_win = int(n_rounds/2) + 1\n",
    "    \n",
    "    while n_wins < rounds_to_win:\n",
    "        \n",
    "        player_gesture = player_move(gestures)\n",
    "        cpu_gesture = cpu_move(gestures)\n",
    "        round_winner = winner(cpu_gesture, player_gesture, rules)\n",
    "        player_score, cpu_score = printer(cpu_gesture, player_gesture, round_winner, cpu_score, player_score)\n",
    "        n_wins = max(player_score, cpu_score)\n",
    "        \n",
    "    if player_score > cpu_score:\n",
    "        \n",
    "        print(\"The Player won the game! Well Done!\")\n",
    "        \n",
    "    else:\n",
    "        \n",
    "        print(\"The CPU won the game! Better Luck Next Time!\")\n"
   ]
  },
  {
   "cell_type": "code",
   "execution_count": 33,
   "metadata": {},
   "outputs": [
    {
     "name": "stdout",
     "output_type": "stream",
     "text": [
      "The gesture of the CPU is: paper\n",
      "The gesture of the Player is: rock\n",
      "The CPU is the winner of this round.\n",
      "The overall result of the current game is: Player Wins = 0 / CPU Wins = 1\n",
      "The gesture of the CPU is: rock\n",
      "The gesture of the Player is: paper\n",
      "The Player is the winner of this round.\n",
      "The overall result of the current game is: Player Wins = 1 / CPU Wins = 1\n",
      "The gesture of the CPU is: paper\n",
      "The gesture of the Player is: rock\n",
      "The CPU is the winner of this round.\n",
      "The overall result of the current game is: Player Wins = 1 / CPU Wins = 2\n",
      "The gesture of the CPU is: scissors\n",
      "The gesture of the Player is: paper\n",
      "The CPU is the winner of this round.\n",
      "The overall result of the current game is: Player Wins = 1 / CPU Wins = 3\n",
      "The CPU won the game! Better Luck Next Time!\n"
     ]
    }
   ],
   "source": [
    "# play_a_game function test\n",
    "\n",
    "play_a_game(rules_3moves, gestures_3moves)"
   ]
  },
  {
   "cell_type": "markdown",
   "metadata": {},
   "source": [
    "#### 11. Print the winner of the game based on who won more rounds.\n",
    "Remember that the game might be tied. "
   ]
  },
  {
   "cell_type": "code",
   "execution_count": 42,
   "metadata": {},
   "outputs": [],
   "source": [
    "# See function play_a_game() in previous exercise"
   ]
  },
  {
   "cell_type": "markdown",
   "metadata": {},
   "source": [
    "# Bonus: Rock, Paper, Scissors, Lizard & Spock\n",
    "![](images/rpsls.jpg)\n",
    "\n",
    "In this challenge, you need to improve the previous game by adding two new options. To know more about the rules of the improved version of rock, paper, scissors, check this [link](http://www.samkass.com/theories/RPSSL.html). \n",
    "\n",
    "In addition, you will also need to improve how the game interacts with the player: the number of rounds to play, which must be an odd number, will be requested to the user until a valid number is entered. Define a new function to make that request.\n",
    "\n",
    "**Hint**: Try to reuse the code that you already coded in the previous challenge. If your code is efficient, this bonus will only consist of simple modifications to the original game."
   ]
  },
  {
   "cell_type": "code",
   "execution_count": 45,
   "metadata": {},
   "outputs": [],
   "source": [
    "# We need to define a new set of rules and gestures\n",
    "\n",
    "rules_5moves = {\n",
    "    \"rock\":{\"scissors\":\"Wins\", \"paper\":\"Loses\", \"lizard\":\"Wins\", \"spock\":\"Loses\"}, \n",
    "    \"paper\":{\"rock\":\"Wins\", \"scissors\":\"Loses\", \"lizard\":\"Loses\", \"spock\":\"Wins\"}, \n",
    "    \"scissors\":{\"rock\":\"Loses\", \"paper\":\"Wins\", \"lizard\":\"Wins\", \"spock\":\"Loses\"},\n",
    "    \"spock\":{\"rock\":\"Wins\", \"paper\":\"Loses\", \"scissors\":\"Wins\", \"lizard\":\"Loses\"},\n",
    "    \"lizard\":{\"rock\":\"Loses\", \"paper\":\"Wins\", \"scissors\":\"Loses\", \"spock\":\"Wins\"},\n",
    "        }\n",
    "\n",
    "gestures_5moves = [\"rock\", \"paper\", \"scissors\", \"lizard\", \"spock\"]"
   ]
  },
  {
   "cell_type": "code",
   "execution_count": 46,
   "metadata": {},
   "outputs": [
    {
     "name": "stdout",
     "output_type": "stream",
     "text": [
      "Please insert the number of rounds you wanna play: 3\n",
      "Please choose your move: lizard\n",
      "The gesture of the CPU is: lizard\n",
      "The gesture of the Player is: lizard\n",
      "The round is a tie.\n",
      "The overall result of the current game is: Player Wins = 0 / CPU Wins = 0\n",
      "Please choose your move: lizard\n",
      "The gesture of the CPU is: lizard\n",
      "The gesture of the Player is: lizard\n",
      "The round is a tie.\n",
      "The overall result of the current game is: Player Wins = 0 / CPU Wins = 0\n",
      "Please choose your move: spock\n",
      "The gesture of the CPU is: scissors\n",
      "The gesture of the Player is: spock\n",
      "The Player is the winner of this round.\n",
      "The overall result of the current game is: Player Wins = 1 / CPU Wins = 0\n",
      "Please choose your move: spock\n",
      "The gesture of the CPU is: lizard\n",
      "The gesture of the Player is: spock\n",
      "The CPU is the winner of this round.\n",
      "The overall result of the current game is: Player Wins = 1 / CPU Wins = 1\n",
      "Please choose your move: spock\n",
      "The gesture of the CPU is: scissors\n",
      "The gesture of the Player is: spock\n",
      "The Player is the winner of this round.\n",
      "The overall result of the current game is: Player Wins = 2 / CPU Wins = 1\n",
      "The Player won the game! Well Done!\n"
     ]
    }
   ],
   "source": [
    "play_a_game(rules_5moves, gestures_5moves)"
   ]
  },
  {
   "cell_type": "code",
   "execution_count": null,
   "metadata": {},
   "outputs": [],
   "source": []
  }
 ],
 "metadata": {
  "kernelspec": {
   "display_name": "Python 3 (ipykernel)",
   "language": "python",
   "name": "python3"
  },
  "language_info": {
   "codemirror_mode": {
    "name": "ipython",
    "version": 3
   },
   "file_extension": ".py",
   "mimetype": "text/x-python",
   "name": "python",
   "nbconvert_exporter": "python",
   "pygments_lexer": "ipython3",
   "version": "3.9.0"
  }
 },
 "nbformat": 4,
 "nbformat_minor": 2
}
