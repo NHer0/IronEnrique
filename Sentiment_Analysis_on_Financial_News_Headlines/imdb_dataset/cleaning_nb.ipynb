{
 "cells": [
  {
   "cell_type": "markdown",
   "metadata": {},
   "source": [
    "# Importing Required Modules"
   ]
  },
  {
   "cell_type": "markdown",
   "metadata": {},
   "source": [
    "## General Libraries"
   ]
  },
  {
   "cell_type": "code",
   "execution_count": 1,
   "metadata": {},
   "outputs": [],
   "source": [
    "import pandas as pd\n",
    "import numpy as np\n",
    "import matplotlib.pyplot as plt\n",
    "import seaborn as sns\n",
    "import regex as re\n",
    "import html"
   ]
  },
  {
   "cell_type": "markdown",
   "metadata": {},
   "source": [
    "## NLP"
   ]
  },
  {
   "cell_type": "code",
   "execution_count": 2,
   "metadata": {},
   "outputs": [
    {
     "name": "stderr",
     "output_type": "stream",
     "text": [
      "[nltk_data] Downloading package punkt to\n",
      "[nltk_data]     C:\\Users\\user\\AppData\\Roaming\\nltk_data...\n",
      "[nltk_data]   Package punkt is already up-to-date!\n",
      "[nltk_data] Downloading package stopwords to\n",
      "[nltk_data]     C:\\Users\\user\\AppData\\Roaming\\nltk_data...\n",
      "[nltk_data]   Package stopwords is already up-to-date!\n",
      "[nltk_data] Downloading package wordnet to\n",
      "[nltk_data]     C:\\Users\\user\\AppData\\Roaming\\nltk_data...\n",
      "[nltk_data]   Package wordnet is already up-to-date!\n",
      "[nltk_data] Downloading package tagsets to\n",
      "[nltk_data]     C:\\Users\\user\\AppData\\Roaming\\nltk_data...\n",
      "[nltk_data]   Package tagsets is already up-to-date!\n"
     ]
    },
    {
     "data": {
      "text/plain": [
       "True"
      ]
     },
     "execution_count": 2,
     "metadata": {},
     "output_type": "execute_result"
    }
   ],
   "source": [
    "import textacy.preprocessing as tprep\n",
    "import nltk\n",
    "nltk.download('punkt')\n",
    "nltk.download('stopwords')\n",
    "nltk.download('wordnet')\n",
    "nltk.download('tagsets')\n"
   ]
  },
  {
   "cell_type": "markdown",
   "metadata": {},
   "source": [
    "# Functions"
   ]
  },
  {
   "cell_type": "code",
   "execution_count": 3,
   "metadata": {},
   "outputs": [],
   "source": [
    "def impurity_ratio(text, regex, min_len=10):\n",
    "    \"\"\"\n",
    "    \n",
    "\n",
    "    Parameters\n",
    "    ----------\n",
    "    text : str\n",
    "        The text to be analysed.\n",
    "    regex : regular expression.\n",
    "        A regular expresion containing the characters considered impure.\n",
    "    min_len : int, optional\n",
    "        minimum length of the string to be analysed. The default is 10.\n",
    "\n",
    "    Returns\n",
    "    -------\n",
    "    int\n",
    "        Impurity ratio of the analysed text.\n",
    "\n",
    "    \"\"\"\n",
    "    \n",
    "    \n",
    "    if len(text) < min_len:\n",
    "        return 0\n",
    "    else:\n",
    "        return len(regex.findall(text))/len(text)"
   ]
  },
  {
   "cell_type": "code",
   "execution_count": 4,
   "metadata": {},
   "outputs": [],
   "source": [
    "def clean_text(text):\n",
    "    \"\"\"\n",
    "    \n",
    "\n",
    "    Parameters\n",
    "    ----------\n",
    "    text : str\n",
    "        Text that will be cleaned according to the rules explained in the comments.\n",
    "\n",
    "    Returns\n",
    "    -------\n",
    "    str\n",
    "        Returns the cleaned text.\n",
    "\n",
    "    \"\"\"\n",
    "    \n",
    "    # convert html escapes like &amp; to characters.\n",
    "    text = html.unescape(text)\n",
    "\n",
    "    # tags like <tab>\n",
    "    text = re.sub(r'<[^<>]*>', ' ', text)\n",
    "\n",
    "    # markdown URLs like [Some text](https://....)\n",
    "    text = re.sub(r'\\[([^\\[\\]]*)\\]\\([^\\(\\)]*\\)', r'\\1', text)\n",
    "\n",
    "    # text or code in brackets like [0]\n",
    "    text = re.sub(r'\\[[^\\[\\]]*\\]', ' ', text)\n",
    "\n",
    "    # standalone sequences of specials, matches &# but not #cool\n",
    "    text = re.sub(r'(?:^|\\s)[&#<>{}\\[\\]+|\\\\:-]{1,}(?:\\s|$)', ' ', text)\n",
    "\n",
    "    # standalone sequences of hyphens like --- or ==\n",
    "    text = re.sub(r'(?:^|\\s)[\\-=\\+]{2,}(?:\\s|$)', ' ', text)\n",
    "\n",
    "    # sequences of white spaces\n",
    "    text = re.sub(r'\\s+', ' ', text)\n",
    "\n",
    "    ###########\n",
    "    # The ones between ########### were added after one cleaning process, consider removed them for other datasets\n",
    "\n",
    "    # sequences of > at the begining or end of word\n",
    "\n",
    "    text = re.sub(r'\\s>+|^>+|<+\\s|<+$', ' ', text)\n",
    "    \n",
    "    # sequences of # (more than 1) at the begining or end of word\n",
    "\n",
    "    text = re.sub(r'\\b#{2,}|#{2,}\\b', ' ', text)\n",
    "\n",
    "    # - at the end of beginning of word\n",
    "\n",
    "    text = re.sub(r'\\s-|-\\s|-$', ' ', text)\n",
    "    \n",
    "    # sequences of # (one or more) at the begining of number between 0-20 as in #1\n",
    "\n",
    "    text = re.sub(r'#(?=[0-9])', ' ', text)\n",
    "\n",
    "    ###########\n",
    "\n",
    "    return text.strip()\n",
    "\n",
    "    "
   ]
  },
  {
   "cell_type": "markdown",
   "metadata": {},
   "source": [
    "# Configuration"
   ]
  },
  {
   "cell_type": "code",
   "execution_count": 5,
   "metadata": {},
   "outputs": [],
   "source": [
    "# Plotting theme\n",
    "sns.set_theme(style=\"darkgrid\")"
   ]
  },
  {
   "cell_type": "markdown",
   "metadata": {},
   "source": [
    "# Cleaning and Normalising the Data - Pipeline"
   ]
  },
  {
   "cell_type": "code",
   "execution_count": 6,
   "metadata": {},
   "outputs": [],
   "source": [
    "path = \"Data/IMDB_Dataset.csv\"\n",
    "imdb_df = pd.read_csv(path)"
   ]
  },
  {
   "cell_type": "code",
   "execution_count": 7,
   "metadata": {},
   "outputs": [],
   "source": [
    "imdb_df[\"review\"] = (imdb_df[\"review\"].apply(clean_text)       # cleans the text, see function in functions section\n",
    "                    .apply(clean_text)                         # repats cleaning\n",
    "                    .apply(clean_text)                         # repeats cleaning\n",
    "                    .apply(tprep.normalize.hyphenated_words)   # normalizes hyphendation\n",
    "                    .apply(tprep.normalize.quotation_marks)    # normalizes fancy quotation marks to ASCII\n",
    "                    .apply(tprep.normalize.unicode)            # normalizes unicode to ASCII\n",
    "                    .apply(tprep.remove.accents)               # normalizes accents\n",
    "                    .apply(tprep.replace.urls)                 # replaces urls by __URL__\n",
    "                    .apply(tprep.replace.emails)               # replaces emails by __EMAIL__\n",
    "                    .apply(tprep.replace.emojis)               # replaces emails by __EMOJI__\n",
    "                    )"
   ]
  },
  {
   "cell_type": "code",
   "execution_count": 8,
   "metadata": {},
   "outputs": [],
   "source": [
    "imdb_df.to_csv(\"Data/IMDB_Dataset_cleaned.csv\", index=False)"
   ]
  },
  {
   "cell_type": "markdown",
   "metadata": {},
   "source": [
    "# Loading the Data"
   ]
  },
  {
   "cell_type": "code",
   "execution_count": 9,
   "metadata": {},
   "outputs": [],
   "source": [
    "path = \"Data/IMDB_Dataset.csv\"\n",
    "imdb_df = pd.read_csv(path)"
   ]
  },
  {
   "cell_type": "markdown",
   "metadata": {},
   "source": [
    "# Data Exploration"
   ]
  },
  {
   "cell_type": "markdown",
   "metadata": {},
   "source": [
    "## Basic Exploration"
   ]
  },
  {
   "cell_type": "code",
   "execution_count": 10,
   "metadata": {},
   "outputs": [
    {
     "data": {
      "text/html": [
       "<div>\n",
       "<style scoped>\n",
       "    .dataframe tbody tr th:only-of-type {\n",
       "        vertical-align: middle;\n",
       "    }\n",
       "\n",
       "    .dataframe tbody tr th {\n",
       "        vertical-align: top;\n",
       "    }\n",
       "\n",
       "    .dataframe thead th {\n",
       "        text-align: right;\n",
       "    }\n",
       "</style>\n",
       "<table border=\"1\" class=\"dataframe\">\n",
       "  <thead>\n",
       "    <tr style=\"text-align: right;\">\n",
       "      <th></th>\n",
       "      <th>review</th>\n",
       "      <th>sentiment</th>\n",
       "    </tr>\n",
       "  </thead>\n",
       "  <tbody>\n",
       "    <tr>\n",
       "      <th>0</th>\n",
       "      <td>One of the other reviewers has mentioned that ...</td>\n",
       "      <td>positive</td>\n",
       "    </tr>\n",
       "    <tr>\n",
       "      <th>1</th>\n",
       "      <td>A wonderful little production. &lt;br /&gt;&lt;br /&gt;The...</td>\n",
       "      <td>positive</td>\n",
       "    </tr>\n",
       "    <tr>\n",
       "      <th>2</th>\n",
       "      <td>I thought this was a wonderful way to spend ti...</td>\n",
       "      <td>positive</td>\n",
       "    </tr>\n",
       "    <tr>\n",
       "      <th>3</th>\n",
       "      <td>Basically there's a family where a little boy ...</td>\n",
       "      <td>negative</td>\n",
       "    </tr>\n",
       "    <tr>\n",
       "      <th>4</th>\n",
       "      <td>Petter Mattei's \"Love in the Time of Money\" is...</td>\n",
       "      <td>positive</td>\n",
       "    </tr>\n",
       "  </tbody>\n",
       "</table>\n",
       "</div>"
      ],
      "text/plain": [
       "                                              review sentiment\n",
       "0  One of the other reviewers has mentioned that ...  positive\n",
       "1  A wonderful little production. <br /><br />The...  positive\n",
       "2  I thought this was a wonderful way to spend ti...  positive\n",
       "3  Basically there's a family where a little boy ...  negative\n",
       "4  Petter Mattei's \"Love in the Time of Money\" is...  positive"
      ]
     },
     "execution_count": 10,
     "metadata": {},
     "output_type": "execute_result"
    }
   ],
   "source": [
    "imdb_df.head()"
   ]
  },
  {
   "cell_type": "code",
   "execution_count": 11,
   "metadata": {},
   "outputs": [
    {
     "name": "stdout",
     "output_type": "stream",
     "text": [
      "<class 'pandas.core.frame.DataFrame'>\n",
      "RangeIndex: 50000 entries, 0 to 49999\n",
      "Data columns (total 2 columns):\n",
      " #   Column     Non-Null Count  Dtype \n",
      "---  ------     --------------  ----- \n",
      " 0   review     50000 non-null  object\n",
      " 1   sentiment  50000 non-null  object\n",
      "dtypes: object(2)\n",
      "memory usage: 781.4+ KB\n"
     ]
    }
   ],
   "source": [
    "imdb_df.info()"
   ]
  },
  {
   "cell_type": "markdown",
   "metadata": {},
   "source": [
    "To simplify for the rest of the notebook calling the review and the sentiment columns we will create dedicated variables."
   ]
  },
  {
   "cell_type": "code",
   "execution_count": 12,
   "metadata": {},
   "outputs": [],
   "source": [
    "review_untouched_df = imdb_df[\"review\"]\n",
    "review_df = imdb_df[\"review\"]\n",
    "sentiment_df = imdb_df[\"sentiment\"]"
   ]
  },
  {
   "cell_type": "code",
   "execution_count": 13,
   "metadata": {},
   "outputs": [],
   "source": [
    "sentiment_count = sentiment_df.value_counts(dropna=False)\n"
   ]
  },
  {
   "cell_type": "markdown",
   "metadata": {},
   "source": [
    "Bar Plot of the sentiment binary distribution. The dataset is perfectly balance"
   ]
  },
  {
   "cell_type": "code",
   "execution_count": 14,
   "metadata": {},
   "outputs": [
    {
     "data": {
      "text/plain": [
       "<BarContainer object of 2 artists>"
      ]
     },
     "execution_count": 14,
     "metadata": {},
     "output_type": "execute_result"
    },
    {
     "data": {
      "image/png": "[encoded data removed]",
      "text/plain": [
       "<Figure size 576x576 with 1 Axes>"
      ]
     },
     "metadata": {},
     "output_type": "display_data"
    }
   ],
   "source": [
    "# create figure and axes\n",
    "fig1, ax1 = plt.subplots(figsize = (8,8))\n",
    "\n",
    "# set title\n",
    "ax1.set_title('Sentiment Distribution', fontweight='bold')\n",
    "\n",
    "# plot the bar chart\n",
    "ax1.bar(sentiment_count.index, sentiment_count, color=('green','red'))"
   ]
  },
  {
   "cell_type": "markdown",
   "metadata": {},
   "source": [
    "There are no missing values in the data and all are string."
   ]
  },
  {
   "cell_type": "code",
   "execution_count": 15,
   "metadata": {},
   "outputs": [
    {
     "name": "stdout",
     "output_type": "stream",
     "text": [
      "The number of values not string in column review is 0.\n",
      "The number of missing values in sentiment column is 0.\n"
     ]
    }
   ],
   "source": [
    "review_n_nostr = review_df.shape[0] - sum([isinstance(i, str) for i in review_df])\n",
    "sentiment_n_nostr = sentiment_df.shape[0] - sum([isinstance(i, str) for i in sentiment_df])\n",
    "\n",
    "print(f\"The number of values not string in column review is {review_n_nostr}.\")\n",
    "print(f\"The number of missing values in sentiment column is {sentiment_n_nostr}.\")"
   ]
  },
  {
   "cell_type": "markdown",
   "metadata": {},
   "source": [
    "## Exploring the length of the reviews"
   ]
  },
  {
   "cell_type": "markdown",
   "metadata": {},
   "source": [
    "Let us create a new column with the lenght of the review text."
   ]
  },
  {
   "cell_type": "code",
   "execution_count": 16,
   "metadata": {},
   "outputs": [
    {
     "data": {
      "text/html": [
       "<div>\n",
       "<style scoped>\n",
       "    .dataframe tbody tr th:only-of-type {\n",
       "        vertical-align: middle;\n",
       "    }\n",
       "\n",
       "    .dataframe tbody tr th {\n",
       "        vertical-align: top;\n",
       "    }\n",
       "\n",
       "    .dataframe thead th {\n",
       "        text-align: right;\n",
       "    }\n",
       "</style>\n",
       "<table border=\"1\" class=\"dataframe\">\n",
       "  <thead>\n",
       "    <tr style=\"text-align: right;\">\n",
       "      <th></th>\n",
       "      <th>review</th>\n",
       "      <th>review_length</th>\n",
       "      <th>sentiment</th>\n",
       "    </tr>\n",
       "  </thead>\n",
       "  <tbody>\n",
       "    <tr>\n",
       "      <th>0</th>\n",
       "      <td>One of the other reviewers has mentioned that ...</td>\n",
       "      <td>1761</td>\n",
       "      <td>positive</td>\n",
       "    </tr>\n",
       "    <tr>\n",
       "      <th>1</th>\n",
       "      <td>A wonderful little production. &lt;br /&gt;&lt;br /&gt;The...</td>\n",
       "      <td>998</td>\n",
       "      <td>positive</td>\n",
       "    </tr>\n",
       "    <tr>\n",
       "      <th>2</th>\n",
       "      <td>I thought this was a wonderful way to spend ti...</td>\n",
       "      <td>926</td>\n",
       "      <td>positive</td>\n",
       "    </tr>\n",
       "    <tr>\n",
       "      <th>3</th>\n",
       "      <td>Basically there's a family where a little boy ...</td>\n",
       "      <td>748</td>\n",
       "      <td>negative</td>\n",
       "    </tr>\n",
       "    <tr>\n",
       "      <th>4</th>\n",
       "      <td>Petter Mattei's \"Love in the Time of Money\" is...</td>\n",
       "      <td>1317</td>\n",
       "      <td>positive</td>\n",
       "    </tr>\n",
       "  </tbody>\n",
       "</table>\n",
       "</div>"
      ],
      "text/plain": [
       "                                              review  review_length sentiment\n",
       "0  One of the other reviewers has mentioned that ...           1761  positive\n",
       "1  A wonderful little production. <br /><br />The...            998  positive\n",
       "2  I thought this was a wonderful way to spend ti...            926  positive\n",
       "3  Basically there's a family where a little boy ...            748  negative\n",
       "4  Petter Mattei's \"Love in the Time of Money\" is...           1317  positive"
      ]
     },
     "execution_count": 16,
     "metadata": {},
     "output_type": "execute_result"
    }
   ],
   "source": [
    "imdb_df.insert(1, column=\"review_length\", value=[len(text) for text in review_df])\n",
    "imdb_df.head()"
   ]
  },
  {
   "cell_type": "code",
   "execution_count": 17,
   "metadata": {},
   "outputs": [
    {
     "data": {
      "text/html": [
       "<div>\n",
       "<style scoped>\n",
       "    .dataframe tbody tr th:only-of-type {\n",
       "        vertical-align: middle;\n",
       "    }\n",
       "\n",
       "    .dataframe tbody tr th {\n",
       "        vertical-align: top;\n",
       "    }\n",
       "\n",
       "    .dataframe thead th {\n",
       "        text-align: right;\n",
       "    }\n",
       "</style>\n",
       "<table border=\"1\" class=\"dataframe\">\n",
       "  <thead>\n",
       "    <tr style=\"text-align: right;\">\n",
       "      <th></th>\n",
       "      <th>review_length</th>\n",
       "    </tr>\n",
       "  </thead>\n",
       "  <tbody>\n",
       "    <tr>\n",
       "      <th>count</th>\n",
       "      <td>50000.000000</td>\n",
       "    </tr>\n",
       "    <tr>\n",
       "      <th>mean</th>\n",
       "      <td>1309.431020</td>\n",
       "    </tr>\n",
       "    <tr>\n",
       "      <th>std</th>\n",
       "      <td>989.728014</td>\n",
       "    </tr>\n",
       "    <tr>\n",
       "      <th>min</th>\n",
       "      <td>32.000000</td>\n",
       "    </tr>\n",
       "    <tr>\n",
       "      <th>25%</th>\n",
       "      <td>699.000000</td>\n",
       "    </tr>\n",
       "    <tr>\n",
       "      <th>50%</th>\n",
       "      <td>970.000000</td>\n",
       "    </tr>\n",
       "    <tr>\n",
       "      <th>75%</th>\n",
       "      <td>1590.250000</td>\n",
       "    </tr>\n",
       "    <tr>\n",
       "      <th>max</th>\n",
       "      <td>13704.000000</td>\n",
       "    </tr>\n",
       "  </tbody>\n",
       "</table>\n",
       "</div>"
      ],
      "text/plain": [
       "       review_length\n",
       "count   50000.000000\n",
       "mean     1309.431020\n",
       "std       989.728014\n",
       "min        32.000000\n",
       "25%       699.000000\n",
       "50%       970.000000\n",
       "75%      1590.250000\n",
       "max     13704.000000"
      ]
     },
     "execution_count": 17,
     "metadata": {},
     "output_type": "execute_result"
    }
   ],
   "source": [
    "imdb_df.describe()"
   ]
  },
  {
   "cell_type": "code",
   "execution_count": 18,
   "metadata": {},
   "outputs": [
    {
     "name": "stderr",
     "output_type": "stream",
     "text": [
      "C:\\Users\\user\\miniconda3\\envs\\DA_ENV\\lib\\site-packages\\seaborn\\distributions.py:2619: FutureWarning: `distplot` is a deprecated function and will be removed in a future version. Please adapt your code to use either `displot` (a figure-level function with similar flexibility) or `histplot` (an axes-level function for histograms).\n",
      "  warnings.warn(msg, FutureWarning)\n"
     ]
    },
    {
     "data": {
      "text/plain": [
       "<AxesSubplot:title={'center':'Review Text Length Distribution'}, xlabel='review_length', ylabel='Density'>"
      ]
     },
     "execution_count": 18,
     "metadata": {},
     "output_type": "execute_result"
    },
    {
     "data": {
      "image/png": "[encoded data removed]",
      "text/plain": [
       "<Figure size 576x576 with 1 Axes>"
      ]
     },
     "metadata": {},
     "output_type": "display_data"
    }
   ],
   "source": [
    "# create figure and axes\n",
    "fig2, ax2 = plt.subplots(figsize = (8,8))\n",
    "\n",
    "# set title\n",
    "ax2.set_title('Review Text Length Distribution', fontweight='bold')\n",
    "\n",
    "# plot the bar chart\n",
    "sns.distplot(imdb_df[\"review_length\"])"
   ]
  },
  {
   "cell_type": "code",
   "execution_count": 19,
   "metadata": {},
   "outputs": [
    {
     "name": "stderr",
     "output_type": "stream",
     "text": [
      "C:\\Users\\user\\miniconda3\\envs\\DA_ENV\\lib\\site-packages\\seaborn\\_decorators.py:36: FutureWarning: Pass the following variable as a keyword arg: x. From version 0.12, the only valid positional argument will be `data`, and passing other arguments without an explicit keyword will result in an error or misinterpretation.\n",
      "  warnings.warn(\n"
     ]
    },
    {
     "data": {
      "text/plain": [
       "<AxesSubplot:title={'center':'Boxplot - Length Distribution'}, xlabel='review_length'>"
      ]
     },
     "execution_count": 19,
     "metadata": {},
     "output_type": "execute_result"
    },
    {
     "data": {
      "image/png": "[encoded data removed]",
      "text/plain": [
       "<Figure size 576x576 with 1 Axes>"
      ]
     },
     "metadata": {},
     "output_type": "display_data"
    }
   ],
   "source": [
    "# create figure and axes\n",
    "fig3, ax3 = plt.subplots(figsize = (8,8))\n",
    "\n",
    "# set title\n",
    "ax3.set_title('Boxplot - Length Distribution', fontweight='bold')\n",
    "\n",
    "# plot the bar chart\n",
    "sns.boxplot(imdb_df[\"review_length\"])"
   ]
  },
  {
   "cell_type": "markdown",
   "metadata": {},
   "source": [
    "## Exploring the level of impurity in the text"
   ]
  },
  {
   "cell_type": "code",
   "execution_count": 20,
   "metadata": {},
   "outputs": [],
   "source": [
    "# characters considerd impure\n",
    "\n",
    "RE_impure = re.compile(r'[&#<>{}\\[\\]\\\\]')"
   ]
  },
  {
   "cell_type": "code",
   "execution_count": 21,
   "metadata": {},
   "outputs": [],
   "source": [
    "# create a new columns with the review impurity\n",
    "\n",
    "imdb_df.insert(2, column=\"impurity\", value=[impurity_ratio(text, RE_impure) for text in review_df])"
   ]
  },
  {
   "cell_type": "code",
   "execution_count": 22,
   "metadata": {},
   "outputs": [
    {
     "data": {
      "text/html": [
       "<div>\n",
       "<style scoped>\n",
       "    .dataframe tbody tr th:only-of-type {\n",
       "        vertical-align: middle;\n",
       "    }\n",
       "\n",
       "    .dataframe tbody tr th {\n",
       "        vertical-align: top;\n",
       "    }\n",
       "\n",
       "    .dataframe thead th {\n",
       "        text-align: right;\n",
       "    }\n",
       "</style>\n",
       "<table border=\"1\" class=\"dataframe\">\n",
       "  <thead>\n",
       "    <tr style=\"text-align: right;\">\n",
       "      <th></th>\n",
       "      <th>review_length</th>\n",
       "      <th>impurity</th>\n",
       "    </tr>\n",
       "  </thead>\n",
       "  <tbody>\n",
       "    <tr>\n",
       "      <th>count</th>\n",
       "      <td>50000.000000</td>\n",
       "      <td>50000.000000</td>\n",
       "    </tr>\n",
       "    <tr>\n",
       "      <th>mean</th>\n",
       "      <td>1309.431020</td>\n",
       "      <td>0.006018</td>\n",
       "    </tr>\n",
       "    <tr>\n",
       "      <th>std</th>\n",
       "      <td>989.728014</td>\n",
       "      <td>0.007281</td>\n",
       "    </tr>\n",
       "    <tr>\n",
       "      <th>min</th>\n",
       "      <td>32.000000</td>\n",
       "      <td>0.000000</td>\n",
       "    </tr>\n",
       "    <tr>\n",
       "      <th>25%</th>\n",
       "      <td>699.000000</td>\n",
       "      <td>0.000000</td>\n",
       "    </tr>\n",
       "    <tr>\n",
       "      <th>50%</th>\n",
       "      <td>970.000000</td>\n",
       "      <td>0.004505</td>\n",
       "    </tr>\n",
       "    <tr>\n",
       "      <th>75%</th>\n",
       "      <td>1590.250000</td>\n",
       "      <td>0.009717</td>\n",
       "    </tr>\n",
       "    <tr>\n",
       "      <th>max</th>\n",
       "      <td>13704.000000</td>\n",
       "      <td>0.192024</td>\n",
       "    </tr>\n",
       "  </tbody>\n",
       "</table>\n",
       "</div>"
      ],
      "text/plain": [
       "       review_length      impurity\n",
       "count   50000.000000  50000.000000\n",
       "mean     1309.431020      0.006018\n",
       "std       989.728014      0.007281\n",
       "min        32.000000      0.000000\n",
       "25%       699.000000      0.000000\n",
       "50%       970.000000      0.004505\n",
       "75%      1590.250000      0.009717\n",
       "max     13704.000000      0.192024"
      ]
     },
     "execution_count": 22,
     "metadata": {},
     "output_type": "execute_result"
    }
   ],
   "source": [
    "imdb_df.describe()"
   ]
  },
  {
   "cell_type": "code",
   "execution_count": 23,
   "metadata": {},
   "outputs": [
    {
     "data": {
      "text/html": [
       "<div>\n",
       "<style scoped>\n",
       "    .dataframe tbody tr th:only-of-type {\n",
       "        vertical-align: middle;\n",
       "    }\n",
       "\n",
       "    .dataframe tbody tr th {\n",
       "        vertical-align: top;\n",
       "    }\n",
       "\n",
       "    .dataframe thead th {\n",
       "        text-align: right;\n",
       "    }\n",
       "</style>\n",
       "<table border=\"1\" class=\"dataframe\">\n",
       "  <thead>\n",
       "    <tr style=\"text-align: right;\">\n",
       "      <th></th>\n",
       "      <th>review</th>\n",
       "      <th>impurity</th>\n",
       "    </tr>\n",
       "  </thead>\n",
       "  <tbody>\n",
       "    <tr>\n",
       "      <th>25373</th>\n",
       "      <td>&gt;&gt;&gt;&gt;&gt;&gt;&gt;&gt;&gt;&gt;&gt;&gt;&gt; &gt;&gt;&gt;&gt;&gt;&gt;&gt;&gt;&gt;&gt;&gt;&gt;&gt;&gt;&gt;&gt;&gt; &gt;&gt;&gt;&gt;&gt;&gt;&gt;&gt;&gt;&gt;&gt;&gt;&gt;&gt;...</td>\n",
       "      <td>0.192024</td>\n",
       "    </tr>\n",
       "    <tr>\n",
       "      <th>33850</th>\n",
       "      <td>This is my favorite show. I think it is utterl...</td>\n",
       "      <td>0.094915</td>\n",
       "    </tr>\n",
       "    <tr>\n",
       "      <th>18740</th>\n",
       "      <td>&lt;br /&gt;&lt;br /&gt;Human Body --- WoW.&lt;br /&gt;&lt;br /&gt;The...</td>\n",
       "      <td>0.084592</td>\n",
       "    </tr>\n",
       "    <tr>\n",
       "      <th>38230</th>\n",
       "      <td>I'd like to point out these excellent points i...</td>\n",
       "      <td>0.080381</td>\n",
       "    </tr>\n",
       "    <tr>\n",
       "      <th>37142</th>\n",
       "      <td>publicity got me to the theatre&lt;br /&gt;&lt;br /&gt;adv...</td>\n",
       "      <td>0.072398</td>\n",
       "    </tr>\n",
       "    <tr>\n",
       "      <th>19505</th>\n",
       "      <td>The movie was a big Car Commercial. :-)&lt;br /&gt;&lt;...</td>\n",
       "      <td>0.068421</td>\n",
       "    </tr>\n",
       "    <tr>\n",
       "      <th>3218</th>\n",
       "      <td>&lt;br /&gt;&lt;br /&gt;Her Excellency Madam Shabana Azmi ...</td>\n",
       "      <td>0.067606</td>\n",
       "    </tr>\n",
       "    <tr>\n",
       "      <th>38723</th>\n",
       "      <td>Subject Matter: Cosmology, Quantum Physics and...</td>\n",
       "      <td>0.067416</td>\n",
       "    </tr>\n",
       "    <tr>\n",
       "      <th>23634</th>\n",
       "      <td>since this is part 2, then compering it to par...</td>\n",
       "      <td>0.064309</td>\n",
       "    </tr>\n",
       "    <tr>\n",
       "      <th>15123</th>\n",
       "      <td>&lt;br /&gt;&lt;br /&gt;..this movie being one of them.&lt;br...</td>\n",
       "      <td>0.063492</td>\n",
       "    </tr>\n",
       "  </tbody>\n",
       "</table>\n",
       "</div>"
      ],
      "text/plain": [
       "                                                  review  impurity\n",
       "25373  >>>>>>>>>>>>> >>>>>>>>>>>>>>>>> >>>>>>>>>>>>>>...  0.192024\n",
       "33850  This is my favorite show. I think it is utterl...  0.094915\n",
       "18740  <br /><br />Human Body --- WoW.<br /><br />The...  0.084592\n",
       "38230  I'd like to point out these excellent points i...  0.080381\n",
       "37142  publicity got me to the theatre<br /><br />adv...  0.072398\n",
       "19505  The movie was a big Car Commercial. :-)<br /><...  0.068421\n",
       "3218   <br /><br />Her Excellency Madam Shabana Azmi ...  0.067606\n",
       "38723  Subject Matter: Cosmology, Quantum Physics and...  0.067416\n",
       "23634  since this is part 2, then compering it to par...  0.064309\n",
       "15123  <br /><br />..this movie being one of them.<br...  0.063492"
      ]
     },
     "execution_count": 23,
     "metadata": {},
     "output_type": "execute_result"
    }
   ],
   "source": [
    "# get the top 10 records in terms of impurity\n",
    "imdb_df[['review', 'impurity']].sort_values(by='impurity', ascending=False).head(10)"
   ]
  },
  {
   "cell_type": "code",
   "execution_count": 24,
   "metadata": {},
   "outputs": [
    {
     "data": {
      "text/plain": [
       "\">>>>>>>>>>>>> >>>>>>>>>>>>>>>>> >>>>>>>>>>>>>>>>>>>>>> >>>>>>>> >>>>>>> With their no holds bar cruel offensive humor, sure enough to offended anyone, you would sure think this would be a laugh riot! ............wrong. Worest movie since Open water. Don't be to surprised if you completely miss this movie upon release date as I'm sure it wont do very good at all at the box office. This movie had a lot of Potential but fell to little to short. No enough character development, awkward actors and The upside of this movie was nudity. Boobs. Amazing. If I had to see this movie again, I myself would go POSTAl. <<<<<<<<<<<< <<<<<<<<<<<<<<<<<<<< <<<<<<<<<<<<<<<<<<<<<<<< <<<<<<<\""
      ]
     },
     "execution_count": 24,
     "metadata": {},
     "output_type": "execute_result"
    }
   ],
   "source": [
    "imdb_df.iloc[25373,0]"
   ]
  },
  {
   "cell_type": "code",
   "execution_count": 25,
   "metadata": {},
   "outputs": [
    {
     "data": {
      "text/plain": [
       "'This is my favorite show. I think it is utterly brilliant. Thanks to David Chase for bringing this into my life.<br /><br />Season 1<br /><br />1. The Sopranos: 5/5<br /><br />2. 46 Long: 4.5/5<br /><br />3. Denial, Anger, Acceptance: 5/5<br /><br />4. Meadowlands: 4/5<br /><br />5. College:<br /><br />6. Pax Soprana: 5/5<br /><br />7. Down Neck: 4.5/5<br /><br />8. The Legend of Tennessee Moltisanti: 5/5<br /><br />9. Boca: 4.5/5<br /><br />10. A Hit Is a Hit: 3.5/5<br /><br />11. Nobody Knows Anything: 5/5<br /><br />12. Isabella: 5/5<br /><br />13. I Dream of Jeannie Cusamano: 5/5'"
      ]
     },
     "execution_count": 25,
     "metadata": {},
     "output_type": "execute_result"
    }
   ],
   "source": [
    "imdb_df.iloc[33850,0]"
   ]
  },
  {
   "cell_type": "markdown",
   "metadata": {},
   "source": [
    "# Cleaning and Normalising the Text Data"
   ]
  },
  {
   "cell_type": "markdown",
   "metadata": {},
   "source": [
    "## Cleaning the text"
   ]
  },
  {
   "cell_type": "code",
   "execution_count": 26,
   "metadata": {},
   "outputs": [],
   "source": [
    "imdb_df.insert(3, column=\"review_cleaned\", value=[clean_text(text) for text in review_df])\n"
   ]
  },
  {
   "cell_type": "code",
   "execution_count": 27,
   "metadata": {},
   "outputs": [],
   "source": [
    "# create a new columns with the cleaned review impurity\n",
    "imdb_df.insert(4, column=\"cleaned_impurity\", value=[impurity_ratio(text, RE_impure) for text in imdb_df[\"review_cleaned\"]])"
   ]
  },
  {
   "cell_type": "code",
   "execution_count": 28,
   "metadata": {},
   "outputs": [
    {
     "data": {
      "text/html": [
       "<div>\n",
       "<style scoped>\n",
       "    .dataframe tbody tr th:only-of-type {\n",
       "        vertical-align: middle;\n",
       "    }\n",
       "\n",
       "    .dataframe tbody tr th {\n",
       "        vertical-align: top;\n",
       "    }\n",
       "\n",
       "    .dataframe thead th {\n",
       "        text-align: right;\n",
       "    }\n",
       "</style>\n",
       "<table border=\"1\" class=\"dataframe\">\n",
       "  <thead>\n",
       "    <tr style=\"text-align: right;\">\n",
       "      <th></th>\n",
       "      <th>review_cleaned</th>\n",
       "      <th>cleaned_impurity</th>\n",
       "    </tr>\n",
       "  </thead>\n",
       "  <tbody>\n",
       "    <tr>\n",
       "      <th>5685</th>\n",
       "      <td>This crock of doodoo won a award? They must ha...</td>\n",
       "      <td>0.012844</td>\n",
       "    </tr>\n",
       "    <tr>\n",
       "      <th>5254</th>\n",
       "      <td>This film is perfect for over the top cheesy z...</td>\n",
       "      <td>0.011461</td>\n",
       "    </tr>\n",
       "    <tr>\n",
       "      <th>34554</th>\n",
       "      <td>those people,who told me\"this movie is good\"-s...</td>\n",
       "      <td>0.010853</td>\n",
       "    </tr>\n",
       "    <tr>\n",
       "      <th>49263</th>\n",
       "      <td>I loved this film! Markie Post is really great...</td>\n",
       "      <td>0.006684</td>\n",
       "    </tr>\n",
       "    <tr>\n",
       "      <th>25646</th>\n",
       "      <td>This movie was bad to say the least!!! The ple...</td>\n",
       "      <td>0.005917</td>\n",
       "    </tr>\n",
       "    <tr>\n",
       "      <th>8711</th>\n",
       "      <td>The play is cleverly constructed begin with th...</td>\n",
       "      <td>0.005666</td>\n",
       "    </tr>\n",
       "    <tr>\n",
       "      <th>40830</th>\n",
       "      <td>ok we have a film that some are calling one of...</td>\n",
       "      <td>0.005195</td>\n",
       "    </tr>\n",
       "    <tr>\n",
       "      <th>48803</th>\n",
       "      <td>I couldn't believe it when I put this movie in...</td>\n",
       "      <td>0.005093</td>\n",
       "    </tr>\n",
       "    <tr>\n",
       "      <th>5841</th>\n",
       "      <td>This is the movie that epitomizes the D&amp;D fear...</td>\n",
       "      <td>0.004926</td>\n",
       "    </tr>\n",
       "    <tr>\n",
       "      <th>40202</th>\n",
       "      <td>What do you do if you're Aishwarya Rai, coming...</td>\n",
       "      <td>0.004908</td>\n",
       "    </tr>\n",
       "  </tbody>\n",
       "</table>\n",
       "</div>"
      ],
      "text/plain": [
       "                                          review_cleaned  cleaned_impurity\n",
       "5685   This crock of doodoo won a award? They must ha...          0.012844\n",
       "5254   This film is perfect for over the top cheesy z...          0.011461\n",
       "34554  those people,who told me\"this movie is good\"-s...          0.010853\n",
       "49263  I loved this film! Markie Post is really great...          0.006684\n",
       "25646  This movie was bad to say the least!!! The ple...          0.005917\n",
       "8711   The play is cleverly constructed begin with th...          0.005666\n",
       "40830  ok we have a film that some are calling one of...          0.005195\n",
       "48803  I couldn't believe it when I put this movie in...          0.005093\n",
       "5841   This is the movie that epitomizes the D&D fear...          0.004926\n",
       "40202  What do you do if you're Aishwarya Rai, coming...          0.004908"
      ]
     },
     "execution_count": 28,
     "metadata": {},
     "output_type": "execute_result"
    }
   ],
   "source": [
    "# get the top 10 records in terms of impurity\n",
    "imdb_df[['review_cleaned', 'cleaned_impurity']].sort_values(by='cleaned_impurity', ascending=False).head(10)"
   ]
  },
  {
   "cell_type": "code",
   "execution_count": 29,
   "metadata": {},
   "outputs": [
    {
     "data": {
      "text/html": [
       "<div>\n",
       "<style scoped>\n",
       "    .dataframe tbody tr th:only-of-type {\n",
       "        vertical-align: middle;\n",
       "    }\n",
       "\n",
       "    .dataframe tbody tr th {\n",
       "        vertical-align: top;\n",
       "    }\n",
       "\n",
       "    .dataframe thead th {\n",
       "        text-align: right;\n",
       "    }\n",
       "</style>\n",
       "<table border=\"1\" class=\"dataframe\">\n",
       "  <thead>\n",
       "    <tr style=\"text-align: right;\">\n",
       "      <th></th>\n",
       "      <th>review_cleaned</th>\n",
       "      <th>cleaned_impurity</th>\n",
       "    </tr>\n",
       "  </thead>\n",
       "  <tbody>\n",
       "    <tr>\n",
       "      <th>5685</th>\n",
       "      <td>This crock of doodoo won a award? They must ha...</td>\n",
       "      <td>0.012844</td>\n",
       "    </tr>\n",
       "    <tr>\n",
       "      <th>5254</th>\n",
       "      <td>This film is perfect for over the top cheesy z...</td>\n",
       "      <td>0.011461</td>\n",
       "    </tr>\n",
       "    <tr>\n",
       "      <th>34554</th>\n",
       "      <td>those people,who told me\"this movie is good\"-s...</td>\n",
       "      <td>0.010853</td>\n",
       "    </tr>\n",
       "    <tr>\n",
       "      <th>49263</th>\n",
       "      <td>I loved this film! Markie Post is really great...</td>\n",
       "      <td>0.006684</td>\n",
       "    </tr>\n",
       "    <tr>\n",
       "      <th>25646</th>\n",
       "      <td>This movie was bad to say the least!!! The ple...</td>\n",
       "      <td>0.005917</td>\n",
       "    </tr>\n",
       "    <tr>\n",
       "      <th>40830</th>\n",
       "      <td>ok we have a film that some are calling one of...</td>\n",
       "      <td>0.005195</td>\n",
       "    </tr>\n",
       "    <tr>\n",
       "      <th>48803</th>\n",
       "      <td>I couldn't believe it when I put this movie in...</td>\n",
       "      <td>0.005093</td>\n",
       "    </tr>\n",
       "    <tr>\n",
       "      <th>5841</th>\n",
       "      <td>This is the movie that epitomizes the D&amp;D fear...</td>\n",
       "      <td>0.004926</td>\n",
       "    </tr>\n",
       "    <tr>\n",
       "      <th>40202</th>\n",
       "      <td>What do you do if you're Aishwarya Rai, coming...</td>\n",
       "      <td>0.004908</td>\n",
       "    </tr>\n",
       "    <tr>\n",
       "      <th>1300</th>\n",
       "      <td>I feel as though I know these people and have ...</td>\n",
       "      <td>0.004890</td>\n",
       "    </tr>\n",
       "  </tbody>\n",
       "</table>\n",
       "</div>"
      ],
      "text/plain": [
       "                                          review_cleaned  cleaned_impurity\n",
       "5685   This crock of doodoo won a award? They must ha...          0.012844\n",
       "5254   This film is perfect for over the top cheesy z...          0.011461\n",
       "34554  those people,who told me\"this movie is good\"-s...          0.010853\n",
       "49263  I loved this film! Markie Post is really great...          0.006684\n",
       "25646  This movie was bad to say the least!!! The ple...          0.005917\n",
       "40830  ok we have a film that some are calling one of...          0.005195\n",
       "48803  I couldn't believe it when I put this movie in...          0.005093\n",
       "5841   This is the movie that epitomizes the D&D fear...          0.004926\n",
       "40202  What do you do if you're Aishwarya Rai, coming...          0.004908\n",
       "1300   I feel as though I know these people and have ...          0.004890"
      ]
     },
     "execution_count": 29,
     "metadata": {},
     "output_type": "execute_result"
    }
   ],
   "source": [
    "# repeat the cleaning process\n",
    "imdb_df[\"review_cleaned\"] = [clean_text(text) for text in imdb_df[\"review_cleaned\"]]\n",
    "imdb_df[\"cleaned_impurity\"] = [impurity_ratio(text, RE_impure) for text in imdb_df[\"review_cleaned\"]]\n",
    "imdb_df[['review_cleaned', 'cleaned_impurity']].sort_values(by='cleaned_impurity', ascending=False).head(10)"
   ]
  },
  {
   "cell_type": "code",
   "execution_count": 30,
   "metadata": {},
   "outputs": [
    {
     "data": {
      "text/html": [
       "<div>\n",
       "<style scoped>\n",
       "    .dataframe tbody tr th:only-of-type {\n",
       "        vertical-align: middle;\n",
       "    }\n",
       "\n",
       "    .dataframe tbody tr th {\n",
       "        vertical-align: top;\n",
       "    }\n",
       "\n",
       "    .dataframe thead th {\n",
       "        text-align: right;\n",
       "    }\n",
       "</style>\n",
       "<table border=\"1\" class=\"dataframe\">\n",
       "  <thead>\n",
       "    <tr style=\"text-align: right;\">\n",
       "      <th></th>\n",
       "      <th>review_cleaned</th>\n",
       "      <th>cleaned_impurity</th>\n",
       "    </tr>\n",
       "  </thead>\n",
       "  <tbody>\n",
       "    <tr>\n",
       "      <th>5685</th>\n",
       "      <td>This crock of doodoo won a award? They must ha...</td>\n",
       "      <td>0.012844</td>\n",
       "    </tr>\n",
       "    <tr>\n",
       "      <th>5254</th>\n",
       "      <td>This film is perfect for over the top cheesy z...</td>\n",
       "      <td>0.011461</td>\n",
       "    </tr>\n",
       "    <tr>\n",
       "      <th>34554</th>\n",
       "      <td>those people,who told me\"this movie is good\"-s...</td>\n",
       "      <td>0.010853</td>\n",
       "    </tr>\n",
       "    <tr>\n",
       "      <th>49263</th>\n",
       "      <td>I loved this film! Markie Post is really great...</td>\n",
       "      <td>0.006684</td>\n",
       "    </tr>\n",
       "    <tr>\n",
       "      <th>25646</th>\n",
       "      <td>This movie was bad to say the least!!! The ple...</td>\n",
       "      <td>0.005917</td>\n",
       "    </tr>\n",
       "    <tr>\n",
       "      <th>40830</th>\n",
       "      <td>ok we have a film that some are calling one of...</td>\n",
       "      <td>0.005195</td>\n",
       "    </tr>\n",
       "    <tr>\n",
       "      <th>48803</th>\n",
       "      <td>I couldn't believe it when I put this movie in...</td>\n",
       "      <td>0.005093</td>\n",
       "    </tr>\n",
       "    <tr>\n",
       "      <th>5841</th>\n",
       "      <td>This is the movie that epitomizes the D&amp;D fear...</td>\n",
       "      <td>0.004926</td>\n",
       "    </tr>\n",
       "    <tr>\n",
       "      <th>40202</th>\n",
       "      <td>What do you do if you're Aishwarya Rai, coming...</td>\n",
       "      <td>0.004908</td>\n",
       "    </tr>\n",
       "    <tr>\n",
       "      <th>1300</th>\n",
       "      <td>I feel as though I know these people and have ...</td>\n",
       "      <td>0.004890</td>\n",
       "    </tr>\n",
       "    <tr>\n",
       "      <th>45310</th>\n",
       "      <td>Cunningly interesting Western from a director ...</td>\n",
       "      <td>0.004843</td>\n",
       "    </tr>\n",
       "    <tr>\n",
       "      <th>43640</th>\n",
       "      <td>Following the release of 'Snow White and the S...</td>\n",
       "      <td>0.004836</td>\n",
       "    </tr>\n",
       "    <tr>\n",
       "      <th>29693</th>\n",
       "      <td>G&amp;M started a the odd couple downstairs in Man...</td>\n",
       "      <td>0.004773</td>\n",
       "    </tr>\n",
       "    <tr>\n",
       "      <th>46025</th>\n",
       "      <td>Don't hate Heather Graham because she's beauti...</td>\n",
       "      <td>0.004751</td>\n",
       "    </tr>\n",
       "    <tr>\n",
       "      <th>11691</th>\n",
       "      <td>I loved this movie and i never knew it was thi...</td>\n",
       "      <td>0.004657</td>\n",
       "    </tr>\n",
       "  </tbody>\n",
       "</table>\n",
       "</div>"
      ],
      "text/plain": [
       "                                          review_cleaned  cleaned_impurity\n",
       "5685   This crock of doodoo won a award? They must ha...          0.012844\n",
       "5254   This film is perfect for over the top cheesy z...          0.011461\n",
       "34554  those people,who told me\"this movie is good\"-s...          0.010853\n",
       "49263  I loved this film! Markie Post is really great...          0.006684\n",
       "25646  This movie was bad to say the least!!! The ple...          0.005917\n",
       "40830  ok we have a film that some are calling one of...          0.005195\n",
       "48803  I couldn't believe it when I put this movie in...          0.005093\n",
       "5841   This is the movie that epitomizes the D&D fear...          0.004926\n",
       "40202  What do you do if you're Aishwarya Rai, coming...          0.004908\n",
       "1300   I feel as though I know these people and have ...          0.004890\n",
       "45310  Cunningly interesting Western from a director ...          0.004843\n",
       "43640  Following the release of 'Snow White and the S...          0.004836\n",
       "29693  G&M started a the odd couple downstairs in Man...          0.004773\n",
       "46025  Don't hate Heather Graham because she's beauti...          0.004751\n",
       "11691  I loved this movie and i never knew it was thi...          0.004657"
      ]
     },
     "execution_count": 30,
     "metadata": {},
     "output_type": "execute_result"
    }
   ],
   "source": [
    "# repeat the cleaning process one more time\n",
    "imdb_df[\"review_cleaned\"] = [clean_text(text) for text in imdb_df[\"review_cleaned\"]]\n",
    "imdb_df[\"cleaned_impurity\"] = [impurity_ratio(text, RE_impure) for text in imdb_df[\"review_cleaned\"]]\n",
    "imdb_df[['review_cleaned', 'cleaned_impurity']].sort_values(by='cleaned_impurity', ascending=False).head(15)"
   ]
  },
  {
   "cell_type": "code",
   "execution_count": 31,
   "metadata": {},
   "outputs": [
    {
     "data": {
      "text/html": [
       "<div>\n",
       "<style scoped>\n",
       "    .dataframe tbody tr th:only-of-type {\n",
       "        vertical-align: middle;\n",
       "    }\n",
       "\n",
       "    .dataframe tbody tr th {\n",
       "        vertical-align: top;\n",
       "    }\n",
       "\n",
       "    .dataframe thead th {\n",
       "        text-align: right;\n",
       "    }\n",
       "</style>\n",
       "<table border=\"1\" class=\"dataframe\">\n",
       "  <thead>\n",
       "    <tr style=\"text-align: right;\">\n",
       "      <th></th>\n",
       "      <th>review</th>\n",
       "      <th>review_length</th>\n",
       "      <th>impurity</th>\n",
       "      <th>sentiment</th>\n",
       "    </tr>\n",
       "  </thead>\n",
       "  <tbody>\n",
       "    <tr>\n",
       "      <th>0</th>\n",
       "      <td>One of the other reviewers has mentioned that ...</td>\n",
       "      <td>1728</td>\n",
       "      <td>0.0</td>\n",
       "      <td>positive</td>\n",
       "    </tr>\n",
       "    <tr>\n",
       "      <th>1</th>\n",
       "      <td>A wonderful little production. The filming tec...</td>\n",
       "      <td>960</td>\n",
       "      <td>0.0</td>\n",
       "      <td>positive</td>\n",
       "    </tr>\n",
       "    <tr>\n",
       "      <th>2</th>\n",
       "      <td>I thought this was a wonderful way to spend ti...</td>\n",
       "      <td>904</td>\n",
       "      <td>0.0</td>\n",
       "      <td>positive</td>\n",
       "    </tr>\n",
       "    <tr>\n",
       "      <th>3</th>\n",
       "      <td>Basically there's a family where a little boy ...</td>\n",
       "      <td>709</td>\n",
       "      <td>0.0</td>\n",
       "      <td>negative</td>\n",
       "    </tr>\n",
       "    <tr>\n",
       "      <th>4</th>\n",
       "      <td>Petter Mattei's \"Love in the Time of Money\" is...</td>\n",
       "      <td>1272</td>\n",
       "      <td>0.0</td>\n",
       "      <td>positive</td>\n",
       "    </tr>\n",
       "  </tbody>\n",
       "</table>\n",
       "</div>"
      ],
      "text/plain": [
       "                                              review  review_length  impurity  \\\n",
       "0  One of the other reviewers has mentioned that ...           1728       0.0   \n",
       "1  A wonderful little production. The filming tec...            960       0.0   \n",
       "2  I thought this was a wonderful way to spend ti...            904       0.0   \n",
       "3  Basically there's a family where a little boy ...            709       0.0   \n",
       "4  Petter Mattei's \"Love in the Time of Money\" is...           1272       0.0   \n",
       "\n",
       "  sentiment  \n",
       "0  positive  \n",
       "1  positive  \n",
       "2  positive  \n",
       "3  negative  \n",
       "4  positive  "
      ]
     },
     "execution_count": 31,
     "metadata": {},
     "output_type": "execute_result"
    }
   ],
   "source": [
    "imdb_df = (imdb_df.drop([\"review\", \"impurity\", \"review_length\"], axis=1)\n",
    "           .rename({\"review_cleaned\": \"review\", \"cleaned_impurity\": \"impurity\"}, axis=1)\n",
    "           )\n",
    "review_df = imdb_df[\"review\"]\n",
    "sentiment_df = imdb_df[\"sentiment\"]\n",
    "imdb_df.insert(1, column=\"review_length\", value=[len(text) for text in review_df])\n",
    "imdb_df.head()"
   ]
  },
  {
   "cell_type": "code",
   "execution_count": 32,
   "metadata": {},
   "outputs": [
    {
     "data": {
      "text/html": [
       "<div>\n",
       "<style scoped>\n",
       "    .dataframe tbody tr th:only-of-type {\n",
       "        vertical-align: middle;\n",
       "    }\n",
       "\n",
       "    .dataframe tbody tr th {\n",
       "        vertical-align: top;\n",
       "    }\n",
       "\n",
       "    .dataframe thead th {\n",
       "        text-align: right;\n",
       "    }\n",
       "</style>\n",
       "<table border=\"1\" class=\"dataframe\">\n",
       "  <thead>\n",
       "    <tr style=\"text-align: right;\">\n",
       "      <th></th>\n",
       "      <th>review_length</th>\n",
       "      <th>impurity</th>\n",
       "    </tr>\n",
       "  </thead>\n",
       "  <tbody>\n",
       "    <tr>\n",
       "      <th>count</th>\n",
       "      <td>50000.00000</td>\n",
       "      <td>50000.000000</td>\n",
       "    </tr>\n",
       "    <tr>\n",
       "      <th>mean</th>\n",
       "      <td>1285.35254</td>\n",
       "      <td>0.000019</td>\n",
       "    </tr>\n",
       "    <tr>\n",
       "      <th>std</th>\n",
       "      <td>971.01299</td>\n",
       "      <td>0.000210</td>\n",
       "    </tr>\n",
       "    <tr>\n",
       "      <th>min</th>\n",
       "      <td>32.00000</td>\n",
       "      <td>0.000000</td>\n",
       "    </tr>\n",
       "    <tr>\n",
       "      <th>25%</th>\n",
       "      <td>689.00000</td>\n",
       "      <td>0.000000</td>\n",
       "    </tr>\n",
       "    <tr>\n",
       "      <th>50%</th>\n",
       "      <td>954.00000</td>\n",
       "      <td>0.000000</td>\n",
       "    </tr>\n",
       "    <tr>\n",
       "      <th>75%</th>\n",
       "      <td>1559.00000</td>\n",
       "      <td>0.000000</td>\n",
       "    </tr>\n",
       "    <tr>\n",
       "      <th>max</th>\n",
       "      <td>13592.00000</td>\n",
       "      <td>0.012844</td>\n",
       "    </tr>\n",
       "  </tbody>\n",
       "</table>\n",
       "</div>"
      ],
      "text/plain": [
       "       review_length      impurity\n",
       "count    50000.00000  50000.000000\n",
       "mean      1285.35254      0.000019\n",
       "std        971.01299      0.000210\n",
       "min         32.00000      0.000000\n",
       "25%        689.00000      0.000000\n",
       "50%        954.00000      0.000000\n",
       "75%       1559.00000      0.000000\n",
       "max      13592.00000      0.012844"
      ]
     },
     "execution_count": 32,
     "metadata": {},
     "output_type": "execute_result"
    }
   ],
   "source": [
    "imdb_df.describe()"
   ]
  },
  {
   "cell_type": "markdown",
   "metadata": {},
   "source": [
    "## Character Normalization"
   ]
  },
  {
   "cell_type": "markdown",
   "metadata": {},
   "source": [
    "### Hyphendation"
   ]
  },
  {
   "cell_type": "code",
   "execution_count": 33,
   "metadata": {},
   "outputs": [],
   "source": [
    "imdb_df[\"review_norm\"] = imdb_df[\"review\"].apply(tprep.normalize.hyphenated_words) # normalize hyphendation\n",
    "                       "
   ]
  },
  {
   "cell_type": "markdown",
   "metadata": {},
   "source": [
    "Let us see the changes"
   ]
  },
  {
   "cell_type": "code",
   "execution_count": 34,
   "metadata": {},
   "outputs": [
    {
     "data": {
      "text/plain": [
       "False    50000\n",
       "Name: changed, dtype: int64"
      ]
     },
     "execution_count": 34,
     "metadata": {},
     "output_type": "execute_result"
    }
   ],
   "source": [
    "imdb_df[\"changed\"] = [imdb_df[\"review\"][i] != imdb_df[\"review_norm\"][i] for i in range(imdb_df[\"review\"].shape[0])] \n",
    "imdb_df[\"changed\"].value_counts(dropna=False)"
   ]
  },
  {
   "cell_type": "code",
   "execution_count": 35,
   "metadata": {},
   "outputs": [],
   "source": [
    "imdb_df[\"review\"] = imdb_df[\"review_norm\"]"
   ]
  },
  {
   "cell_type": "markdown",
   "metadata": {},
   "source": [
    "### Fancy Quotation Marks"
   ]
  },
  {
   "cell_type": "code",
   "execution_count": 36,
   "metadata": {},
   "outputs": [],
   "source": [
    "imdb_df[\"review_norm\"] = imdb_df[\"review\"].apply(tprep.normalize.quotation_marks) # normalize fancy quotation marks to ASCII"
   ]
  },
  {
   "cell_type": "markdown",
   "metadata": {},
   "source": [
    "Let us see the changes"
   ]
  },
  {
   "cell_type": "code",
   "execution_count": 37,
   "metadata": {},
   "outputs": [
    {
     "data": {
      "text/plain": [
       "False    49424\n",
       "True       576\n",
       "Name: changed, dtype: int64"
      ]
     },
     "execution_count": 37,
     "metadata": {},
     "output_type": "execute_result"
    }
   ],
   "source": [
    "imdb_df[\"changed\"] = [imdb_df[\"review\"][i] != imdb_df[\"review_norm\"][i] for i in range(imdb_df[\"review\"].shape[0])] \n",
    "imdb_df[\"changed\"].value_counts(dropna=False)"
   ]
  },
  {
   "cell_type": "code",
   "execution_count": 38,
   "metadata": {},
   "outputs": [
    {
     "data": {
      "text/html": [
       "<div>\n",
       "<style scoped>\n",
       "    .dataframe tbody tr th:only-of-type {\n",
       "        vertical-align: middle;\n",
       "    }\n",
       "\n",
       "    .dataframe tbody tr th {\n",
       "        vertical-align: top;\n",
       "    }\n",
       "\n",
       "    .dataframe thead th {\n",
       "        text-align: right;\n",
       "    }\n",
       "</style>\n",
       "<table border=\"1\" class=\"dataframe\">\n",
       "  <thead>\n",
       "    <tr style=\"text-align: right;\">\n",
       "      <th></th>\n",
       "      <th>review</th>\n",
       "      <th>review_length</th>\n",
       "      <th>impurity</th>\n",
       "      <th>sentiment</th>\n",
       "      <th>review_norm</th>\n",
       "      <th>changed</th>\n",
       "    </tr>\n",
       "  </thead>\n",
       "  <tbody>\n",
       "    <tr>\n",
       "      <th>123</th>\n",
       "      <td>Ah yes the 1980s , a time of Reaganomics and S...</td>\n",
       "      <td>803</td>\n",
       "      <td>0.0</td>\n",
       "      <td>negative</td>\n",
       "      <td>Ah yes the 1980s , a time of Reaganomics and S...</td>\n",
       "      <td>True</td>\n",
       "    </tr>\n",
       "    <tr>\n",
       "      <th>193</th>\n",
       "      <td>I had before a feeling of mislike for all Russ...</td>\n",
       "      <td>273</td>\n",
       "      <td>0.0</td>\n",
       "      <td>positive</td>\n",
       "      <td>I had before a feeling of mislike for all Russ...</td>\n",
       "      <td>True</td>\n",
       "    </tr>\n",
       "    <tr>\n",
       "      <th>310</th>\n",
       "      <td>Some people drift through life, moving from on...</td>\n",
       "      <td>5768</td>\n",
       "      <td>0.0</td>\n",
       "      <td>positive</td>\n",
       "      <td>Some people drift through life, moving from on...</td>\n",
       "      <td>True</td>\n",
       "    </tr>\n",
       "    <tr>\n",
       "      <th>352</th>\n",
       "      <td>Tell the truth I’m a bit stun to see all these...</td>\n",
       "      <td>1796</td>\n",
       "      <td>0.0</td>\n",
       "      <td>negative</td>\n",
       "      <td>Tell the truth I'm a bit stun to see all these...</td>\n",
       "      <td>True</td>\n",
       "    </tr>\n",
       "    <tr>\n",
       "      <th>1004</th>\n",
       "      <td>Strangely enough this movie never made it to t...</td>\n",
       "      <td>644</td>\n",
       "      <td>0.0</td>\n",
       "      <td>positive</td>\n",
       "      <td>Strangely enough this movie never made it to t...</td>\n",
       "      <td>True</td>\n",
       "    </tr>\n",
       "    <tr>\n",
       "      <th>...</th>\n",
       "      <td>...</td>\n",
       "      <td>...</td>\n",
       "      <td>...</td>\n",
       "      <td>...</td>\n",
       "      <td>...</td>\n",
       "      <td>...</td>\n",
       "    </tr>\n",
       "    <tr>\n",
       "      <th>49772</th>\n",
       "      <td>CitizenX(1995) is the developing world's answe...</td>\n",
       "      <td>6826</td>\n",
       "      <td>0.0</td>\n",
       "      <td>positive</td>\n",
       "      <td>CitizenX(1995) is the developing world's answe...</td>\n",
       "      <td>True</td>\n",
       "    </tr>\n",
       "    <tr>\n",
       "      <th>49781</th>\n",
       "      <td>It`s funny how instinct warns you of something...</td>\n",
       "      <td>2175</td>\n",
       "      <td>0.0</td>\n",
       "      <td>negative</td>\n",
       "      <td>It's funny how instinct warns you of something...</td>\n",
       "      <td>True</td>\n",
       "    </tr>\n",
       "    <tr>\n",
       "      <th>49784</th>\n",
       "      <td>Whether any indictment was intended must be ta...</td>\n",
       "      <td>1178</td>\n",
       "      <td>0.0</td>\n",
       "      <td>negative</td>\n",
       "      <td>Whether any indictment was intended must be ta...</td>\n",
       "      <td>True</td>\n",
       "    </tr>\n",
       "    <tr>\n",
       "      <th>49990</th>\n",
       "      <td>Lame, lame, lame!!! A 90-minute cringe-fest th...</td>\n",
       "      <td>787</td>\n",
       "      <td>0.0</td>\n",
       "      <td>negative</td>\n",
       "      <td>Lame, lame, lame!!! A 90-minute cringe-fest th...</td>\n",
       "      <td>True</td>\n",
       "    </tr>\n",
       "    <tr>\n",
       "      <th>49993</th>\n",
       "      <td>Robert Colomb has two full-time jobs. He's kno...</td>\n",
       "      <td>2639</td>\n",
       "      <td>0.0</td>\n",
       "      <td>negative</td>\n",
       "      <td>Robert Colomb has two full-time jobs. He's kno...</td>\n",
       "      <td>True</td>\n",
       "    </tr>\n",
       "  </tbody>\n",
       "</table>\n",
       "<p>576 rows × 6 columns</p>\n",
       "</div>"
      ],
      "text/plain": [
       "                                                  review  review_length  \\\n",
       "123    Ah yes the 1980s , a time of Reaganomics and S...            803   \n",
       "193    I had before a feeling of mislike for all Russ...            273   \n",
       "310    Some people drift through life, moving from on...           5768   \n",
       "352    Tell the truth I’m a bit stun to see all these...           1796   \n",
       "1004   Strangely enough this movie never made it to t...            644   \n",
       "...                                                  ...            ...   \n",
       "49772  CitizenX(1995) is the developing world's answe...           6826   \n",
       "49781  It`s funny how instinct warns you of something...           2175   \n",
       "49784  Whether any indictment was intended must be ta...           1178   \n",
       "49990  Lame, lame, lame!!! A 90-minute cringe-fest th...            787   \n",
       "49993  Robert Colomb has two full-time jobs. He's kno...           2639   \n",
       "\n",
       "       impurity sentiment                                        review_norm  \\\n",
       "123         0.0  negative  Ah yes the 1980s , a time of Reaganomics and S...   \n",
       "193         0.0  positive  I had before a feeling of mislike for all Russ...   \n",
       "310         0.0  positive  Some people drift through life, moving from on...   \n",
       "352         0.0  negative  Tell the truth I'm a bit stun to see all these...   \n",
       "1004        0.0  positive  Strangely enough this movie never made it to t...   \n",
       "...         ...       ...                                                ...   \n",
       "49772       0.0  positive  CitizenX(1995) is the developing world's answe...   \n",
       "49781       0.0  negative  It's funny how instinct warns you of something...   \n",
       "49784       0.0  negative  Whether any indictment was intended must be ta...   \n",
       "49990       0.0  negative  Lame, lame, lame!!! A 90-minute cringe-fest th...   \n",
       "49993       0.0  negative  Robert Colomb has two full-time jobs. He's kno...   \n",
       "\n",
       "       changed  \n",
       "123       True  \n",
       "193       True  \n",
       "310       True  \n",
       "352       True  \n",
       "1004      True  \n",
       "...        ...  \n",
       "49772     True  \n",
       "49781     True  \n",
       "49784     True  \n",
       "49990     True  \n",
       "49993     True  \n",
       "\n",
       "[576 rows x 6 columns]"
      ]
     },
     "execution_count": 38,
     "metadata": {},
     "output_type": "execute_result"
    }
   ],
   "source": [
    "imdb_df[imdb_df[\"changed\"]]"
   ]
  },
  {
   "cell_type": "code",
   "execution_count": 39,
   "metadata": {},
   "outputs": [],
   "source": [
    "row = 352"
   ]
  },
  {
   "cell_type": "code",
   "execution_count": 40,
   "metadata": {},
   "outputs": [
    {
     "data": {
      "text/plain": [
       "'Tell the truth I’m a bit stun to see all these positive review by so many people, which is also the main reason why I actually decide to see this movie. And after having seen it, I was really a disappointed, and this comes from the guy that loves this genre of movie.<br /><br />I’m surprise at this movie all completely – it is like a kid’s movie with nudity for absolutely no reason and it all involve little children cursing and swearing. I’m not at all righteous but this has really gone too far in my account.<br /><br />Synopsis: The story about two guys got send to the big brother program for their reckless behavior. There they met up with one kids with boobs obsession and the other is a medieval freak.<br /><br />Just the name it self is not really connected with the story at all. They are not being a role model and or do anything but to serve their time for what they have done. The story is very predictable (though expected) and the humor is lame. And haven’t we already seen the same characters (play by Mc Lovin’) in so many other movies (like Sasquatch Gang?). I think I laugh thrice and almost fell a sleep.<br /><br />Well the casting was alright after all he is the one that produce the screenplay. And the acting is so-so as expected when you’re watching this type of movie. And the direction, what do one expect? This is the same guy who brought us Wet Hot American Summer, and that movie also sucks. But somehow he always managed to bring in some star to attract his horrendous movie.<br /><br />Anyway I felt not total riff off but a completely waste of time. Only the naked scenes seem to be the best part in the movie. Can’t really see any point why I should recommend this to anyone.<br /><br />Pros: Elizabeth Bank? Two topless scenes.<br /><br />Cons: Not funny, dreadful story, nudity and kids do not mix together.<br /><br />Rating: 3.5/10 (Grade: F)'"
      ]
     },
     "execution_count": 40,
     "metadata": {},
     "output_type": "execute_result"
    }
   ],
   "source": [
    "review_untouched_df[row]"
   ]
  },
  {
   "cell_type": "code",
   "execution_count": 41,
   "metadata": {},
   "outputs": [
    {
     "data": {
      "text/plain": [
       "'Tell the truth I’m a bit stun to see all these positive review by so many people, which is also the main reason why I actually decide to see this movie. And after having seen it, I was really a disappointed, and this comes from the guy that loves this genre of movie. I’m surprise at this movie all completely – it is like a kid’s movie with nudity for absolutely no reason and it all involve little children cursing and swearing. I’m not at all righteous but this has really gone too far in my account. Synopsis: The story about two guys got send to the big brother program for their reckless behavior. There they met up with one kids with boobs obsession and the other is a medieval freak. Just the name it self is not really connected with the story at all. They are not being a role model and or do anything but to serve their time for what they have done. The story is very predictable (though expected) and the humor is lame. And haven’t we already seen the same characters (play by Mc Lovin’) in so many other movies (like Sasquatch Gang?). I think I laugh thrice and almost fell a sleep. Well the casting was alright after all he is the one that produce the screenplay. And the acting is so-so as expected when you’re watching this type of movie. And the direction, what do one expect? This is the same guy who brought us Wet Hot American Summer, and that movie also sucks. But somehow he always managed to bring in some star to attract his horrendous movie. Anyway I felt not total riff off but a completely waste of time. Only the naked scenes seem to be the best part in the movie. Can’t really see any point why I should recommend this to anyone. Pros: Elizabeth Bank? Two topless scenes. Cons: Not funny, dreadful story, nudity and kids do not mix together. Rating: 3.5/10 (Grade: F)'"
      ]
     },
     "execution_count": 41,
     "metadata": {},
     "output_type": "execute_result"
    }
   ],
   "source": [
    "imdb_df.iloc[row, 0]"
   ]
  },
  {
   "cell_type": "code",
   "execution_count": 42,
   "metadata": {},
   "outputs": [
    {
     "data": {
      "text/plain": [
       "\"Tell the truth I'm a bit stun to see all these positive review by so many people, which is also the main reason why I actually decide to see this movie. And after having seen it, I was really a disappointed, and this comes from the guy that loves this genre of movie. I'm surprise at this movie all completely – it is like a kid's movie with nudity for absolutely no reason and it all involve little children cursing and swearing. I'm not at all righteous but this has really gone too far in my account. Synopsis: The story about two guys got send to the big brother program for their reckless behavior. There they met up with one kids with boobs obsession and the other is a medieval freak. Just the name it self is not really connected with the story at all. They are not being a role model and or do anything but to serve their time for what they have done. The story is very predictable (though expected) and the humor is lame. And haven't we already seen the same characters (play by Mc Lovin') in so many other movies (like Sasquatch Gang?). I think I laugh thrice and almost fell a sleep. Well the casting was alright after all he is the one that produce the screenplay. And the acting is so-so as expected when you're watching this type of movie. And the direction, what do one expect? This is the same guy who brought us Wet Hot American Summer, and that movie also sucks. But somehow he always managed to bring in some star to attract his horrendous movie. Anyway I felt not total riff off but a completely waste of time. Only the naked scenes seem to be the best part in the movie. Can't really see any point why I should recommend this to anyone. Pros: Elizabeth Bank? Two topless scenes. Cons: Not funny, dreadful story, nudity and kids do not mix together. Rating: 3.5/10 (Grade: F)\""
      ]
     },
     "execution_count": 42,
     "metadata": {},
     "output_type": "execute_result"
    }
   ],
   "source": [
    "imdb_df.iloc[row, 4]"
   ]
  },
  {
   "cell_type": "code",
   "execution_count": 43,
   "metadata": {},
   "outputs": [],
   "source": [
    "imdb_df[\"review\"] = imdb_df[\"review_norm\"]"
   ]
  },
  {
   "cell_type": "markdown",
   "metadata": {},
   "source": [
    "### Unicode"
   ]
  },
  {
   "cell_type": "code",
   "execution_count": 44,
   "metadata": {},
   "outputs": [],
   "source": [
    "imdb_df[\"review_norm\"] = imdb_df[\"review\"].apply(tprep.normalize.unicode) # normalize unicode to ASCII"
   ]
  },
  {
   "cell_type": "markdown",
   "metadata": {},
   "source": [
    "Let us see the changes"
   ]
  },
  {
   "cell_type": "code",
   "execution_count": 45,
   "metadata": {},
   "outputs": [
    {
     "data": {
      "text/plain": [
       "False    50000\n",
       "Name: changed, dtype: int64"
      ]
     },
     "execution_count": 45,
     "metadata": {},
     "output_type": "execute_result"
    }
   ],
   "source": [
    "imdb_df[\"changed\"] = [imdb_df[\"review\"][i] != imdb_df[\"review_norm\"][i] for i in range(imdb_df[\"review\"].shape[0])] \n",
    "imdb_df[\"changed\"].value_counts(dropna=False)"
   ]
  },
  {
   "cell_type": "code",
   "execution_count": 46,
   "metadata": {},
   "outputs": [],
   "source": [
    "imdb_df[\"review\"] = imdb_df[\"review_norm\"]"
   ]
  },
  {
   "cell_type": "markdown",
   "metadata": {},
   "source": [
    "### Removing the accents"
   ]
  },
  {
   "cell_type": "code",
   "execution_count": 47,
   "metadata": {},
   "outputs": [],
   "source": [
    "imdb_df[\"review_norm\"] = imdb_df[\"review\"].apply(tprep.remove.accents) # remove accents as in ö"
   ]
  },
  {
   "cell_type": "markdown",
   "metadata": {},
   "source": [
    "Let us see the changes"
   ]
  },
  {
   "cell_type": "code",
   "execution_count": 48,
   "metadata": {},
   "outputs": [
    {
     "data": {
      "text/plain": [
       "False    46919\n",
       "True      3081\n",
       "Name: changed, dtype: int64"
      ]
     },
     "execution_count": 48,
     "metadata": {},
     "output_type": "execute_result"
    }
   ],
   "source": [
    "imdb_df[\"changed\"] = [imdb_df[\"review\"][i] != imdb_df[\"review_norm\"][i] for i in range(imdb_df[\"review\"].shape[0])] \n",
    "imdb_df[\"changed\"].value_counts(dropna=False)"
   ]
  },
  {
   "cell_type": "code",
   "execution_count": 49,
   "metadata": {},
   "outputs": [
    {
     "data": {
      "text/html": [
       "<div>\n",
       "<style scoped>\n",
       "    .dataframe tbody tr th:only-of-type {\n",
       "        vertical-align: middle;\n",
       "    }\n",
       "\n",
       "    .dataframe tbody tr th {\n",
       "        vertical-align: top;\n",
       "    }\n",
       "\n",
       "    .dataframe thead th {\n",
       "        text-align: right;\n",
       "    }\n",
       "</style>\n",
       "<table border=\"1\" class=\"dataframe\">\n",
       "  <thead>\n",
       "    <tr style=\"text-align: right;\">\n",
       "      <th></th>\n",
       "      <th>review</th>\n",
       "      <th>review_length</th>\n",
       "      <th>impurity</th>\n",
       "      <th>sentiment</th>\n",
       "      <th>review_norm</th>\n",
       "      <th>changed</th>\n",
       "    </tr>\n",
       "  </thead>\n",
       "  <tbody>\n",
       "    <tr>\n",
       "      <th>29</th>\n",
       "      <td>'War movie' is a Hollywood genre that has been...</td>\n",
       "      <td>3736</td>\n",
       "      <td>0.0</td>\n",
       "      <td>positive</td>\n",
       "      <td>'War movie' is a Hollywood genre that has been...</td>\n",
       "      <td>True</td>\n",
       "    </tr>\n",
       "    <tr>\n",
       "      <th>33</th>\n",
       "      <td>One of the most significant quotes from the en...</td>\n",
       "      <td>3965</td>\n",
       "      <td>0.0</td>\n",
       "      <td>positive</td>\n",
       "      <td>One of the most significant quotes from the en...</td>\n",
       "      <td>True</td>\n",
       "    </tr>\n",
       "    <tr>\n",
       "      <th>40</th>\n",
       "      <td>It had all the clichés of movies of this type ...</td>\n",
       "      <td>654</td>\n",
       "      <td>0.0</td>\n",
       "      <td>negative</td>\n",
       "      <td>It had all the cliches of movies of this type ...</td>\n",
       "      <td>True</td>\n",
       "    </tr>\n",
       "    <tr>\n",
       "      <th>41</th>\n",
       "      <td>This movie is based on the book, \"A Many Splen...</td>\n",
       "      <td>1282</td>\n",
       "      <td>0.0</td>\n",
       "      <td>positive</td>\n",
       "      <td>This movie is based on the book, \"A Many Splen...</td>\n",
       "      <td>True</td>\n",
       "    </tr>\n",
       "    <tr>\n",
       "      <th>65</th>\n",
       "      <td>DON'T TORTURE A DUCKLING is one of Fulci's ear...</td>\n",
       "      <td>1680</td>\n",
       "      <td>0.0</td>\n",
       "      <td>positive</td>\n",
       "      <td>DON'T TORTURE A DUCKLING is one of Fulci's ear...</td>\n",
       "      <td>True</td>\n",
       "    </tr>\n",
       "    <tr>\n",
       "      <th>...</th>\n",
       "      <td>...</td>\n",
       "      <td>...</td>\n",
       "      <td>...</td>\n",
       "      <td>...</td>\n",
       "      <td>...</td>\n",
       "      <td>...</td>\n",
       "    </tr>\n",
       "    <tr>\n",
       "      <th>49878</th>\n",
       "      <td>I have never read a Jacqueline Susann novel, b...</td>\n",
       "      <td>2466</td>\n",
       "      <td>0.0</td>\n",
       "      <td>positive</td>\n",
       "      <td>I have never read a Jacqueline Susann novel, b...</td>\n",
       "      <td>True</td>\n",
       "    </tr>\n",
       "    <tr>\n",
       "      <th>49885</th>\n",
       "      <td>The Brave One seems to indicate that the main ...</td>\n",
       "      <td>3919</td>\n",
       "      <td>0.0</td>\n",
       "      <td>negative</td>\n",
       "      <td>The Brave One seems to indicate that the main ...</td>\n",
       "      <td>True</td>\n",
       "    </tr>\n",
       "    <tr>\n",
       "      <th>49921</th>\n",
       "      <td>Antonio Margheriti's \"Danza Macabra\" aka. \"Cas...</td>\n",
       "      <td>2944</td>\n",
       "      <td>0.0</td>\n",
       "      <td>positive</td>\n",
       "      <td>Antonio Margheriti's \"Danza Macabra\" aka. \"Cas...</td>\n",
       "      <td>True</td>\n",
       "    </tr>\n",
       "    <tr>\n",
       "      <th>49928</th>\n",
       "      <td>I love so much about this movie: the music, th...</td>\n",
       "      <td>1098</td>\n",
       "      <td>0.0</td>\n",
       "      <td>positive</td>\n",
       "      <td>I love so much about this movie: the music, th...</td>\n",
       "      <td>True</td>\n",
       "    </tr>\n",
       "    <tr>\n",
       "      <th>49972</th>\n",
       "      <td>The future of fantasy never looked so dark! Ch...</td>\n",
       "      <td>1628</td>\n",
       "      <td>0.0</td>\n",
       "      <td>negative</td>\n",
       "      <td>The future of fantasy never looked so dark! Ch...</td>\n",
       "      <td>True</td>\n",
       "    </tr>\n",
       "  </tbody>\n",
       "</table>\n",
       "<p>3081 rows × 6 columns</p>\n",
       "</div>"
      ],
      "text/plain": [
       "                                                  review  review_length  \\\n",
       "29     'War movie' is a Hollywood genre that has been...           3736   \n",
       "33     One of the most significant quotes from the en...           3965   \n",
       "40     It had all the clichés of movies of this type ...            654   \n",
       "41     This movie is based on the book, \"A Many Splen...           1282   \n",
       "65     DON'T TORTURE A DUCKLING is one of Fulci's ear...           1680   \n",
       "...                                                  ...            ...   \n",
       "49878  I have never read a Jacqueline Susann novel, b...           2466   \n",
       "49885  The Brave One seems to indicate that the main ...           3919   \n",
       "49921  Antonio Margheriti's \"Danza Macabra\" aka. \"Cas...           2944   \n",
       "49928  I love so much about this movie: the music, th...           1098   \n",
       "49972  The future of fantasy never looked so dark! Ch...           1628   \n",
       "\n",
       "       impurity sentiment                                        review_norm  \\\n",
       "29          0.0  positive  'War movie' is a Hollywood genre that has been...   \n",
       "33          0.0  positive  One of the most significant quotes from the en...   \n",
       "40          0.0  negative  It had all the cliches of movies of this type ...   \n",
       "41          0.0  positive  This movie is based on the book, \"A Many Splen...   \n",
       "65          0.0  positive  DON'T TORTURE A DUCKLING is one of Fulci's ear...   \n",
       "...         ...       ...                                                ...   \n",
       "49878       0.0  positive  I have never read a Jacqueline Susann novel, b...   \n",
       "49885       0.0  negative  The Brave One seems to indicate that the main ...   \n",
       "49921       0.0  positive  Antonio Margheriti's \"Danza Macabra\" aka. \"Cas...   \n",
       "49928       0.0  positive  I love so much about this movie: the music, th...   \n",
       "49972       0.0  negative  The future of fantasy never looked so dark! Ch...   \n",
       "\n",
       "       changed  \n",
       "29        True  \n",
       "33        True  \n",
       "40        True  \n",
       "41        True  \n",
       "65        True  \n",
       "...        ...  \n",
       "49878     True  \n",
       "49885     True  \n",
       "49921     True  \n",
       "49928     True  \n",
       "49972     True  \n",
       "\n",
       "[3081 rows x 6 columns]"
      ]
     },
     "execution_count": 49,
     "metadata": {},
     "output_type": "execute_result"
    }
   ],
   "source": [
    "imdb_df[imdb_df[\"changed\"]]"
   ]
  },
  {
   "cell_type": "code",
   "execution_count": 50,
   "metadata": {},
   "outputs": [],
   "source": [
    "row = 40"
   ]
  },
  {
   "cell_type": "code",
   "execution_count": 51,
   "metadata": {},
   "outputs": [
    {
     "data": {
      "text/plain": [
       "\"It had all the clichés of movies of this type and no substance. The plot went nowhere and at the end of the movie I felt like a sucker for watching it. The production was good; however, the script and acting were B-movie quality. The casting was poor because there were good actors mixed in with crumby actors. The good actors didn't hold their own nor did they lift up the others. <br /><br />This movie is not worthy of more words, but I will say more to meet the minimum requirement of ten lines. James Wood and Cuba Gooding, Jr. play caricatures of themselves in other movies. <br /><br />If you are looking for mindless entertainment, I still wouldn't recommend this movie.\""
      ]
     },
     "execution_count": 51,
     "metadata": {},
     "output_type": "execute_result"
    }
   ],
   "source": [
    "review_untouched_df[row]"
   ]
  },
  {
   "cell_type": "code",
   "execution_count": 52,
   "metadata": {},
   "outputs": [
    {
     "data": {
      "text/plain": [
       "\"It had all the clichés of movies of this type and no substance. The plot went nowhere and at the end of the movie I felt like a sucker for watching it. The production was good; however, the script and acting were B-movie quality. The casting was poor because there were good actors mixed in with crumby actors. The good actors didn't hold their own nor did they lift up the others. This movie is not worthy of more words, but I will say more to meet the minimum requirement of ten lines. James Wood and Cuba Gooding, Jr. play caricatures of themselves in other movies. If you are looking for mindless entertainment, I still wouldn't recommend this movie.\""
      ]
     },
     "execution_count": 52,
     "metadata": {},
     "output_type": "execute_result"
    }
   ],
   "source": [
    "imdb_df.iloc[row, 0]"
   ]
  },
  {
   "cell_type": "code",
   "execution_count": 53,
   "metadata": {},
   "outputs": [
    {
     "data": {
      "text/plain": [
       "\"It had all the cliches of movies of this type and no substance. The plot went nowhere and at the end of the movie I felt like a sucker for watching it. The production was good; however, the script and acting were B-movie quality. The casting was poor because there were good actors mixed in with crumby actors. The good actors didn't hold their own nor did they lift up the others. This movie is not worthy of more words, but I will say more to meet the minimum requirement of ten lines. James Wood and Cuba Gooding, Jr. play caricatures of themselves in other movies. If you are looking for mindless entertainment, I still wouldn't recommend this movie.\""
      ]
     },
     "execution_count": 53,
     "metadata": {},
     "output_type": "execute_result"
    }
   ],
   "source": [
    "imdb_df.iloc[row, 4]"
   ]
  },
  {
   "cell_type": "code",
   "execution_count": 54,
   "metadata": {},
   "outputs": [],
   "source": [
    "imdb_df[\"review\"] = imdb_df[\"review_norm\"]"
   ]
  },
  {
   "cell_type": "markdown",
   "metadata": {},
   "source": [
    "### Masking URLs"
   ]
  },
  {
   "cell_type": "code",
   "execution_count": 55,
   "metadata": {},
   "outputs": [],
   "source": [
    "imdb_df[\"review_norm\"] = imdb_df[\"review\"].apply(tprep.replace.urls)  # replace URLs by _URL_"
   ]
  },
  {
   "cell_type": "markdown",
   "metadata": {},
   "source": [
    "Let us see the changes"
   ]
  },
  {
   "cell_type": "code",
   "execution_count": 56,
   "metadata": {},
   "outputs": [
    {
     "data": {
      "text/plain": [
       "False    49813\n",
       "True       187\n",
       "Name: changed, dtype: int64"
      ]
     },
     "execution_count": 56,
     "metadata": {},
     "output_type": "execute_result"
    }
   ],
   "source": [
    "imdb_df[\"changed\"] = [imdb_df[\"review\"][i] != imdb_df[\"review_norm\"][i] for i in range(imdb_df[\"review\"].shape[0])] \n",
    "imdb_df[\"changed\"].value_counts(dropna=False)"
   ]
  },
  {
   "cell_type": "code",
   "execution_count": 57,
   "metadata": {},
   "outputs": [
    {
     "data": {
      "text/html": [
       "<div>\n",
       "<style scoped>\n",
       "    .dataframe tbody tr th:only-of-type {\n",
       "        vertical-align: middle;\n",
       "    }\n",
       "\n",
       "    .dataframe tbody tr th {\n",
       "        vertical-align: top;\n",
       "    }\n",
       "\n",
       "    .dataframe thead th {\n",
       "        text-align: right;\n",
       "    }\n",
       "</style>\n",
       "<table border=\"1\" class=\"dataframe\">\n",
       "  <thead>\n",
       "    <tr style=\"text-align: right;\">\n",
       "      <th></th>\n",
       "      <th>review</th>\n",
       "      <th>review_length</th>\n",
       "      <th>impurity</th>\n",
       "      <th>sentiment</th>\n",
       "      <th>review_norm</th>\n",
       "      <th>changed</th>\n",
       "    </tr>\n",
       "  </thead>\n",
       "  <tbody>\n",
       "    <tr>\n",
       "      <th>742</th>\n",
       "      <td>Mario Lewis of the Competitive Enterprise Inst...</td>\n",
       "      <td>913</td>\n",
       "      <td>0.000000</td>\n",
       "      <td>negative</td>\n",
       "      <td>Mario Lewis of the Competitive Enterprise Inst...</td>\n",
       "      <td>True</td>\n",
       "    </tr>\n",
       "    <tr>\n",
       "      <th>907</th>\n",
       "      <td>Following directly from where the story left o...</td>\n",
       "      <td>4540</td>\n",
       "      <td>0.000000</td>\n",
       "      <td>positive</td>\n",
       "      <td>Following directly from where the story left o...</td>\n",
       "      <td>True</td>\n",
       "    </tr>\n",
       "    <tr>\n",
       "      <th>1088</th>\n",
       "      <td>This quasi J-horror film followed a young woma...</td>\n",
       "      <td>1132</td>\n",
       "      <td>0.000000</td>\n",
       "      <td>negative</td>\n",
       "      <td>This quasi J-horror film followed a young woma...</td>\n",
       "      <td>True</td>\n",
       "    </tr>\n",
       "    <tr>\n",
       "      <th>1137</th>\n",
       "      <td>I really think I should make my case and have ...</td>\n",
       "      <td>672</td>\n",
       "      <td>0.000000</td>\n",
       "      <td>positive</td>\n",
       "      <td>I really think I should make my case and have ...</td>\n",
       "      <td>True</td>\n",
       "    </tr>\n",
       "    <tr>\n",
       "      <th>1141</th>\n",
       "      <td>This show has to be my favorite out of all the...</td>\n",
       "      <td>1049</td>\n",
       "      <td>0.000000</td>\n",
       "      <td>positive</td>\n",
       "      <td>This show has to be my favorite out of all the...</td>\n",
       "      <td>True</td>\n",
       "    </tr>\n",
       "    <tr>\n",
       "      <th>...</th>\n",
       "      <td>...</td>\n",
       "      <td>...</td>\n",
       "      <td>...</td>\n",
       "      <td>...</td>\n",
       "      <td>...</td>\n",
       "      <td>...</td>\n",
       "    </tr>\n",
       "    <tr>\n",
       "      <th>48887</th>\n",
       "      <td>Trite and unoriginal. It's like someone watche...</td>\n",
       "      <td>1118</td>\n",
       "      <td>0.000000</td>\n",
       "      <td>negative</td>\n",
       "      <td>Trite and unoriginal. It's like someone watche...</td>\n",
       "      <td>True</td>\n",
       "    </tr>\n",
       "    <tr>\n",
       "      <th>49063</th>\n",
       "      <td>Trick or Treat, Quickie Review This zany romp ...</td>\n",
       "      <td>1409</td>\n",
       "      <td>0.000000</td>\n",
       "      <td>positive</td>\n",
       "      <td>Trick or Treat, Quickie Review This zany romp ...</td>\n",
       "      <td>True</td>\n",
       "    </tr>\n",
       "    <tr>\n",
       "      <th>49596</th>\n",
       "      <td>This is absolutely the best 80s cartoon ever, ...</td>\n",
       "      <td>1151</td>\n",
       "      <td>0.000000</td>\n",
       "      <td>positive</td>\n",
       "      <td>This is absolutely the best 80s cartoon ever, ...</td>\n",
       "      <td>True</td>\n",
       "    </tr>\n",
       "    <tr>\n",
       "      <th>49637</th>\n",
       "      <td>If you liked the Richard Chamberlain version o...</td>\n",
       "      <td>686</td>\n",
       "      <td>0.001458</td>\n",
       "      <td>positive</td>\n",
       "      <td>If you liked the Richard Chamberlain version o...</td>\n",
       "      <td>True</td>\n",
       "    </tr>\n",
       "    <tr>\n",
       "      <th>49951</th>\n",
       "      <td>\"Scientists at a remote lab experiment on (ins...</td>\n",
       "      <td>1948</td>\n",
       "      <td>0.000000</td>\n",
       "      <td>negative</td>\n",
       "      <td>\"Scientists at a remote lab experiment on (ins...</td>\n",
       "      <td>True</td>\n",
       "    </tr>\n",
       "  </tbody>\n",
       "</table>\n",
       "<p>187 rows × 6 columns</p>\n",
       "</div>"
      ],
      "text/plain": [
       "                                                  review  review_length  \\\n",
       "742    Mario Lewis of the Competitive Enterprise Inst...            913   \n",
       "907    Following directly from where the story left o...           4540   \n",
       "1088   This quasi J-horror film followed a young woma...           1132   \n",
       "1137   I really think I should make my case and have ...            672   \n",
       "1141   This show has to be my favorite out of all the...           1049   \n",
       "...                                                  ...            ...   \n",
       "48887  Trite and unoriginal. It's like someone watche...           1118   \n",
       "49063  Trick or Treat, Quickie Review This zany romp ...           1409   \n",
       "49596  This is absolutely the best 80s cartoon ever, ...           1151   \n",
       "49637  If you liked the Richard Chamberlain version o...            686   \n",
       "49951  \"Scientists at a remote lab experiment on (ins...           1948   \n",
       "\n",
       "       impurity sentiment                                        review_norm  \\\n",
       "742    0.000000  negative  Mario Lewis of the Competitive Enterprise Inst...   \n",
       "907    0.000000  positive  Following directly from where the story left o...   \n",
       "1088   0.000000  negative  This quasi J-horror film followed a young woma...   \n",
       "1137   0.000000  positive  I really think I should make my case and have ...   \n",
       "1141   0.000000  positive  This show has to be my favorite out of all the...   \n",
       "...         ...       ...                                                ...   \n",
       "48887  0.000000  negative  Trite and unoriginal. It's like someone watche...   \n",
       "49063  0.000000  positive  Trick or Treat, Quickie Review This zany romp ...   \n",
       "49596  0.000000  positive  This is absolutely the best 80s cartoon ever, ...   \n",
       "49637  0.001458  positive  If you liked the Richard Chamberlain version o...   \n",
       "49951  0.000000  negative  \"Scientists at a remote lab experiment on (ins...   \n",
       "\n",
       "       changed  \n",
       "742       True  \n",
       "907       True  \n",
       "1088      True  \n",
       "1137      True  \n",
       "1141      True  \n",
       "...        ...  \n",
       "48887     True  \n",
       "49063     True  \n",
       "49596     True  \n",
       "49637     True  \n",
       "49951     True  \n",
       "\n",
       "[187 rows x 6 columns]"
      ]
     },
     "execution_count": 57,
     "metadata": {},
     "output_type": "execute_result"
    }
   ],
   "source": [
    "imdb_df[imdb_df[\"changed\"]]"
   ]
  },
  {
   "cell_type": "code",
   "execution_count": 58,
   "metadata": {},
   "outputs": [],
   "source": [
    "row = 742"
   ]
  },
  {
   "cell_type": "code",
   "execution_count": 59,
   "metadata": {},
   "outputs": [
    {
     "data": {
      "text/plain": [
       "'Mario Lewis of the Competitive Enterprise Institute has written a definitive 120-page point-by-point, line-by-line refutation of this mendacious film, which should be titled A CONVENIENT LIE. The website address where his debunking report, which is titled \"A SKEPTIC\\'S GUIDE TO AN INCONVENIENT TRUTH\" can be found at is :www.cei.org. A shorter 10-page version can be found at: www.cei.org/pdf/5539.pdf Once you read those demolitions, you\\'ll realize that alleged \"global warming\" is no more real or dangerous than the Y2K scare of 1999, which Gore also endorsed, as he did the pseudo-scientific film THE DAY AFTER TOMORROW, which was based on a book written by alleged UFO abductee Whitley Strieber. As James \"The Amazing\" Randi does to psychics, and Philip Klass does to UFOs, and Gerald Posner does to JFK conspir-idiocy theories, so does Mario Lewis does to Al Gore\\'s movie and the whole \"global warming\" scam.'"
      ]
     },
     "execution_count": 59,
     "metadata": {},
     "output_type": "execute_result"
    }
   ],
   "source": [
    "review_untouched_df[row]"
   ]
  },
  {
   "cell_type": "code",
   "execution_count": 60,
   "metadata": {},
   "outputs": [
    {
     "data": {
      "text/plain": [
       "'Mario Lewis of the Competitive Enterprise Institute has written a definitive 120-page point-by-point, line-by-line refutation of this mendacious film, which should be titled A CONVENIENT LIE. The website address where his debunking report, which is titled \"A SKEPTIC\\'S GUIDE TO AN INCONVENIENT TRUTH\" can be found at is :www.cei.org. A shorter 10-page version can be found at: www.cei.org/pdf/5539.pdf Once you read those demolitions, you\\'ll realize that alleged \"global warming\" is no more real or dangerous than the Y2K scare of 1999, which Gore also endorsed, as he did the pseudo-scientific film THE DAY AFTER TOMORROW, which was based on a book written by alleged UFO abductee Whitley Strieber. As James \"The Amazing\" Randi does to psychics, and Philip Klass does to UFOs, and Gerald Posner does to JFK conspir-idiocy theories, so does Mario Lewis does to Al Gore\\'s movie and the whole \"global warming\" scam.'"
      ]
     },
     "execution_count": 60,
     "metadata": {},
     "output_type": "execute_result"
    }
   ],
   "source": [
    "imdb_df.iloc[row, 0]"
   ]
  },
  {
   "cell_type": "code",
   "execution_count": 61,
   "metadata": {},
   "outputs": [
    {
     "data": {
      "text/plain": [
       "'Mario Lewis of the Competitive Enterprise Institute has written a definitive 120-page point-by-point, line-by-line refutation of this mendacious film, which should be titled A CONVENIENT LIE. The website address where his debunking report, which is titled \"A SKEPTIC\\'S GUIDE TO AN INCONVENIENT TRUTH\" can be found at is :_URL_. A shorter 10-page version can be found at: _URL_ Once you read those demolitions, you\\'ll realize that alleged \"global warming\" is no more real or dangerous than the Y2K scare of 1999, which Gore also endorsed, as he did the pseudo-scientific film THE DAY AFTER TOMORROW, which was based on a book written by alleged UFO abductee Whitley Strieber. As James \"The Amazing\" Randi does to psychics, and Philip Klass does to UFOs, and Gerald Posner does to JFK conspir-idiocy theories, so does Mario Lewis does to Al Gore\\'s movie and the whole \"global warming\" scam.'"
      ]
     },
     "execution_count": 61,
     "metadata": {},
     "output_type": "execute_result"
    }
   ],
   "source": [
    "imdb_df.iloc[row, 4]"
   ]
  },
  {
   "cell_type": "code",
   "execution_count": 62,
   "metadata": {},
   "outputs": [],
   "source": [
    "imdb_df[\"review\"] = imdb_df[\"review_norm\"]"
   ]
  },
  {
   "cell_type": "markdown",
   "metadata": {},
   "source": [
    "### Masking Emojis"
   ]
  },
  {
   "cell_type": "code",
   "execution_count": 63,
   "metadata": {},
   "outputs": [],
   "source": [
    "imdb_df[\"review_norm\"] = imdb_df[\"review\"].apply(tprep.replace.emojis)  # replace emojis by _EMOJI_"
   ]
  },
  {
   "cell_type": "markdown",
   "metadata": {},
   "source": [
    "Let us see the changes"
   ]
  },
  {
   "cell_type": "code",
   "execution_count": 64,
   "metadata": {},
   "outputs": [
    {
     "data": {
      "text/plain": [
       "False    49999\n",
       "True         1\n",
       "Name: changed, dtype: int64"
      ]
     },
     "execution_count": 64,
     "metadata": {},
     "output_type": "execute_result"
    }
   ],
   "source": [
    "imdb_df[\"changed\"] = [imdb_df[\"review\"][i] != imdb_df[\"review_norm\"][i] for i in range(imdb_df[\"review\"].shape[0])] \n",
    "imdb_df[\"changed\"].value_counts(dropna=False)"
   ]
  },
  {
   "cell_type": "code",
   "execution_count": 65,
   "metadata": {},
   "outputs": [
    {
     "data": {
      "text/html": [
       "<div>\n",
       "<style scoped>\n",
       "    .dataframe tbody tr th:only-of-type {\n",
       "        vertical-align: middle;\n",
       "    }\n",
       "\n",
       "    .dataframe tbody tr th {\n",
       "        vertical-align: top;\n",
       "    }\n",
       "\n",
       "    .dataframe thead th {\n",
       "        text-align: right;\n",
       "    }\n",
       "</style>\n",
       "<table border=\"1\" class=\"dataframe\">\n",
       "  <thead>\n",
       "    <tr style=\"text-align: right;\">\n",
       "      <th></th>\n",
       "      <th>review</th>\n",
       "      <th>review_length</th>\n",
       "      <th>impurity</th>\n",
       "      <th>sentiment</th>\n",
       "      <th>review_norm</th>\n",
       "      <th>changed</th>\n",
       "    </tr>\n",
       "  </thead>\n",
       "  <tbody>\n",
       "    <tr>\n",
       "      <th>44503</th>\n",
       "      <td>This review contains spoilers. I was searching...</td>\n",
       "      <td>2134</td>\n",
       "      <td>0.0</td>\n",
       "      <td>negative</td>\n",
       "      <td>This review contains spoilers. I was searching...</td>\n",
       "      <td>True</td>\n",
       "    </tr>\n",
       "  </tbody>\n",
       "</table>\n",
       "</div>"
      ],
      "text/plain": [
       "                                                  review  review_length  \\\n",
       "44503  This review contains spoilers. I was searching...           2134   \n",
       "\n",
       "       impurity sentiment                                        review_norm  \\\n",
       "44503       0.0  negative  This review contains spoilers. I was searching...   \n",
       "\n",
       "       changed  \n",
       "44503     True  "
      ]
     },
     "execution_count": 65,
     "metadata": {},
     "output_type": "execute_result"
    }
   ],
   "source": [
    "imdb_df[imdb_df[\"changed\"]]"
   ]
  },
  {
   "cell_type": "code",
   "execution_count": 66,
   "metadata": {},
   "outputs": [],
   "source": [
    "row = 44503"
   ]
  },
  {
   "cell_type": "code",
   "execution_count": 67,
   "metadata": {},
   "outputs": [
    {
     "data": {
      "text/plain": [
       "'This review contains spoilers.<br /><br />I was searching through horror movie DVDs on Amazon when I came across Flight Of The Living Dead. I already knew from the name that it was going to be abysmally naff and most probably a rip-off of Snakes On A Plane, but it was selling brand new for 69p so I figured I didn\\'t really have much to lose.<br /><br />The music played over the opening credits didn\\'t fit at all, although I did like the song itself a pop-rock song isn\\'t really suitable to appear on the soundtrack of a zombie horror movie. It started off surprisingly well, the opening scenes weren\\'t too bad, some of the acting was a little cringe-worthy but not as bad as I initially thought it would be.<br /><br />It all goes well until Laura Cayouette (Rocket from Kill Bill: Vol. 2) enters the picture. She is supposed to be playing a scientist. If she is, she\\'s not a very bright one. Luckily she\\'s polished off pretty quickly.<br /><br />I actually physically laughed out loud when the camera panned over the passengers of the plane during some turbulence. There was a nun. Have you ever been on a plane with a nun!? I was surprised she wasn\\'t clutching a crucifix.<br /><br />Finally, after 35 minutes, we get to some zombie action, and use the word \\'action\\' loosely. The special effects are pretty below standard, but that\\'s to be expected from a movie with this budget. Being covered in blood and having yellow contact lenses does not make you look like a zombie though, it makes you look pretty amusing. Using slow motion doesn\\'t work particularly well either. I think this movie is probably guilty of trying to add too much story. Trying to pass off the problem as a variant of the \"malaria virus\" wasn\\'t an especially good move either considering malaria isn\\'t a virus.<br /><br />The rest of the movie pretty much plays out like any other zombie movie. Most of the characters are killed off and it eventually ends up with a handful of people fighting to stay alive. Possibly the worst part of Flight Of The Living Dead is the utterly inconceivable ending. I know it\\'s a movie about people who come back to life and feast on the living, but the ending was just ridiculous. Rating: ★★'"
      ]
     },
     "execution_count": 67,
     "metadata": {},
     "output_type": "execute_result"
    }
   ],
   "source": [
    "review_untouched_df[row]"
   ]
  },
  {
   "cell_type": "code",
   "execution_count": 68,
   "metadata": {},
   "outputs": [
    {
     "data": {
      "text/plain": [
       "'This review contains spoilers. I was searching through horror movie DVDs on Amazon when I came across Flight Of The Living Dead. I already knew from the name that it was going to be abysmally naff and most probably a rip-off of Snakes On A Plane, but it was selling brand new for 69p so I figured I didn\\'t really have much to lose. The music played over the opening credits didn\\'t fit at all, although I did like the song itself a pop-rock song isn\\'t really suitable to appear on the soundtrack of a zombie horror movie. It started off surprisingly well, the opening scenes weren\\'t too bad, some of the acting was a little cringe-worthy but not as bad as I initially thought it would be. It all goes well until Laura Cayouette (Rocket from Kill Bill: Vol. 2) enters the picture. She is supposed to be playing a scientist. If she is, she\\'s not a very bright one. Luckily she\\'s polished off pretty quickly. I actually physically laughed out loud when the camera panned over the passengers of the plane during some turbulence. There was a nun. Have you ever been on a plane with a nun!? I was surprised she wasn\\'t clutching a crucifix. Finally, after 35 minutes, we get to some zombie action, and use the word \\'action\\' loosely. The special effects are pretty below standard, but that\\'s to be expected from a movie with this budget. Being covered in blood and having yellow contact lenses does not make you look like a zombie though, it makes you look pretty amusing. Using slow motion doesn\\'t work particularly well either. I think this movie is probably guilty of trying to add too much story. Trying to pass off the problem as a variant of the \"malaria virus\" wasn\\'t an especially good move either considering malaria isn\\'t a virus. The rest of the movie pretty much plays out like any other zombie movie. Most of the characters are killed off and it eventually ends up with a handful of people fighting to stay alive. Possibly the worst part of Flight Of The Living Dead is the utterly inconceivable ending. I know it\\'s a movie about people who come back to life and feast on the living, but the ending was just ridiculous. Rating: ★★'"
      ]
     },
     "execution_count": 68,
     "metadata": {},
     "output_type": "execute_result"
    }
   ],
   "source": [
    "imdb_df.iloc[row, 0]"
   ]
  },
  {
   "cell_type": "code",
   "execution_count": 69,
   "metadata": {},
   "outputs": [
    {
     "data": {
      "text/plain": [
       "'This review contains spoilers. I was searching through horror movie DVDs on Amazon when I came across Flight Of The Living Dead. I already knew from the name that it was going to be abysmally naff and most probably a rip-off of Snakes On A Plane, but it was selling brand new for 69p so I figured I didn\\'t really have much to lose. The music played over the opening credits didn\\'t fit at all, although I did like the song itself a pop-rock song isn\\'t really suitable to appear on the soundtrack of a zombie horror movie. It started off surprisingly well, the opening scenes weren\\'t too bad, some of the acting was a little cringe-worthy but not as bad as I initially thought it would be. It all goes well until Laura Cayouette (Rocket from Kill Bill: Vol. 2) enters the picture. She is supposed to be playing a scientist. If she is, she\\'s not a very bright one. Luckily she\\'s polished off pretty quickly. I actually physically laughed out loud when the camera panned over the passengers of the plane during some turbulence. There was a nun. Have you ever been on a plane with a nun!? I was surprised she wasn\\'t clutching a crucifix. Finally, after 35 minutes, we get to some zombie action, and use the word \\'action\\' loosely. The special effects are pretty below standard, but that\\'s to be expected from a movie with this budget. Being covered in blood and having yellow contact lenses does not make you look like a zombie though, it makes you look pretty amusing. Using slow motion doesn\\'t work particularly well either. I think this movie is probably guilty of trying to add too much story. Trying to pass off the problem as a variant of the \"malaria virus\" wasn\\'t an especially good move either considering malaria isn\\'t a virus. The rest of the movie pretty much plays out like any other zombie movie. Most of the characters are killed off and it eventually ends up with a handful of people fighting to stay alive. Possibly the worst part of Flight Of The Living Dead is the utterly inconceivable ending. I know it\\'s a movie about people who come back to life and feast on the living, but the ending was just ridiculous. Rating: _EMOJI__EMOJI_'"
      ]
     },
     "execution_count": 69,
     "metadata": {},
     "output_type": "execute_result"
    }
   ],
   "source": [
    "imdb_df.iloc[row, 4]"
   ]
  },
  {
   "cell_type": "code",
   "execution_count": 70,
   "metadata": {},
   "outputs": [],
   "source": [
    "imdb_df[\"review\"] = imdb_df[\"review_norm\"]"
   ]
  },
  {
   "cell_type": "markdown",
   "metadata": {},
   "source": [
    "### Masking Emails"
   ]
  },
  {
   "cell_type": "code",
   "execution_count": 71,
   "metadata": {},
   "outputs": [],
   "source": [
    "imdb_df[\"review_norm\"] = imdb_df[\"review\"].apply(tprep.replace.emails)  # replace emails by _EMAIL_"
   ]
  },
  {
   "cell_type": "markdown",
   "metadata": {},
   "source": [
    "Let us see the changes"
   ]
  },
  {
   "cell_type": "code",
   "execution_count": 72,
   "metadata": {},
   "outputs": [
    {
     "data": {
      "text/plain": [
       "False    49952\n",
       "True        48\n",
       "Name: changed, dtype: int64"
      ]
     },
     "execution_count": 72,
     "metadata": {},
     "output_type": "execute_result"
    }
   ],
   "source": [
    "imdb_df[\"changed\"] = [imdb_df[\"review\"][i] != imdb_df[\"review_norm\"][i] for i in range(imdb_df[\"review\"].shape[0])] \n",
    "imdb_df[\"changed\"].value_counts(dropna=False)"
   ]
  },
  {
   "cell_type": "code",
   "execution_count": 73,
   "metadata": {},
   "outputs": [
    {
     "data": {
      "text/html": [
       "<div>\n",
       "<style scoped>\n",
       "    .dataframe tbody tr th:only-of-type {\n",
       "        vertical-align: middle;\n",
       "    }\n",
       "\n",
       "    .dataframe tbody tr th {\n",
       "        vertical-align: top;\n",
       "    }\n",
       "\n",
       "    .dataframe thead th {\n",
       "        text-align: right;\n",
       "    }\n",
       "</style>\n",
       "<table border=\"1\" class=\"dataframe\">\n",
       "  <thead>\n",
       "    <tr style=\"text-align: right;\">\n",
       "      <th></th>\n",
       "      <th>review</th>\n",
       "      <th>review_length</th>\n",
       "      <th>impurity</th>\n",
       "      <th>sentiment</th>\n",
       "      <th>review_norm</th>\n",
       "      <th>changed</th>\n",
       "    </tr>\n",
       "  </thead>\n",
       "  <tbody>\n",
       "    <tr>\n",
       "      <th>1281</th>\n",
       "      <td>I like many others saw this as a child and I l...</td>\n",
       "      <td>987</td>\n",
       "      <td>0.000000</td>\n",
       "      <td>positive</td>\n",
       "      <td>I like many others saw this as a child and I l...</td>\n",
       "      <td>True</td>\n",
       "    </tr>\n",
       "    <tr>\n",
       "      <th>3568</th>\n",
       "      <td>I have noticed that people have asked if anyon...</td>\n",
       "      <td>753</td>\n",
       "      <td>0.000000</td>\n",
       "      <td>positive</td>\n",
       "      <td>I have noticed that people have asked if anyon...</td>\n",
       "      <td>True</td>\n",
       "    </tr>\n",
       "    <tr>\n",
       "      <th>5068</th>\n",
       "      <td>Brilliant adaptation of the largely interior m...</td>\n",
       "      <td>934</td>\n",
       "      <td>0.000000</td>\n",
       "      <td>positive</td>\n",
       "      <td>Brilliant adaptation of the largely interior m...</td>\n",
       "      <td>True</td>\n",
       "    </tr>\n",
       "    <tr>\n",
       "      <th>8176</th>\n",
       "      <td>I could never remember the name of this show. ...</td>\n",
       "      <td>737</td>\n",
       "      <td>0.000000</td>\n",
       "      <td>positive</td>\n",
       "      <td>I could never remember the name of this show. ...</td>\n",
       "      <td>True</td>\n",
       "    </tr>\n",
       "    <tr>\n",
       "      <th>8474</th>\n",
       "      <td>I'm like the rest of the fans who love this co...</td>\n",
       "      <td>761</td>\n",
       "      <td>0.000000</td>\n",
       "      <td>positive</td>\n",
       "      <td>I'm like the rest of the fans who love this co...</td>\n",
       "      <td>True</td>\n",
       "    </tr>\n",
       "    <tr>\n",
       "      <th>9510</th>\n",
       "      <td>I cant believe how many excellent actors can b...</td>\n",
       "      <td>680</td>\n",
       "      <td>0.000000</td>\n",
       "      <td>positive</td>\n",
       "      <td>I cant believe how many excellent actors can b...</td>\n",
       "      <td>True</td>\n",
       "    </tr>\n",
       "    <tr>\n",
       "      <th>9978</th>\n",
       "      <td>I really can't say too much more about the plo...</td>\n",
       "      <td>803</td>\n",
       "      <td>0.000000</td>\n",
       "      <td>positive</td>\n",
       "      <td>I really can't say too much more about the plo...</td>\n",
       "      <td>True</td>\n",
       "    </tr>\n",
       "    <tr>\n",
       "      <th>12166</th>\n",
       "      <td>Robert Jordan is a television star. Robert Jor...</td>\n",
       "      <td>592</td>\n",
       "      <td>0.000000</td>\n",
       "      <td>positive</td>\n",
       "      <td>Robert Jordan is a television star. Robert Jor...</td>\n",
       "      <td>True</td>\n",
       "    </tr>\n",
       "    <tr>\n",
       "      <th>13471</th>\n",
       "      <td>This movie was everything but boring. It deals...</td>\n",
       "      <td>784</td>\n",
       "      <td>0.000000</td>\n",
       "      <td>positive</td>\n",
       "      <td>This movie was everything but boring. It deals...</td>\n",
       "      <td>True</td>\n",
       "    </tr>\n",
       "    <tr>\n",
       "      <th>13741</th>\n",
       "      <td>I LOVE this movie. and Disney channel is ridic...</td>\n",
       "      <td>795</td>\n",
       "      <td>0.000000</td>\n",
       "      <td>positive</td>\n",
       "      <td>I LOVE this movie. and Disney channel is ridic...</td>\n",
       "      <td>True</td>\n",
       "    </tr>\n",
       "    <tr>\n",
       "      <th>13812</th>\n",
       "      <td>Well, EYEboy, I must say that it pleases me to...</td>\n",
       "      <td>975</td>\n",
       "      <td>0.000000</td>\n",
       "      <td>negative</td>\n",
       "      <td>Well, EYEboy, I must say that it pleases me to...</td>\n",
       "      <td>True</td>\n",
       "    </tr>\n",
       "    <tr>\n",
       "      <th>14570</th>\n",
       "      <td>I posted on IMDb on this series recently, givi...</td>\n",
       "      <td>2418</td>\n",
       "      <td>0.000827</td>\n",
       "      <td>positive</td>\n",
       "      <td>I posted on IMDb on this series recently, givi...</td>\n",
       "      <td>True</td>\n",
       "    </tr>\n",
       "    <tr>\n",
       "      <th>15094</th>\n",
       "      <td>Has anyone been able to buy this movie? My Unc...</td>\n",
       "      <td>641</td>\n",
       "      <td>0.000000</td>\n",
       "      <td>positive</td>\n",
       "      <td>Has anyone been able to buy this movie? My Unc...</td>\n",
       "      <td>True</td>\n",
       "    </tr>\n",
       "    <tr>\n",
       "      <th>16536</th>\n",
       "      <td>John Water's (\"Pink Flamingos\"...) \"Pecker\" is...</td>\n",
       "      <td>763</td>\n",
       "      <td>0.000000</td>\n",
       "      <td>positive</td>\n",
       "      <td>John Water's (\"Pink Flamingos\"...) \"Pecker\" is...</td>\n",
       "      <td>True</td>\n",
       "    </tr>\n",
       "    <tr>\n",
       "      <th>16961</th>\n",
       "      <td>I was lucky enough to get a DVD copy of this m...</td>\n",
       "      <td>1120</td>\n",
       "      <td>0.000000</td>\n",
       "      <td>positive</td>\n",
       "      <td>I was lucky enough to get a DVD copy of this m...</td>\n",
       "      <td>True</td>\n",
       "    </tr>\n",
       "    <tr>\n",
       "      <th>17332</th>\n",
       "      <td>Hello, I was wondering if anyone has a copy of...</td>\n",
       "      <td>942</td>\n",
       "      <td>0.000000</td>\n",
       "      <td>positive</td>\n",
       "      <td>Hello, I was wondering if anyone has a copy of...</td>\n",
       "      <td>True</td>\n",
       "    </tr>\n",
       "    <tr>\n",
       "      <th>17801</th>\n",
       "      <td>Robert Jordan is a television star. Robert Jor...</td>\n",
       "      <td>592</td>\n",
       "      <td>0.000000</td>\n",
       "      <td>positive</td>\n",
       "      <td>Robert Jordan is a television star. Robert Jor...</td>\n",
       "      <td>True</td>\n",
       "    </tr>\n",
       "    <tr>\n",
       "      <th>18889</th>\n",
       "      <td>I watched this episode a lot of times because ...</td>\n",
       "      <td>2888</td>\n",
       "      <td>0.000000</td>\n",
       "      <td>positive</td>\n",
       "      <td>I watched this episode a lot of times because ...</td>\n",
       "      <td>True</td>\n",
       "    </tr>\n",
       "    <tr>\n",
       "      <th>19219</th>\n",
       "      <td>I LOVED this program, and for years searched f...</td>\n",
       "      <td>647</td>\n",
       "      <td>0.000000</td>\n",
       "      <td>positive</td>\n",
       "      <td>I LOVED this program, and for years searched f...</td>\n",
       "      <td>True</td>\n",
       "    </tr>\n",
       "    <tr>\n",
       "      <th>21828</th>\n",
       "      <td>Ever sense i was a kid i have loved this movie...</td>\n",
       "      <td>955</td>\n",
       "      <td>0.000000</td>\n",
       "      <td>positive</td>\n",
       "      <td>Ever sense i was a kid i have loved this movie...</td>\n",
       "      <td>True</td>\n",
       "    </tr>\n",
       "    <tr>\n",
       "      <th>22330</th>\n",
       "      <td>wow is all i could say i really loved the movi...</td>\n",
       "      <td>811</td>\n",
       "      <td>0.000000</td>\n",
       "      <td>positive</td>\n",
       "      <td>wow is all i could say i really loved the movi...</td>\n",
       "      <td>True</td>\n",
       "    </tr>\n",
       "    <tr>\n",
       "      <th>22415</th>\n",
       "      <td>In Lizzie Borden's \"Love Crimes\" (1992), Sean ...</td>\n",
       "      <td>1422</td>\n",
       "      <td>0.000000</td>\n",
       "      <td>positive</td>\n",
       "      <td>In Lizzie Borden's \"Love Crimes\" (1992), Sean ...</td>\n",
       "      <td>True</td>\n",
       "    </tr>\n",
       "    <tr>\n",
       "      <th>22734</th>\n",
       "      <td>As you can see I've submitted 2 comments about...</td>\n",
       "      <td>530</td>\n",
       "      <td>0.000000</td>\n",
       "      <td>positive</td>\n",
       "      <td>As you can see I've submitted 2 comments about...</td>\n",
       "      <td>True</td>\n",
       "    </tr>\n",
       "    <tr>\n",
       "      <th>25671</th>\n",
       "      <td>IF ANYONE IS INTERESTED IN OBTAINING A COPY OF...</td>\n",
       "      <td>1481</td>\n",
       "      <td>0.000000</td>\n",
       "      <td>positive</td>\n",
       "      <td>IF ANYONE IS INTERESTED IN OBTAINING A COPY OF...</td>\n",
       "      <td>True</td>\n",
       "    </tr>\n",
       "    <tr>\n",
       "      <th>25833</th>\n",
       "      <td>I am not one of those people who just go onlin...</td>\n",
       "      <td>1517</td>\n",
       "      <td>0.000000</td>\n",
       "      <td>negative</td>\n",
       "      <td>I am not one of those people who just go onlin...</td>\n",
       "      <td>True</td>\n",
       "    </tr>\n",
       "    <tr>\n",
       "      <th>25880</th>\n",
       "      <td>I have Never forgot this movie. All these year...</td>\n",
       "      <td>1390</td>\n",
       "      <td>0.000000</td>\n",
       "      <td>positive</td>\n",
       "      <td>I have Never forgot this movie. All these year...</td>\n",
       "      <td>True</td>\n",
       "    </tr>\n",
       "    <tr>\n",
       "      <th>26155</th>\n",
       "      <td>Two days ago I got a chance to watch this movi...</td>\n",
       "      <td>1167</td>\n",
       "      <td>0.000000</td>\n",
       "      <td>negative</td>\n",
       "      <td>Two days ago I got a chance to watch this movi...</td>\n",
       "      <td>True</td>\n",
       "    </tr>\n",
       "    <tr>\n",
       "      <th>26725</th>\n",
       "      <td>After seeing Jeremy Brett as Sherlock Holmes, ...</td>\n",
       "      <td>798</td>\n",
       "      <td>0.000000</td>\n",
       "      <td>positive</td>\n",
       "      <td>After seeing Jeremy Brett as Sherlock Holmes, ...</td>\n",
       "      <td>True</td>\n",
       "    </tr>\n",
       "    <tr>\n",
       "      <th>26880</th>\n",
       "      <td>does anybody know why this movie is called the...</td>\n",
       "      <td>882</td>\n",
       "      <td>0.000000</td>\n",
       "      <td>positive</td>\n",
       "      <td>does anybody know why this movie is called the...</td>\n",
       "      <td>True</td>\n",
       "    </tr>\n",
       "    <tr>\n",
       "      <th>28373</th>\n",
       "      <td>Every once in a while you stumble across a mov...</td>\n",
       "      <td>3209</td>\n",
       "      <td>0.000000</td>\n",
       "      <td>positive</td>\n",
       "      <td>Every once in a while you stumble across a mov...</td>\n",
       "      <td>True</td>\n",
       "    </tr>\n",
       "    <tr>\n",
       "      <th>29355</th>\n",
       "      <td>Robert Jordan is a television star. Robert Jor...</td>\n",
       "      <td>592</td>\n",
       "      <td>0.000000</td>\n",
       "      <td>positive</td>\n",
       "      <td>Robert Jordan is a television star. Robert Jor...</td>\n",
       "      <td>True</td>\n",
       "    </tr>\n",
       "    <tr>\n",
       "      <th>29880</th>\n",
       "      <td>GRANNY IS THE BEST MOVIE EVER Ganny is the bes...</td>\n",
       "      <td>725</td>\n",
       "      <td>0.000000</td>\n",
       "      <td>positive</td>\n",
       "      <td>GRANNY IS THE BEST MOVIE EVER Ganny is the bes...</td>\n",
       "      <td>True</td>\n",
       "    </tr>\n",
       "    <tr>\n",
       "      <th>33151</th>\n",
       "      <td>I saw this movie once as a kid on the late-lat...</td>\n",
       "      <td>576</td>\n",
       "      <td>0.000000</td>\n",
       "      <td>positive</td>\n",
       "      <td>I saw this movie once as a kid on the late-lat...</td>\n",
       "      <td>True</td>\n",
       "    </tr>\n",
       "    <tr>\n",
       "      <th>34518</th>\n",
       "      <td>I desperately need this on a tape, not a DVD, ...</td>\n",
       "      <td>2826</td>\n",
       "      <td>0.000000</td>\n",
       "      <td>positive</td>\n",
       "      <td>I desperately need this on a tape, not a DVD, ...</td>\n",
       "      <td>True</td>\n",
       "    </tr>\n",
       "    <tr>\n",
       "      <th>35989</th>\n",
       "      <td>I know this sounds odd coming from someone bor...</td>\n",
       "      <td>673</td>\n",
       "      <td>0.000000</td>\n",
       "      <td>positive</td>\n",
       "      <td>I know this sounds odd coming from someone bor...</td>\n",
       "      <td>True</td>\n",
       "    </tr>\n",
       "    <tr>\n",
       "      <th>37153</th>\n",
       "      <td>I have never seen one of these SciFi originals...</td>\n",
       "      <td>5538</td>\n",
       "      <td>0.000000</td>\n",
       "      <td>negative</td>\n",
       "      <td>I have never seen one of these SciFi originals...</td>\n",
       "      <td>True</td>\n",
       "    </tr>\n",
       "    <tr>\n",
       "      <th>37363</th>\n",
       "      <td>This movie was great and I would like to buy i...</td>\n",
       "      <td>1001</td>\n",
       "      <td>0.000000</td>\n",
       "      <td>positive</td>\n",
       "      <td>This movie was great and I would like to buy i...</td>\n",
       "      <td>True</td>\n",
       "    </tr>\n",
       "    <tr>\n",
       "      <th>38645</th>\n",
       "      <td>I have been looking for this mini-series for a...</td>\n",
       "      <td>704</td>\n",
       "      <td>0.000000</td>\n",
       "      <td>positive</td>\n",
       "      <td>I have been looking for this mini-series for a...</td>\n",
       "      <td>True</td>\n",
       "    </tr>\n",
       "    <tr>\n",
       "      <th>38752</th>\n",
       "      <td>i remember watching an elizabeth montgomery mo...</td>\n",
       "      <td>794</td>\n",
       "      <td>0.000000</td>\n",
       "      <td>positive</td>\n",
       "      <td>i remember watching an elizabeth montgomery mo...</td>\n",
       "      <td>True</td>\n",
       "    </tr>\n",
       "    <tr>\n",
       "      <th>39231</th>\n",
       "      <td>i love this movie. is it on air anymore? what ...</td>\n",
       "      <td>851</td>\n",
       "      <td>0.000000</td>\n",
       "      <td>positive</td>\n",
       "      <td>i love this movie. is it on air anymore? what ...</td>\n",
       "      <td>True</td>\n",
       "    </tr>\n",
       "    <tr>\n",
       "      <th>39625</th>\n",
       "      <td>I remember seeing this film years ago on, I th...</td>\n",
       "      <td>655</td>\n",
       "      <td>0.000000</td>\n",
       "      <td>positive</td>\n",
       "      <td>I remember seeing this film years ago on, I th...</td>\n",
       "      <td>True</td>\n",
       "    </tr>\n",
       "    <tr>\n",
       "      <th>42351</th>\n",
       "      <td>In this grim melodrama, Barbara Stanwyck plays...</td>\n",
       "      <td>776</td>\n",
       "      <td>0.000000</td>\n",
       "      <td>positive</td>\n",
       "      <td>In this grim melodrama, Barbara Stanwyck plays...</td>\n",
       "      <td>True</td>\n",
       "    </tr>\n",
       "    <tr>\n",
       "      <th>43577</th>\n",
       "      <td>yes i have a copy of it on VHS uncut in great ...</td>\n",
       "      <td>637</td>\n",
       "      <td>0.000000</td>\n",
       "      <td>positive</td>\n",
       "      <td>yes i have a copy of it on VHS uncut in great ...</td>\n",
       "      <td>True</td>\n",
       "    </tr>\n",
       "    <tr>\n",
       "      <th>43734</th>\n",
       "      <td>A major moneymaker for RKO Radio, Bombardier s...</td>\n",
       "      <td>1096</td>\n",
       "      <td>0.000000</td>\n",
       "      <td>positive</td>\n",
       "      <td>A major moneymaker for RKO Radio, Bombardier s...</td>\n",
       "      <td>True</td>\n",
       "    </tr>\n",
       "    <tr>\n",
       "      <th>44408</th>\n",
       "      <td>i just wanted to say i liked this movie a lot,...</td>\n",
       "      <td>967</td>\n",
       "      <td>0.000000</td>\n",
       "      <td>positive</td>\n",
       "      <td>i just wanted to say i liked this movie a lot,...</td>\n",
       "      <td>True</td>\n",
       "    </tr>\n",
       "    <tr>\n",
       "      <th>45292</th>\n",
       "      <td>I've been looking for the name of this film fo...</td>\n",
       "      <td>821</td>\n",
       "      <td>0.000000</td>\n",
       "      <td>positive</td>\n",
       "      <td>I've been looking for the name of this film fo...</td>\n",
       "      <td>True</td>\n",
       "    </tr>\n",
       "    <tr>\n",
       "      <th>46357</th>\n",
       "      <td>This is the best movie I have ever seen. I've ...</td>\n",
       "      <td>725</td>\n",
       "      <td>0.000000</td>\n",
       "      <td>positive</td>\n",
       "      <td>This is the best movie I have ever seen. I've ...</td>\n",
       "      <td>True</td>\n",
       "    </tr>\n",
       "    <tr>\n",
       "      <th>48556</th>\n",
       "      <td>I agree with most if not all of the previous c...</td>\n",
       "      <td>986</td>\n",
       "      <td>0.000000</td>\n",
       "      <td>negative</td>\n",
       "      <td>I agree with most if not all of the previous c...</td>\n",
       "      <td>True</td>\n",
       "    </tr>\n",
       "  </tbody>\n",
       "</table>\n",
       "</div>"
      ],
      "text/plain": [
       "                                                  review  review_length  \\\n",
       "1281   I like many others saw this as a child and I l...            987   \n",
       "3568   I have noticed that people have asked if anyon...            753   \n",
       "5068   Brilliant adaptation of the largely interior m...            934   \n",
       "8176   I could never remember the name of this show. ...            737   \n",
       "8474   I'm like the rest of the fans who love this co...            761   \n",
       "9510   I cant believe how many excellent actors can b...            680   \n",
       "9978   I really can't say too much more about the plo...            803   \n",
       "12166  Robert Jordan is a television star. Robert Jor...            592   \n",
       "13471  This movie was everything but boring. It deals...            784   \n",
       "13741  I LOVE this movie. and Disney channel is ridic...            795   \n",
       "13812  Well, EYEboy, I must say that it pleases me to...            975   \n",
       "14570  I posted on IMDb on this series recently, givi...           2418   \n",
       "15094  Has anyone been able to buy this movie? My Unc...            641   \n",
       "16536  John Water's (\"Pink Flamingos\"...) \"Pecker\" is...            763   \n",
       "16961  I was lucky enough to get a DVD copy of this m...           1120   \n",
       "17332  Hello, I was wondering if anyone has a copy of...            942   \n",
       "17801  Robert Jordan is a television star. Robert Jor...            592   \n",
       "18889  I watched this episode a lot of times because ...           2888   \n",
       "19219  I LOVED this program, and for years searched f...            647   \n",
       "21828  Ever sense i was a kid i have loved this movie...            955   \n",
       "22330  wow is all i could say i really loved the movi...            811   \n",
       "22415  In Lizzie Borden's \"Love Crimes\" (1992), Sean ...           1422   \n",
       "22734  As you can see I've submitted 2 comments about...            530   \n",
       "25671  IF ANYONE IS INTERESTED IN OBTAINING A COPY OF...           1481   \n",
       "25833  I am not one of those people who just go onlin...           1517   \n",
       "25880  I have Never forgot this movie. All these year...           1390   \n",
       "26155  Two days ago I got a chance to watch this movi...           1167   \n",
       "26725  After seeing Jeremy Brett as Sherlock Holmes, ...            798   \n",
       "26880  does anybody know why this movie is called the...            882   \n",
       "28373  Every once in a while you stumble across a mov...           3209   \n",
       "29355  Robert Jordan is a television star. Robert Jor...            592   \n",
       "29880  GRANNY IS THE BEST MOVIE EVER Ganny is the bes...            725   \n",
       "33151  I saw this movie once as a kid on the late-lat...            576   \n",
       "34518  I desperately need this on a tape, not a DVD, ...           2826   \n",
       "35989  I know this sounds odd coming from someone bor...            673   \n",
       "37153  I have never seen one of these SciFi originals...           5538   \n",
       "37363  This movie was great and I would like to buy i...           1001   \n",
       "38645  I have been looking for this mini-series for a...            704   \n",
       "38752  i remember watching an elizabeth montgomery mo...            794   \n",
       "39231  i love this movie. is it on air anymore? what ...            851   \n",
       "39625  I remember seeing this film years ago on, I th...            655   \n",
       "42351  In this grim melodrama, Barbara Stanwyck plays...            776   \n",
       "43577  yes i have a copy of it on VHS uncut in great ...            637   \n",
       "43734  A major moneymaker for RKO Radio, Bombardier s...           1096   \n",
       "44408  i just wanted to say i liked this movie a lot,...            967   \n",
       "45292  I've been looking for the name of this film fo...            821   \n",
       "46357  This is the best movie I have ever seen. I've ...            725   \n",
       "48556  I agree with most if not all of the previous c...            986   \n",
       "\n",
       "       impurity sentiment                                        review_norm  \\\n",
       "1281   0.000000  positive  I like many others saw this as a child and I l...   \n",
       "3568   0.000000  positive  I have noticed that people have asked if anyon...   \n",
       "5068   0.000000  positive  Brilliant adaptation of the largely interior m...   \n",
       "8176   0.000000  positive  I could never remember the name of this show. ...   \n",
       "8474   0.000000  positive  I'm like the rest of the fans who love this co...   \n",
       "9510   0.000000  positive  I cant believe how many excellent actors can b...   \n",
       "9978   0.000000  positive  I really can't say too much more about the plo...   \n",
       "12166  0.000000  positive  Robert Jordan is a television star. Robert Jor...   \n",
       "13471  0.000000  positive  This movie was everything but boring. It deals...   \n",
       "13741  0.000000  positive  I LOVE this movie. and Disney channel is ridic...   \n",
       "13812  0.000000  negative  Well, EYEboy, I must say that it pleases me to...   \n",
       "14570  0.000827  positive  I posted on IMDb on this series recently, givi...   \n",
       "15094  0.000000  positive  Has anyone been able to buy this movie? My Unc...   \n",
       "16536  0.000000  positive  John Water's (\"Pink Flamingos\"...) \"Pecker\" is...   \n",
       "16961  0.000000  positive  I was lucky enough to get a DVD copy of this m...   \n",
       "17332  0.000000  positive  Hello, I was wondering if anyone has a copy of...   \n",
       "17801  0.000000  positive  Robert Jordan is a television star. Robert Jor...   \n",
       "18889  0.000000  positive  I watched this episode a lot of times because ...   \n",
       "19219  0.000000  positive  I LOVED this program, and for years searched f...   \n",
       "21828  0.000000  positive  Ever sense i was a kid i have loved this movie...   \n",
       "22330  0.000000  positive  wow is all i could say i really loved the movi...   \n",
       "22415  0.000000  positive  In Lizzie Borden's \"Love Crimes\" (1992), Sean ...   \n",
       "22734  0.000000  positive  As you can see I've submitted 2 comments about...   \n",
       "25671  0.000000  positive  IF ANYONE IS INTERESTED IN OBTAINING A COPY OF...   \n",
       "25833  0.000000  negative  I am not one of those people who just go onlin...   \n",
       "25880  0.000000  positive  I have Never forgot this movie. All these year...   \n",
       "26155  0.000000  negative  Two days ago I got a chance to watch this movi...   \n",
       "26725  0.000000  positive  After seeing Jeremy Brett as Sherlock Holmes, ...   \n",
       "26880  0.000000  positive  does anybody know why this movie is called the...   \n",
       "28373  0.000000  positive  Every once in a while you stumble across a mov...   \n",
       "29355  0.000000  positive  Robert Jordan is a television star. Robert Jor...   \n",
       "29880  0.000000  positive  GRANNY IS THE BEST MOVIE EVER Ganny is the bes...   \n",
       "33151  0.000000  positive  I saw this movie once as a kid on the late-lat...   \n",
       "34518  0.000000  positive  I desperately need this on a tape, not a DVD, ...   \n",
       "35989  0.000000  positive  I know this sounds odd coming from someone bor...   \n",
       "37153  0.000000  negative  I have never seen one of these SciFi originals...   \n",
       "37363  0.000000  positive  This movie was great and I would like to buy i...   \n",
       "38645  0.000000  positive  I have been looking for this mini-series for a...   \n",
       "38752  0.000000  positive  i remember watching an elizabeth montgomery mo...   \n",
       "39231  0.000000  positive  i love this movie. is it on air anymore? what ...   \n",
       "39625  0.000000  positive  I remember seeing this film years ago on, I th...   \n",
       "42351  0.000000  positive  In this grim melodrama, Barbara Stanwyck plays...   \n",
       "43577  0.000000  positive  yes i have a copy of it on VHS uncut in great ...   \n",
       "43734  0.000000  positive  A major moneymaker for RKO Radio, Bombardier s...   \n",
       "44408  0.000000  positive  i just wanted to say i liked this movie a lot,...   \n",
       "45292  0.000000  positive  I've been looking for the name of this film fo...   \n",
       "46357  0.000000  positive  This is the best movie I have ever seen. I've ...   \n",
       "48556  0.000000  negative  I agree with most if not all of the previous c...   \n",
       "\n",
       "       changed  \n",
       "1281      True  \n",
       "3568      True  \n",
       "5068      True  \n",
       "8176      True  \n",
       "8474      True  \n",
       "9510      True  \n",
       "9978      True  \n",
       "12166     True  \n",
       "13471     True  \n",
       "13741     True  \n",
       "13812     True  \n",
       "14570     True  \n",
       "15094     True  \n",
       "16536     True  \n",
       "16961     True  \n",
       "17332     True  \n",
       "17801     True  \n",
       "18889     True  \n",
       "19219     True  \n",
       "21828     True  \n",
       "22330     True  \n",
       "22415     True  \n",
       "22734     True  \n",
       "25671     True  \n",
       "25833     True  \n",
       "25880     True  \n",
       "26155     True  \n",
       "26725     True  \n",
       "26880     True  \n",
       "28373     True  \n",
       "29355     True  \n",
       "29880     True  \n",
       "33151     True  \n",
       "34518     True  \n",
       "35989     True  \n",
       "37153     True  \n",
       "37363     True  \n",
       "38645     True  \n",
       "38752     True  \n",
       "39231     True  \n",
       "39625     True  \n",
       "42351     True  \n",
       "43577     True  \n",
       "43734     True  \n",
       "44408     True  \n",
       "45292     True  \n",
       "46357     True  \n",
       "48556     True  "
      ]
     },
     "execution_count": 73,
     "metadata": {},
     "output_type": "execute_result"
    }
   ],
   "source": [
    "imdb_df[imdb_df[\"changed\"]]"
   ]
  },
  {
   "cell_type": "code",
   "execution_count": 74,
   "metadata": {},
   "outputs": [],
   "source": [
    "row = 1281"
   ]
  },
  {
   "cell_type": "code",
   "execution_count": 75,
   "metadata": {},
   "outputs": [
    {
     "data": {
      "text/plain": [
       "\"I like many others saw this as a child and I loved it and it horrified me up until adulthood, I have been trying to find this movie and even been searching for it to play again on TV someday, since it originally played on USA networks. Does Anyone know where to buy this movie, or does anyone have it and would be willing to make a copy for me? Also does anyone know if there is a chance for it to be played on TV again? Maybe all of us fans should write a station in hopes of them airing it again. I don't think they did a good job of promoting this movie in the past because no one really knows about, people only know of the Stepford wives and Stepford husband movies. No one is familiar with the fact that there was a children version. Maybe they should also do a re-make of it since they seem to be doing that a lot lately with a lot of my favorite old thriller/horror flicks. Well if anyone has any input Please I Beg Of You write me with information. Thanks Taira tcampo23@aol.com\""
      ]
     },
     "execution_count": 75,
     "metadata": {},
     "output_type": "execute_result"
    }
   ],
   "source": [
    "review_untouched_df[row]"
   ]
  },
  {
   "cell_type": "code",
   "execution_count": 76,
   "metadata": {},
   "outputs": [
    {
     "data": {
      "text/plain": [
       "\"I like many others saw this as a child and I loved it and it horrified me up until adulthood, I have been trying to find this movie and even been searching for it to play again on TV someday, since it originally played on USA networks. Does Anyone know where to buy this movie, or does anyone have it and would be willing to make a copy for me? Also does anyone know if there is a chance for it to be played on TV again? Maybe all of us fans should write a station in hopes of them airing it again. I don't think they did a good job of promoting this movie in the past because no one really knows about, people only know of the Stepford wives and Stepford husband movies. No one is familiar with the fact that there was a children version. Maybe they should also do a re-make of it since they seem to be doing that a lot lately with a lot of my favorite old thriller/horror flicks. Well if anyone has any input Please I Beg Of You write me with information. Thanks Taira tcampo23@aol.com\""
      ]
     },
     "execution_count": 76,
     "metadata": {},
     "output_type": "execute_result"
    }
   ],
   "source": [
    "imdb_df.iloc[row, 0]"
   ]
  },
  {
   "cell_type": "code",
   "execution_count": 77,
   "metadata": {},
   "outputs": [
    {
     "data": {
      "text/plain": [
       "\"I like many others saw this as a child and I loved it and it horrified me up until adulthood, I have been trying to find this movie and even been searching for it to play again on TV someday, since it originally played on USA networks. Does Anyone know where to buy this movie, or does anyone have it and would be willing to make a copy for me? Also does anyone know if there is a chance for it to be played on TV again? Maybe all of us fans should write a station in hopes of them airing it again. I don't think they did a good job of promoting this movie in the past because no one really knows about, people only know of the Stepford wives and Stepford husband movies. No one is familiar with the fact that there was a children version. Maybe they should also do a re-make of it since they seem to be doing that a lot lately with a lot of my favorite old thriller/horror flicks. Well if anyone has any input Please I Beg Of You write me with information. Thanks Taira _EMAIL_\""
      ]
     },
     "execution_count": 77,
     "metadata": {},
     "output_type": "execute_result"
    }
   ],
   "source": [
    "imdb_df.iloc[row, 4]"
   ]
  },
  {
   "cell_type": "code",
   "execution_count": 78,
   "metadata": {},
   "outputs": [],
   "source": [
    "imdb_df[\"review\"] = imdb_df[\"review_norm\"]"
   ]
  },
  {
   "cell_type": "markdown",
   "metadata": {},
   "source": [
    "## Creating and storing the cleaned dataset"
   ]
  },
  {
   "cell_type": "code",
   "execution_count": 79,
   "metadata": {},
   "outputs": [
    {
     "data": {
      "text/html": [
       "<div>\n",
       "<style scoped>\n",
       "    .dataframe tbody tr th:only-of-type {\n",
       "        vertical-align: middle;\n",
       "    }\n",
       "\n",
       "    .dataframe tbody tr th {\n",
       "        vertical-align: top;\n",
       "    }\n",
       "\n",
       "    .dataframe thead th {\n",
       "        text-align: right;\n",
       "    }\n",
       "</style>\n",
       "<table border=\"1\" class=\"dataframe\">\n",
       "  <thead>\n",
       "    <tr style=\"text-align: right;\">\n",
       "      <th></th>\n",
       "      <th>review</th>\n",
       "      <th>review_length</th>\n",
       "      <th>impurity</th>\n",
       "      <th>sentiment</th>\n",
       "    </tr>\n",
       "  </thead>\n",
       "  <tbody>\n",
       "    <tr>\n",
       "      <th>0</th>\n",
       "      <td>One of the other reviewers has mentioned that ...</td>\n",
       "      <td>1728</td>\n",
       "      <td>0.0</td>\n",
       "      <td>positive</td>\n",
       "    </tr>\n",
       "    <tr>\n",
       "      <th>1</th>\n",
       "      <td>A wonderful little production. The filming tec...</td>\n",
       "      <td>960</td>\n",
       "      <td>0.0</td>\n",
       "      <td>positive</td>\n",
       "    </tr>\n",
       "    <tr>\n",
       "      <th>2</th>\n",
       "      <td>I thought this was a wonderful way to spend ti...</td>\n",
       "      <td>904</td>\n",
       "      <td>0.0</td>\n",
       "      <td>positive</td>\n",
       "    </tr>\n",
       "    <tr>\n",
       "      <th>3</th>\n",
       "      <td>Basically there's a family where a little boy ...</td>\n",
       "      <td>709</td>\n",
       "      <td>0.0</td>\n",
       "      <td>negative</td>\n",
       "    </tr>\n",
       "    <tr>\n",
       "      <th>4</th>\n",
       "      <td>Petter Mattei's \"Love in the Time of Money\" is...</td>\n",
       "      <td>1272</td>\n",
       "      <td>0.0</td>\n",
       "      <td>positive</td>\n",
       "    </tr>\n",
       "  </tbody>\n",
       "</table>\n",
       "</div>"
      ],
      "text/plain": [
       "                                              review  review_length  impurity  \\\n",
       "0  One of the other reviewers has mentioned that ...           1728       0.0   \n",
       "1  A wonderful little production. The filming tec...            960       0.0   \n",
       "2  I thought this was a wonderful way to spend ti...            904       0.0   \n",
       "3  Basically there's a family where a little boy ...            709       0.0   \n",
       "4  Petter Mattei's \"Love in the Time of Money\" is...           1272       0.0   \n",
       "\n",
       "  sentiment  \n",
       "0  positive  \n",
       "1  positive  \n",
       "2  positive  \n",
       "3  negative  \n",
       "4  positive  "
      ]
     },
     "execution_count": 79,
     "metadata": {},
     "output_type": "execute_result"
    }
   ],
   "source": [
    "imdb_df = imdb_df.drop([\"impurity\", \"review_length\", \"review_norm\", \"changed\"], axis=1)\n",
    "review_df = imdb_df[\"review\"]\n",
    "sentiment_df = imdb_df[\"sentiment\"]\n",
    "imdb_df.insert(1, column=\"review_length\", value=[len(text) for text in review_df])\n",
    "imdb_df.insert(2, column=\"impurity\", value=[impurity_ratio(text, RE_impure) for text in review_df])\n",
    "imdb_df.head()"
   ]
  },
  {
   "cell_type": "code",
   "execution_count": 80,
   "metadata": {},
   "outputs": [
    {
     "data": {
      "text/html": [
       "<div>\n",
       "<style scoped>\n",
       "    .dataframe tbody tr th:only-of-type {\n",
       "        vertical-align: middle;\n",
       "    }\n",
       "\n",
       "    .dataframe tbody tr th {\n",
       "        vertical-align: top;\n",
       "    }\n",
       "\n",
       "    .dataframe thead th {\n",
       "        text-align: right;\n",
       "    }\n",
       "</style>\n",
       "<table border=\"1\" class=\"dataframe\">\n",
       "  <thead>\n",
       "    <tr style=\"text-align: right;\">\n",
       "      <th></th>\n",
       "      <th>review_length</th>\n",
       "      <th>impurity</th>\n",
       "    </tr>\n",
       "  </thead>\n",
       "  <tbody>\n",
       "    <tr>\n",
       "      <th>count</th>\n",
       "      <td>50000.000000</td>\n",
       "      <td>50000.000000</td>\n",
       "    </tr>\n",
       "    <tr>\n",
       "      <th>mean</th>\n",
       "      <td>1285.222000</td>\n",
       "      <td>0.000019</td>\n",
       "    </tr>\n",
       "    <tr>\n",
       "      <th>std</th>\n",
       "      <td>970.969291</td>\n",
       "      <td>0.000210</td>\n",
       "    </tr>\n",
       "    <tr>\n",
       "      <th>min</th>\n",
       "      <td>32.000000</td>\n",
       "      <td>0.000000</td>\n",
       "    </tr>\n",
       "    <tr>\n",
       "      <th>25%</th>\n",
       "      <td>689.000000</td>\n",
       "      <td>0.000000</td>\n",
       "    </tr>\n",
       "    <tr>\n",
       "      <th>50%</th>\n",
       "      <td>954.000000</td>\n",
       "      <td>0.000000</td>\n",
       "    </tr>\n",
       "    <tr>\n",
       "      <th>75%</th>\n",
       "      <td>1559.000000</td>\n",
       "      <td>0.000000</td>\n",
       "    </tr>\n",
       "    <tr>\n",
       "      <th>max</th>\n",
       "      <td>13592.000000</td>\n",
       "      <td>0.012844</td>\n",
       "    </tr>\n",
       "  </tbody>\n",
       "</table>\n",
       "</div>"
      ],
      "text/plain": [
       "       review_length      impurity\n",
       "count   50000.000000  50000.000000\n",
       "mean     1285.222000      0.000019\n",
       "std       970.969291      0.000210\n",
       "min        32.000000      0.000000\n",
       "25%       689.000000      0.000000\n",
       "50%       954.000000      0.000000\n",
       "75%      1559.000000      0.000000\n",
       "max     13592.000000      0.012844"
      ]
     },
     "execution_count": 80,
     "metadata": {},
     "output_type": "execute_result"
    }
   ],
   "source": [
    "imdb_df.describe()"
   ]
  },
  {
   "cell_type": "markdown",
   "metadata": {},
   "source": []
  }
 ],
 "metadata": {
  "interpreter": {
   "hash": "a28a6d9a2829a9f267e3512076f8ab1f78a273c3c6b252dca92df60bfdeeeb6d"
  },
  "kernelspec": {
   "display_name": "Python 3.9.0 64-bit ('DA_ENV': conda)",
   "language": "python",
   "name": "python3"
  },
  "language_info": {
   "codemirror_mode": {
    "name": "ipython",
    "version": 3
   },
   "file_extension": ".py",
   "mimetype": "text/x-python",
   "name": "python",
   "nbconvert_exporter": "python",
   "pygments_lexer": "ipython3",
   "version": "3.9.0"
  },
  "orig_nbformat": 4
 },
 "nbformat": 4,
 "nbformat_minor": 2
}
