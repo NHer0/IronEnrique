{
 "cells": [
  {
   "cell_type": "markdown",
   "metadata": {},
   "source": [
    "# Importing Required Modules"
   ]
  },
  {
   "cell_type": "markdown",
   "metadata": {},
   "source": [
    "## General Libraries"
   ]
  },
  {
   "cell_type": "code",
   "execution_count": 1,
   "metadata": {},
   "outputs": [],
   "source": [
    "import pandas as pd\n",
    "import numpy as np\n",
    "import matplotlib.pyplot as plt\n",
    "import seaborn as sns\n",
    "from tqdm import tqdm\n"
   ]
  },
  {
   "cell_type": "markdown",
   "metadata": {},
   "source": [
    "## Modelling"
   ]
  },
  {
   "cell_type": "code",
   "execution_count": 2,
   "metadata": {},
   "outputs": [],
   "source": [
    "from sklearn.model_selection import train_test_split\n",
    "from sklearn.feature_extraction.text import CountVectorizer\n",
    "from sklearn.feature_extraction.text import TfidfVectorizer\n",
    "from sklearn.preprocessing import LabelBinarizer\n",
    "from sklearn.linear_model import LogisticRegression\n",
    "from sklearn.ensemble import RandomForestClassifier\n",
    "from sklearn.naive_bayes import MultinomialNB\n",
    "from sklearn.svm import LinearSVC\n",
    "from sklearn.pipeline import make_pipeline\n",
    "from sklearn.metrics import accuracy_score, precision_score, recall_score, confusion_matrix, classification_report\n",
    "from sklearn.model_selection import cross_val_score"
   ]
  },
  {
   "cell_type": "markdown",
   "metadata": {},
   "source": [
    "## My modules"
   ]
  },
  {
   "cell_type": "code",
   "execution_count": 3,
   "metadata": {},
   "outputs": [],
   "source": [
    "from my_modules.Predict import classification"
   ]
  },
  {
   "cell_type": "markdown",
   "metadata": {},
   "source": [
    "# Functions"
   ]
  },
  {
   "cell_type": "code",
   "execution_count": 4,
   "metadata": {},
   "outputs": [],
   "source": [
    "def text_classification(x, y, vect_model, pred_model, test_size=0.2, random_state=0, cv=10, pipeline_flag=False):\n",
    "\n",
    "    # Train/Test Split\n",
    "    x_train, x_test, y_train, y_test = train_test_split(x, y, test_size=test_size, random_state=random_state, stratify=y)\n",
    "\n",
    "    if not pipeline_flag:\n",
    "\n",
    "        # Vectorization\n",
    "        vect_model.fit(x_train)\n",
    "        x_vect_train = vect_model.transform(x_train)\n",
    "        x_vect_test = vect_model.transform(x_test)\n",
    "\n",
    "        # Prediction\n",
    "        output = classification(x_vect_train, y_train, x_vect_test, y_test, pred_model, cv=cv)\n",
    "\n",
    "    if pipeline_flag:\n",
    "\n",
    "        # Create pipeline - Vectorization-Prediction\n",
    "        pipeline = make_pipeline(vect_model, pred_model)\n",
    "\n",
    "        # Run pipeline\n",
    "        output = classification(x_train, y_train, x_test, y_test, pipeline, cv=cv)\n",
    "\n",
    "\n",
    "    return output\n",
    "\n",
    "    "
   ]
  },
  {
   "cell_type": "markdown",
   "metadata": {},
   "source": [
    "# Loading the data"
   ]
  },
  {
   "cell_type": "code",
   "execution_count": 5,
   "metadata": {},
   "outputs": [],
   "source": [
    "path = \"Data/csv/fin_lab_large_processed.csv\"\n",
    "df = pd.read_csv(path)"
   ]
  },
  {
   "cell_type": "markdown",
   "metadata": {},
   "source": [
    "# From Words to Numbers"
   ]
  },
  {
   "cell_type": "code",
   "execution_count": 6,
   "metadata": {},
   "outputs": [],
   "source": [
    "y = df[\"sentiment\"]\n",
    "x = df[\"lemmas\"]\n",
    "\n",
    "lb = LabelBinarizer()\n",
    "y = np.ravel(lb.fit_transform(y))\n"
   ]
  },
  {
   "cell_type": "code",
   "execution_count": 7,
   "metadata": {},
   "outputs": [
    {
     "data": {
      "text/html": [
       "<div>\n",
       "<style scoped>\n",
       "    .dataframe tbody tr th:only-of-type {\n",
       "        vertical-align: middle;\n",
       "    }\n",
       "\n",
       "    .dataframe tbody tr th {\n",
       "        vertical-align: top;\n",
       "    }\n",
       "\n",
       "    .dataframe thead th {\n",
       "        text-align: right;\n",
       "    }\n",
       "</style>\n",
       "<table border=\"1\" class=\"dataframe\">\n",
       "  <thead>\n",
       "    <tr style=\"text-align: right;\">\n",
       "      <th></th>\n",
       "      <th>text</th>\n",
       "      <th>lemmas</th>\n",
       "      <th>ngrams</th>\n",
       "      <th>named_ents</th>\n",
       "      <th>sentiment</th>\n",
       "    </tr>\n",
       "  </thead>\n",
       "  <tbody>\n",
       "    <tr>\n",
       "      <th>0</th>\n",
       "      <td>Operating cash flow after investments totalled...</td>\n",
       "      <td>['operate', 'cash', 'flow', 'investment', 'tot...</td>\n",
       "      <td>['operate_cash', 'operate_cash_flow', 'corresp...</td>\n",
       "      <td>[]</td>\n",
       "      <td>negative</td>\n",
       "    </tr>\n",
       "    <tr>\n",
       "      <th>1</th>\n",
       "      <td>TietoEnator was down 1.13 pct to 18.38 , exten...</td>\n",
       "      <td>['pct', 'extend', 'recent', 'low', 'week', 'se...</td>\n",
       "      <td>['recent_low', 'last_week']</td>\n",
       "      <td>[]</td>\n",
       "      <td>negative</td>\n",
       "    </tr>\n",
       "    <tr>\n",
       "      <th>2</th>\n",
       "      <td>In Finland 's Hobby Hall 's sales decreased by...</td>\n",
       "      <td>['sale', 'decrease', 'international', 'sale', ...</td>\n",
       "      <td>['international_sale']</td>\n",
       "      <td>['Finland/GPE']</td>\n",
       "      <td>negative</td>\n",
       "    </tr>\n",
       "    <tr>\n",
       "      <th>3</th>\n",
       "      <td>Svyturys-Utenos Alus , which is controlled by ...</td>\n",
       "      <td>['control', 'nordic', 'group', 'post', 'cent',...</td>\n",
       "      <td>['nordic_group']</td>\n",
       "      <td>[]</td>\n",
       "      <td>positive</td>\n",
       "    </tr>\n",
       "    <tr>\n",
       "      <th>4</th>\n",
       "      <td>'' Lining stone sales were also good in the ea...</td>\n",
       "      <td>['lining', 'stone', 'sale', 'good', 'early', '...</td>\n",
       "      <td>['early_autumn']</td>\n",
       "      <td>[]</td>\n",
       "      <td>positive</td>\n",
       "    </tr>\n",
       "    <tr>\n",
       "      <th>...</th>\n",
       "      <td>...</td>\n",
       "      <td>...</td>\n",
       "      <td>...</td>\n",
       "      <td>...</td>\n",
       "      <td>...</td>\n",
       "    </tr>\n",
       "    <tr>\n",
       "      <th>1940</th>\n",
       "      <td>The chain posted sales of 298 million euros fo...</td>\n",
       "      <td>['chain', 'post', 'sale', 'euro', 'rise', 'per...</td>\n",
       "      <td>['post_sale']</td>\n",
       "      <td>[]</td>\n",
       "      <td>positive</td>\n",
       "    </tr>\n",
       "    <tr>\n",
       "      <th>1941</th>\n",
       "      <td>Satama earned Data Management Solutions compet...</td>\n",
       "      <td>['earn', 'competency', 'specialization', 'rece...</td>\n",
       "      <td>[]</td>\n",
       "      <td>[]</td>\n",
       "      <td>positive</td>\n",
       "    </tr>\n",
       "    <tr>\n",
       "      <th>1942</th>\n",
       "      <td>Rinkuskiai raised the sales by 18.1 percent , ...</td>\n",
       "      <td>['raise', 'sale', 'percent', 'liter', 'sale', ...</td>\n",
       "      <td>[]</td>\n",
       "      <td>['Rinkuskiai/PERSON', 'Kauno_Alus/PERSON']</td>\n",
       "      <td>positive</td>\n",
       "    </tr>\n",
       "    <tr>\n",
       "      <th>1943</th>\n",
       "      <td>Earnings per share ( EPS ) in the first half o...</td>\n",
       "      <td>['earning', 'share', 'half', 'amount', 'year',...</td>\n",
       "      <td>['first_half']</td>\n",
       "      <td>[]</td>\n",
       "      <td>negative</td>\n",
       "    </tr>\n",
       "    <tr>\n",
       "      <th>1944</th>\n",
       "      <td>Finnish technology group Aspocomp Group Oyj ( ...</td>\n",
       "      <td>['finnish', 'technology', 'group', 'issue', 'q...</td>\n",
       "      <td>['finnish_technology', 'finnish_technology_gro...</td>\n",
       "      <td>[]</td>\n",
       "      <td>positive</td>\n",
       "    </tr>\n",
       "  </tbody>\n",
       "</table>\n",
       "<p>1945 rows × 5 columns</p>\n",
       "</div>"
      ],
      "text/plain": [
       "                                                   text  \\\n",
       "0     Operating cash flow after investments totalled...   \n",
       "1     TietoEnator was down 1.13 pct to 18.38 , exten...   \n",
       "2     In Finland 's Hobby Hall 's sales decreased by...   \n",
       "3     Svyturys-Utenos Alus , which is controlled by ...   \n",
       "4     '' Lining stone sales were also good in the ea...   \n",
       "...                                                 ...   \n",
       "1940  The chain posted sales of 298 million euros fo...   \n",
       "1941  Satama earned Data Management Solutions compet...   \n",
       "1942  Rinkuskiai raised the sales by 18.1 percent , ...   \n",
       "1943  Earnings per share ( EPS ) in the first half o...   \n",
       "1944  Finnish technology group Aspocomp Group Oyj ( ...   \n",
       "\n",
       "                                                 lemmas  \\\n",
       "0     ['operate', 'cash', 'flow', 'investment', 'tot...   \n",
       "1     ['pct', 'extend', 'recent', 'low', 'week', 'se...   \n",
       "2     ['sale', 'decrease', 'international', 'sale', ...   \n",
       "3     ['control', 'nordic', 'group', 'post', 'cent',...   \n",
       "4     ['lining', 'stone', 'sale', 'good', 'early', '...   \n",
       "...                                                 ...   \n",
       "1940  ['chain', 'post', 'sale', 'euro', 'rise', 'per...   \n",
       "1941  ['earn', 'competency', 'specialization', 'rece...   \n",
       "1942  ['raise', 'sale', 'percent', 'liter', 'sale', ...   \n",
       "1943  ['earning', 'share', 'half', 'amount', 'year',...   \n",
       "1944  ['finnish', 'technology', 'group', 'issue', 'q...   \n",
       "\n",
       "                                                 ngrams  \\\n",
       "0     ['operate_cash', 'operate_cash_flow', 'corresp...   \n",
       "1                           ['recent_low', 'last_week']   \n",
       "2                                ['international_sale']   \n",
       "3                                      ['nordic_group']   \n",
       "4                                      ['early_autumn']   \n",
       "...                                                 ...   \n",
       "1940                                      ['post_sale']   \n",
       "1941                                                 []   \n",
       "1942                                                 []   \n",
       "1943                                     ['first_half']   \n",
       "1944  ['finnish_technology', 'finnish_technology_gro...   \n",
       "\n",
       "                                      named_ents sentiment  \n",
       "0                                             []  negative  \n",
       "1                                             []  negative  \n",
       "2                                ['Finland/GPE']  negative  \n",
       "3                                             []  positive  \n",
       "4                                             []  positive  \n",
       "...                                          ...       ...  \n",
       "1940                                          []  positive  \n",
       "1941                                          []  positive  \n",
       "1942  ['Rinkuskiai/PERSON', 'Kauno_Alus/PERSON']  positive  \n",
       "1943                                          []  negative  \n",
       "1944                                          []  positive  \n",
       "\n",
       "[1945 rows x 5 columns]"
      ]
     },
     "execution_count": 7,
     "metadata": {},
     "output_type": "execute_result"
    }
   ],
   "source": [
    "df"
   ]
  },
  {
   "cell_type": "code",
   "execution_count": 8,
   "metadata": {},
   "outputs": [
    {
     "name": "stdout",
     "output_type": "stream",
     "text": [
      "[0 0 0 ... 1 0 1]\n"
     ]
    }
   ],
   "source": [
    "print(y)"
   ]
  },
  {
   "cell_type": "markdown",
   "metadata": {},
   "source": [
    "## Train/test Split"
   ]
  },
  {
   "cell_type": "code",
   "execution_count": 9,
   "metadata": {},
   "outputs": [],
   "source": [
    "x_train, x_test, y_train, y_test = train_test_split(x, y, test_size=0.2, random_state=0, stratify=y)"
   ]
  },
  {
   "cell_type": "code",
   "execution_count": 10,
   "metadata": {},
   "outputs": [
    {
     "data": {
      "text/plain": [
       "975     ['operate', 'profit', 'exclude', 'restructure'...\n",
       "966                   ['operating', 'profit', 'increase']\n",
       "1454    ['hack', 'extra', 'nefarious', 'tweet', 'activ...\n",
       "1372               ['earning', 'share', 'amount', 'loss']\n",
       "1174    ['say', 'expect', 'net', 'sale', 'compare', 'r...\n",
       "                              ...                        \n",
       "1563    ['accord', 'finnish', 'petrol', 'station', 'ch...\n",
       "1922    ['mobile', 'phone', 'sale', 'rise', 'euro', 'e...\n",
       "806     ['representative', 'sign', 'framework', 'agree...\n",
       "1536                        ['net', 'interest', 'income']\n",
       "853     ['addition', 'start', 'produce', 'new', 'membe...\n",
       "Name: lemmas, Length: 1556, dtype: object"
      ]
     },
     "execution_count": 10,
     "metadata": {},
     "output_type": "execute_result"
    }
   ],
   "source": [
    "x_train"
   ]
  },
  {
   "cell_type": "code",
   "execution_count": 11,
   "metadata": {},
   "outputs": [
    {
     "data": {
      "text/plain": [
       "717     ['quarter', 'underlie', 'operating', 'profit',...\n",
       "891     ['strike', 'estimate', 'incur', 'net', 'loss',...\n",
       "1099    ['commission', 'income', 'increase', 'lending'...\n",
       "1516         ['finnish', 'expand', 'business', 'quickly']\n",
       "746     ['software', 'develop', 'accord', 'long', 'ter...\n",
       "                              ...                        \n",
       "1581    ['factory', 'locate', 'suburb', 'west', 'fully...\n",
       "1866                                 ['great', 'product']\n",
       "173     ['group', 'month', 'operating', 'profit', 'gro...\n",
       "269     ['amending', 'proposal', 'simplify', 'propose'...\n",
       "189     ['container', 'shipping', 'group', 'finnish', ...\n",
       "Name: lemmas, Length: 389, dtype: object"
      ]
     },
     "execution_count": 11,
     "metadata": {},
     "output_type": "execute_result"
    }
   ],
   "source": [
    "x_test"
   ]
  },
  {
   "cell_type": "code",
   "execution_count": 12,
   "metadata": {},
   "outputs": [
    {
     "data": {
      "text/plain": [
       "1    1077\n",
       "0     479\n",
       "Name: 0, dtype: int64"
      ]
     },
     "execution_count": 12,
     "metadata": {},
     "output_type": "execute_result"
    }
   ],
   "source": [
    "pd.DataFrame(y_train)[0].value_counts()"
   ]
  },
  {
   "cell_type": "code",
   "execution_count": 13,
   "metadata": {},
   "outputs": [
    {
     "data": {
      "text/plain": [
       "1    269\n",
       "0    120\n",
       "Name: 0, dtype: int64"
      ]
     },
     "execution_count": 13,
     "metadata": {},
     "output_type": "execute_result"
    }
   ],
   "source": [
    "pd.DataFrame(y_test)[0].value_counts()"
   ]
  },
  {
   "cell_type": "markdown",
   "metadata": {},
   "source": [
    "## Vectorization - Bag of Words"
   ]
  },
  {
   "cell_type": "code",
   "execution_count": 14,
   "metadata": {},
   "outputs": [],
   "source": [
    "cv = CountVectorizer()"
   ]
  },
  {
   "cell_type": "code",
   "execution_count": 15,
   "metadata": {},
   "outputs": [
    {
     "name": "stdout",
     "output_type": "stream",
     "text": [
      "x_bow_train: (1556, 2277)\n",
      "x_bow_test: (389, 2277)\n"
     ]
    }
   ],
   "source": [
    "cv.fit(x_train)\n",
    "\n",
    "x_bow_train = cv.transform(x_train)\n",
    "x_bow_test = cv.transform(x_test)\n",
    "\n",
    "print(f'x_bow_train: {x_bow_train.shape}')\n",
    "print(f'x_bow_test: {x_bow_test.shape}')"
   ]
  },
  {
   "cell_type": "code",
   "execution_count": 16,
   "metadata": {},
   "outputs": [
    {
     "name": "stderr",
     "output_type": "stream",
     "text": [
      "C:\\Users\\ehern\\miniconda3\\lib\\site-packages\\sklearn\\utils\\deprecation.py:87: FutureWarning: Function get_feature_names is deprecated; get_feature_names is deprecated in 1.0 and will be removed in 1.2. Please use get_feature_names_out instead.\n",
      "  warnings.warn(msg, category=FutureWarning)\n"
     ]
    }
   ],
   "source": [
    "x_bow_train_df = pd.DataFrame(x_bow_test.toarray(), columns=cv.get_feature_names())"
   ]
  },
  {
   "cell_type": "markdown",
   "metadata": {},
   "source": [
    "### Top 100 more frequent lemmas in the IMDb train corpus"
   ]
  },
  {
   "cell_type": "code",
   "execution_count": 17,
   "metadata": {},
   "outputs": [],
   "source": [
    "list_tuples = []\n",
    "\n",
    "for column in x_bow_train_df.columns:\n",
    "\n",
    "    list_tuples.append((column, x_bow_train_df[column].sum()))"
   ]
  },
  {
   "cell_type": "code",
   "execution_count": 18,
   "metadata": {},
   "outputs": [
    {
     "name": "stdout",
     "output_type": "stream",
     "text": [
      "[('profit', 68), ('say', 67), ('year', 67), ('company', 66), ('sale', 64), ('net', 58), ('period', 52), ('mln', 47), ('increase', 42), ('loss', 40), ('finnish', 38), ('quarter', 37), ('corresponding', 27), ('compare', 25), ('operate', 23), ('rise', 23), ('service', 23), ('market', 22), ('total', 22), ('euro', 21), ('operating', 21), ('share', 20), ('expect', 19), ('today', 19), ('month', 18), ('business', 17), ('group', 17), ('operation', 17), ('eur', 16), ('result', 16), ('solution', 16), ('contract', 15), ('cost', 15), ('maker', 14), ('growth', 13), ('high', 13), ('price', 13), ('product', 13), ('technology', 13), ('continue', 12), ('decrease', 12), ('early', 12), ('percent', 12), ('accord', 11), ('agreement', 11), ('half', 11), ('improve', 11), ('paper', 11), ('sign', 11), ('base', 10), ('order', 10), ('plant', 10), ('project', 10), ('report', 10), ('second', 10), ('unit', 10), ('develop', 9), ('end', 9), ('estimate', 9), ('fall', 9), ('lay', 9), ('narrow', 9), ('new', 9), ('pretax', 9), ('acquisition', 8), ('cash', 8), ('customer', 8), ('earning', 8), ('employee', 8), ('grow', 8), ('include', 8), ('industry', 8), ('long', 8), ('pct', 8), ('system', 8), ('temporarily', 8), ('term', 8), ('time', 8), ('construction', 7), ('cut', 7), ('day', 7), ('demand', 7), ('director', 7), ('forest', 7), ('level', 7), ('line', 7), ('passenger', 7), ('process', 7), ('provide', 7), ('provider', 7), ('significant', 7), ('supply', 7), ('win', 7), ('ago', 6), ('amount', 6), ('change', 6), ('close', 6), ('cooperation', 6), ('engineering', 6), ('exclude', 6)]\n"
     ]
    }
   ],
   "source": [
    "list_tuples.sort(key=lambda tup:tup[1], reverse=True)\n",
    "print(list_tuples[0:100])"
   ]
  },
  {
   "cell_type": "markdown",
   "metadata": {},
   "source": [
    "## Vectorization - TF - IDF"
   ]
  },
  {
   "cell_type": "code",
   "execution_count": 19,
   "metadata": {},
   "outputs": [],
   "source": [
    "tfidf = TfidfVectorizer()"
   ]
  },
  {
   "cell_type": "code",
   "execution_count": 20,
   "metadata": {},
   "outputs": [
    {
     "name": "stdout",
     "output_type": "stream",
     "text": [
      "x_tfidf_train: (1556, 2277)\n",
      "x_tfidf_test: (389, 2277)\n"
     ]
    }
   ],
   "source": [
    "tfidf.fit(x_train)\n",
    "\n",
    "x_tfidf_train = tfidf.transform(x_train)\n",
    "x_tfidf_test = tfidf.transform(x_test)\n",
    "\n",
    "print(f'x_tfidf_train: {x_bow_train.shape}')\n",
    "print(f'x_tfidf_test: {x_bow_test.shape}')"
   ]
  },
  {
   "cell_type": "markdown",
   "metadata": {},
   "source": [
    "# A flexible function for text classification"
   ]
  },
  {
   "cell_type": "markdown",
   "metadata": {},
   "source": [
    "## Random Forest"
   ]
  },
  {
   "cell_type": "code",
   "execution_count": 21,
   "metadata": {},
   "outputs": [],
   "source": [
    "rf=RandomForestClassifier(max_depth=20, n_estimators=100, random_state=0)"
   ]
  },
  {
   "cell_type": "markdown",
   "metadata": {},
   "source": [
    "### Bag of Words - raw text"
   ]
  },
  {
   "cell_type": "code",
   "execution_count": 22,
   "metadata": {},
   "outputs": [
    {
     "name": "stdout",
     "output_type": "stream",
     "text": [
      "-----------------\n",
      "The model score using K-fold cross validation (k=15) is 0.774 with a standard deviation of 0.023\n",
      "-----------------\n",
      "The performance metrics of the model\n"
     ]
    },
    {
     "data": {
      "text/html": [
       "<div>\n",
       "<style scoped>\n",
       "    .dataframe tbody tr th:only-of-type {\n",
       "        vertical-align: middle;\n",
       "    }\n",
       "\n",
       "    .dataframe tbody tr th {\n",
       "        vertical-align: top;\n",
       "    }\n",
       "\n",
       "    .dataframe thead th {\n",
       "        text-align: right;\n",
       "    }\n",
       "</style>\n",
       "<table border=\"1\" class=\"dataframe\">\n",
       "  <thead>\n",
       "    <tr style=\"text-align: right;\">\n",
       "      <th></th>\n",
       "      <th>train</th>\n",
       "      <th>test</th>\n",
       "    </tr>\n",
       "    <tr>\n",
       "      <th>error_metric</th>\n",
       "      <th></th>\n",
       "      <th></th>\n",
       "    </tr>\n",
       "  </thead>\n",
       "  <tbody>\n",
       "    <tr>\n",
       "      <th>val_mean_score (k=15)</th>\n",
       "      <td>0.774415</td>\n",
       "      <td>-</td>\n",
       "    </tr>\n",
       "    <tr>\n",
       "      <th>val_std (k=15)</th>\n",
       "      <td>0.022832</td>\n",
       "      <td>-</td>\n",
       "    </tr>\n",
       "    <tr>\n",
       "      <th>accuracy</th>\n",
       "      <td>0.849614</td>\n",
       "      <td>0.771208</td>\n",
       "    </tr>\n",
       "    <tr>\n",
       "      <th>precision</th>\n",
       "      <td>0.821510</td>\n",
       "      <td>0.754237</td>\n",
       "    </tr>\n",
       "    <tr>\n",
       "      <th>recall</th>\n",
       "      <td>1.000000</td>\n",
       "      <td>0.992565</td>\n",
       "    </tr>\n",
       "  </tbody>\n",
       "</table>\n",
       "</div>"
      ],
      "text/plain": [
       "                          train      test\n",
       "error_metric                             \n",
       "val_mean_score (k=15)  0.774415         -\n",
       "val_std (k=15)         0.022832         -\n",
       "accuracy               0.849614  0.771208\n",
       "precision              0.821510  0.754237\n",
       "recall                 1.000000  0.992565"
      ]
     },
     "metadata": {},
     "output_type": "display_data"
    },
    {
     "name": "stdout",
     "output_type": "stream",
     "text": [
      "-----------------\n",
      "Confusion matrix for the train set\n",
      "-----------------\n"
     ]
    },
    {
     "data": {
      "image/png": "[encoded data removed]",
      "text/plain": [
       "<Figure size 432x288 with 2 Axes>"
      ]
     },
     "metadata": {
      "needs_background": "light"
     },
     "output_type": "display_data"
    },
    {
     "name": "stdout",
     "output_type": "stream",
     "text": [
      "Confusion matrix for the test set\n",
      "-----------------\n"
     ]
    },
    {
     "data": {
      "image/png": "[encoded data removed]",
      "text/plain": [
       "<Figure size 432x288 with 2 Axes>"
      ]
     },
     "metadata": {
      "needs_background": "light"
     },
     "output_type": "display_data"
    }
   ],
   "source": [
    "output_rf_bow_raw = text_classification(df[\"text\"], y, CountVectorizer(), rf, cv=15, test_size=0.2, random_state=0, pipeline_flag=True)"
   ]
  },
  {
   "cell_type": "markdown",
   "metadata": {},
   "source": [
    "### Bag of Words - Lemmas"
   ]
  },
  {
   "cell_type": "code",
   "execution_count": 23,
   "metadata": {},
   "outputs": [
    {
     "name": "stdout",
     "output_type": "stream",
     "text": [
      "-----------------\n",
      "The model score using K-fold cross validation (k=15) is 0.794 with a standard deviation of 0.024\n",
      "-----------------\n",
      "The performance metrics of the model\n"
     ]
    },
    {
     "data": {
      "text/html": [
       "<div>\n",
       "<style scoped>\n",
       "    .dataframe tbody tr th:only-of-type {\n",
       "        vertical-align: middle;\n",
       "    }\n",
       "\n",
       "    .dataframe tbody tr th {\n",
       "        vertical-align: top;\n",
       "    }\n",
       "\n",
       "    .dataframe thead th {\n",
       "        text-align: right;\n",
       "    }\n",
       "</style>\n",
       "<table border=\"1\" class=\"dataframe\">\n",
       "  <thead>\n",
       "    <tr style=\"text-align: right;\">\n",
       "      <th></th>\n",
       "      <th>train</th>\n",
       "      <th>test</th>\n",
       "    </tr>\n",
       "    <tr>\n",
       "      <th>error_metric</th>\n",
       "      <th></th>\n",
       "      <th></th>\n",
       "    </tr>\n",
       "  </thead>\n",
       "  <tbody>\n",
       "    <tr>\n",
       "      <th>val_mean_score (k=15)</th>\n",
       "      <td>0.793758</td>\n",
       "      <td>-</td>\n",
       "    </tr>\n",
       "    <tr>\n",
       "      <th>val_std (k=15)</th>\n",
       "      <td>0.023849</td>\n",
       "      <td>-</td>\n",
       "    </tr>\n",
       "    <tr>\n",
       "      <th>accuracy</th>\n",
       "      <td>0.828406</td>\n",
       "      <td>0.766067</td>\n",
       "    </tr>\n",
       "    <tr>\n",
       "      <th>precision</th>\n",
       "      <td>0.801339</td>\n",
       "      <td>0.75</td>\n",
       "    </tr>\n",
       "    <tr>\n",
       "      <th>recall</th>\n",
       "      <td>1.000000</td>\n",
       "      <td>0.992565</td>\n",
       "    </tr>\n",
       "  </tbody>\n",
       "</table>\n",
       "</div>"
      ],
      "text/plain": [
       "                          train      test\n",
       "error_metric                             \n",
       "val_mean_score (k=15)  0.793758         -\n",
       "val_std (k=15)         0.023849         -\n",
       "accuracy               0.828406  0.766067\n",
       "precision              0.801339      0.75\n",
       "recall                 1.000000  0.992565"
      ]
     },
     "metadata": {},
     "output_type": "display_data"
    },
    {
     "name": "stdout",
     "output_type": "stream",
     "text": [
      "-----------------\n",
      "Confusion matrix for the train set\n",
      "-----------------\n"
     ]
    },
    {
     "data": {
      "image/png": "[encoded data removed]",
      "text/plain": [
       "<Figure size 432x288 with 2 Axes>"
      ]
     },
     "metadata": {
      "needs_background": "light"
     },
     "output_type": "display_data"
    },
    {
     "name": "stdout",
     "output_type": "stream",
     "text": [
      "Confusion matrix for the test set\n",
      "-----------------\n"
     ]
    },
    {
     "data": {
      "image/png": "[encoded data removed]",
      "text/plain": [
       "<Figure size 432x288 with 2 Axes>"
      ]
     },
     "metadata": {
      "needs_background": "light"
     },
     "output_type": "display_data"
    }
   ],
   "source": [
    "output_rf_bow_lemmas = text_classification(df[\"lemmas\"], y, CountVectorizer(), rf, cv=15, test_size=0.2, random_state=20, pipeline_flag=True)"
   ]
  },
  {
   "cell_type": "markdown",
   "metadata": {},
   "source": [
    "### Bag of Words - ngrams"
   ]
  },
  {
   "cell_type": "code",
   "execution_count": 26,
   "metadata": {},
   "outputs": [
    {
     "name": "stdout",
     "output_type": "stream",
     "text": [
      "-----------------\n",
      "The model score using K-fold cross validation (k=10) is 0.703 with a standard deviation of 0.007\n",
      "-----------------\n",
      "The performance metrics of the model\n"
     ]
    },
    {
     "data": {
      "text/html": [
       "<div>\n",
       "<style scoped>\n",
       "    .dataframe tbody tr th:only-of-type {\n",
       "        vertical-align: middle;\n",
       "    }\n",
       "\n",
       "    .dataframe tbody tr th {\n",
       "        vertical-align: top;\n",
       "    }\n",
       "\n",
       "    .dataframe thead th {\n",
       "        text-align: right;\n",
       "    }\n",
       "</style>\n",
       "<table border=\"1\" class=\"dataframe\">\n",
       "  <thead>\n",
       "    <tr style=\"text-align: right;\">\n",
       "      <th></th>\n",
       "      <th>train</th>\n",
       "      <th>test</th>\n",
       "    </tr>\n",
       "    <tr>\n",
       "      <th>error_metric</th>\n",
       "      <th></th>\n",
       "      <th></th>\n",
       "    </tr>\n",
       "  </thead>\n",
       "  <tbody>\n",
       "    <tr>\n",
       "      <th>val_mean_score (k=10)</th>\n",
       "      <td>0.703077</td>\n",
       "      <td>-</td>\n",
       "    </tr>\n",
       "    <tr>\n",
       "      <th>val_std (k=10)</th>\n",
       "      <td>0.006584</td>\n",
       "      <td>-</td>\n",
       "    </tr>\n",
       "    <tr>\n",
       "      <th>accuracy</th>\n",
       "      <td>0.715296</td>\n",
       "      <td>0.701799</td>\n",
       "    </tr>\n",
       "    <tr>\n",
       "      <th>precision</th>\n",
       "      <td>0.708553</td>\n",
       "      <td>0.699739</td>\n",
       "    </tr>\n",
       "    <tr>\n",
       "      <th>recall</th>\n",
       "      <td>1.000000</td>\n",
       "      <td>0.996283</td>\n",
       "    </tr>\n",
       "  </tbody>\n",
       "</table>\n",
       "</div>"
      ],
      "text/plain": [
       "                          train      test\n",
       "error_metric                             \n",
       "val_mean_score (k=10)  0.703077         -\n",
       "val_std (k=10)         0.006584         -\n",
       "accuracy               0.715296  0.701799\n",
       "precision              0.708553  0.699739\n",
       "recall                 1.000000  0.996283"
      ]
     },
     "metadata": {},
     "output_type": "display_data"
    },
    {
     "name": "stdout",
     "output_type": "stream",
     "text": [
      "-----------------\n",
      "Confusion matrix for the train set\n",
      "-----------------\n"
     ]
    },
    {
     "data": {
      "image/png": "[encoded data removed]",
      "text/plain": [
       "<Figure size 432x288 with 2 Axes>"
      ]
     },
     "metadata": {
      "needs_background": "light"
     },
     "output_type": "display_data"
    },
    {
     "name": "stdout",
     "output_type": "stream",
     "text": [
      "Confusion matrix for the test set\n",
      "-----------------\n"
     ]
    },
    {
     "data": {
      "image/png": "[encoded data removed]",
      "text/plain": [
       "<Figure size 432x288 with 2 Axes>"
      ]
     },
     "metadata": {
      "needs_background": "light"
     },
     "output_type": "display_data"
    }
   ],
   "source": [
    "output_rf_bow_ngrams = text_classification(df[\"ngrams\"], y, CountVectorizer(), rf, cv=10, test_size=0.2, random_state=0, pipeline_flag=True)"
   ]
  },
  {
   "cell_type": "markdown",
   "metadata": {},
   "source": [
    "### TF_IDF - Lemmas"
   ]
  },
  {
   "cell_type": "code",
   "execution_count": 27,
   "metadata": {},
   "outputs": [
    {
     "name": "stdout",
     "output_type": "stream",
     "text": [
      "-----------------\n",
      "The model score using K-fold cross validation (k=10) is 0.781 with a standard deviation of 0.022\n",
      "-----------------\n",
      "The performance metrics of the model\n"
     ]
    },
    {
     "data": {
      "text/html": [
       "<div>\n",
       "<style scoped>\n",
       "    .dataframe tbody tr th:only-of-type {\n",
       "        vertical-align: middle;\n",
       "    }\n",
       "\n",
       "    .dataframe tbody tr th {\n",
       "        vertical-align: top;\n",
       "    }\n",
       "\n",
       "    .dataframe thead th {\n",
       "        text-align: right;\n",
       "    }\n",
       "</style>\n",
       "<table border=\"1\" class=\"dataframe\">\n",
       "  <thead>\n",
       "    <tr style=\"text-align: right;\">\n",
       "      <th></th>\n",
       "      <th>train</th>\n",
       "      <th>test</th>\n",
       "    </tr>\n",
       "    <tr>\n",
       "      <th>error_metric</th>\n",
       "      <th></th>\n",
       "      <th></th>\n",
       "    </tr>\n",
       "  </thead>\n",
       "  <tbody>\n",
       "    <tr>\n",
       "      <th>val_mean_score (k=10)</th>\n",
       "      <td>0.781485</td>\n",
       "      <td>-</td>\n",
       "    </tr>\n",
       "    <tr>\n",
       "      <th>val_std (k=10)</th>\n",
       "      <td>0.022162</td>\n",
       "      <td>-</td>\n",
       "    </tr>\n",
       "    <tr>\n",
       "      <th>accuracy</th>\n",
       "      <td>0.847044</td>\n",
       "      <td>0.766067</td>\n",
       "    </tr>\n",
       "    <tr>\n",
       "      <th>precision</th>\n",
       "      <td>0.819011</td>\n",
       "      <td>0.751412</td>\n",
       "    </tr>\n",
       "    <tr>\n",
       "      <th>recall</th>\n",
       "      <td>1.000000</td>\n",
       "      <td>0.988848</td>\n",
       "    </tr>\n",
       "  </tbody>\n",
       "</table>\n",
       "</div>"
      ],
      "text/plain": [
       "                          train      test\n",
       "error_metric                             \n",
       "val_mean_score (k=10)  0.781485         -\n",
       "val_std (k=10)         0.022162         -\n",
       "accuracy               0.847044  0.766067\n",
       "precision              0.819011  0.751412\n",
       "recall                 1.000000  0.988848"
      ]
     },
     "metadata": {},
     "output_type": "display_data"
    },
    {
     "name": "stdout",
     "output_type": "stream",
     "text": [
      "-----------------\n",
      "Confusion matrix for the train set\n",
      "-----------------\n"
     ]
    },
    {
     "data": {
      "image/png": "[encoded data removed]",
      "text/plain": [
       "<Figure size 432x288 with 2 Axes>"
      ]
     },
     "metadata": {
      "needs_background": "light"
     },
     "output_type": "display_data"
    },
    {
     "name": "stdout",
     "output_type": "stream",
     "text": [
      "Confusion matrix for the test set\n",
      "-----------------\n"
     ]
    },
    {
     "data": {
      "image/png": "[encoded data removed]",
      "text/plain": [
       "<Figure size 432x288 with 2 Axes>"
      ]
     },
     "metadata": {
      "needs_background": "light"
     },
     "output_type": "display_data"
    }
   ],
   "source": [
    "output_rf_tfidf_lemmas = text_classification(df[\"lemmas\"], y, TfidfVectorizer(), rf, cv=10, test_size=0.2, random_state=0, pipeline_flag=True)"
   ]
  },
  {
   "cell_type": "markdown",
   "metadata": {},
   "source": [
    "## SVM"
   ]
  },
  {
   "cell_type": "code",
   "execution_count": 28,
   "metadata": {},
   "outputs": [],
   "source": [
    "svm = LinearSVC(random_state=0, tol=1e-2, max_iter=5000)"
   ]
  },
  {
   "cell_type": "markdown",
   "metadata": {},
   "source": [
    "### Bag of Words - Lemmas"
   ]
  },
  {
   "cell_type": "code",
   "execution_count": 29,
   "metadata": {},
   "outputs": [
    {
     "name": "stdout",
     "output_type": "stream",
     "text": [
      "-----------------\n",
      "The model score using K-fold cross validation (k=10) is 0.845 with a standard deviation of 0.02\n",
      "-----------------\n",
      "The performance metrics of the model\n"
     ]
    },
    {
     "data": {
      "text/html": [
       "<div>\n",
       "<style scoped>\n",
       "    .dataframe tbody tr th:only-of-type {\n",
       "        vertical-align: middle;\n",
       "    }\n",
       "\n",
       "    .dataframe tbody tr th {\n",
       "        vertical-align: top;\n",
       "    }\n",
       "\n",
       "    .dataframe thead th {\n",
       "        text-align: right;\n",
       "    }\n",
       "</style>\n",
       "<table border=\"1\" class=\"dataframe\">\n",
       "  <thead>\n",
       "    <tr style=\"text-align: right;\">\n",
       "      <th></th>\n",
       "      <th>train</th>\n",
       "      <th>test</th>\n",
       "    </tr>\n",
       "    <tr>\n",
       "      <th>error_metric</th>\n",
       "      <th></th>\n",
       "      <th></th>\n",
       "    </tr>\n",
       "  </thead>\n",
       "  <tbody>\n",
       "    <tr>\n",
       "      <th>val_mean_score (k=10)</th>\n",
       "      <td>0.845116</td>\n",
       "      <td>-</td>\n",
       "    </tr>\n",
       "    <tr>\n",
       "      <th>val_std (k=10)</th>\n",
       "      <td>0.020394</td>\n",
       "      <td>-</td>\n",
       "    </tr>\n",
       "    <tr>\n",
       "      <th>accuracy</th>\n",
       "      <td>0.982648</td>\n",
       "      <td>0.845758</td>\n",
       "    </tr>\n",
       "    <tr>\n",
       "      <th>precision</th>\n",
       "      <td>0.988827</td>\n",
       "      <td>0.849498</td>\n",
       "    </tr>\n",
       "    <tr>\n",
       "      <th>recall</th>\n",
       "      <td>0.986072</td>\n",
       "      <td>0.944238</td>\n",
       "    </tr>\n",
       "  </tbody>\n",
       "</table>\n",
       "</div>"
      ],
      "text/plain": [
       "                          train      test\n",
       "error_metric                             \n",
       "val_mean_score (k=10)  0.845116         -\n",
       "val_std (k=10)         0.020394         -\n",
       "accuracy               0.982648  0.845758\n",
       "precision              0.988827  0.849498\n",
       "recall                 0.986072  0.944238"
      ]
     },
     "metadata": {},
     "output_type": "display_data"
    },
    {
     "name": "stdout",
     "output_type": "stream",
     "text": [
      "-----------------\n",
      "Confusion matrix for the train set\n",
      "-----------------\n"
     ]
    },
    {
     "data": {
      "image/png": "[encoded data removed]",
      "text/plain": [
       "<Figure size 432x288 with 2 Axes>"
      ]
     },
     "metadata": {
      "needs_background": "light"
     },
     "output_type": "display_data"
    },
    {
     "name": "stdout",
     "output_type": "stream",
     "text": [
      "Confusion matrix for the test set\n",
      "-----------------\n"
     ]
    },
    {
     "data": {
      "image/png": "[encoded data removed]",
      "text/plain": [
       "<Figure size 432x288 with 2 Axes>"
      ]
     },
     "metadata": {
      "needs_background": "light"
     },
     "output_type": "display_data"
    }
   ],
   "source": [
    "output_svm_bow_lemmas = text_classification(df[\"lemmas\"], y, CountVectorizer(), svm, cv=10, test_size=0.2, random_state=0, pipeline_flag=True)"
   ]
  },
  {
   "cell_type": "markdown",
   "metadata": {},
   "source": [
    "### Bag of Words - ngrams"
   ]
  },
  {
   "cell_type": "code",
   "execution_count": 30,
   "metadata": {},
   "outputs": [
    {
     "name": "stdout",
     "output_type": "stream",
     "text": [
      "-----------------\n",
      "The model score using K-fold cross validation (k=10) is 0.701 with a standard deviation of 0.025\n",
      "-----------------\n",
      "The performance metrics of the model\n"
     ]
    },
    {
     "data": {
      "text/html": [
       "<div>\n",
       "<style scoped>\n",
       "    .dataframe tbody tr th:only-of-type {\n",
       "        vertical-align: middle;\n",
       "    }\n",
       "\n",
       "    .dataframe tbody tr th {\n",
       "        vertical-align: top;\n",
       "    }\n",
       "\n",
       "    .dataframe thead th {\n",
       "        text-align: right;\n",
       "    }\n",
       "</style>\n",
       "<table border=\"1\" class=\"dataframe\">\n",
       "  <thead>\n",
       "    <tr style=\"text-align: right;\">\n",
       "      <th></th>\n",
       "      <th>train</th>\n",
       "      <th>test</th>\n",
       "    </tr>\n",
       "    <tr>\n",
       "      <th>error_metric</th>\n",
       "      <th></th>\n",
       "      <th></th>\n",
       "    </tr>\n",
       "  </thead>\n",
       "  <tbody>\n",
       "    <tr>\n",
       "      <th>val_mean_score (k=10)</th>\n",
       "      <td>0.700500</td>\n",
       "      <td>-</td>\n",
       "    </tr>\n",
       "    <tr>\n",
       "      <th>val_std (k=10)</th>\n",
       "      <td>0.025439</td>\n",
       "      <td>-</td>\n",
       "    </tr>\n",
       "    <tr>\n",
       "      <th>accuracy</th>\n",
       "      <td>0.852185</td>\n",
       "      <td>0.717224</td>\n",
       "    </tr>\n",
       "    <tr>\n",
       "      <th>precision</th>\n",
       "      <td>0.832157</td>\n",
       "      <td>0.726496</td>\n",
       "    </tr>\n",
       "    <tr>\n",
       "      <th>recall</th>\n",
       "      <td>0.985144</td>\n",
       "      <td>0.947955</td>\n",
       "    </tr>\n",
       "  </tbody>\n",
       "</table>\n",
       "</div>"
      ],
      "text/plain": [
       "                          train      test\n",
       "error_metric                             \n",
       "val_mean_score (k=10)  0.700500         -\n",
       "val_std (k=10)         0.025439         -\n",
       "accuracy               0.852185  0.717224\n",
       "precision              0.832157  0.726496\n",
       "recall                 0.985144  0.947955"
      ]
     },
     "metadata": {},
     "output_type": "display_data"
    },
    {
     "name": "stdout",
     "output_type": "stream",
     "text": [
      "-----------------\n",
      "Confusion matrix for the train set\n",
      "-----------------\n"
     ]
    },
    {
     "data": {
      "image/png": "[encoded data removed]",
      "text/plain": [
       "<Figure size 432x288 with 2 Axes>"
      ]
     },
     "metadata": {
      "needs_background": "light"
     },
     "output_type": "display_data"
    },
    {
     "name": "stdout",
     "output_type": "stream",
     "text": [
      "Confusion matrix for the test set\n",
      "-----------------\n"
     ]
    },
    {
     "data": {
      "image/png": "[encoded data removed]",
      "text/plain": [
       "<Figure size 432x288 with 2 Axes>"
      ]
     },
     "metadata": {
      "needs_background": "light"
     },
     "output_type": "display_data"
    }
   ],
   "source": [
    "output_svm_bow_ngrams = text_classification(df[\"ngrams\"], y, CountVectorizer(), svm, cv=10, test_size=0.2, random_state=0, pipeline_flag=True)"
   ]
  },
  {
   "cell_type": "markdown",
   "metadata": {},
   "source": [
    "### TF_ITF - lemmas"
   ]
  },
  {
   "cell_type": "code",
   "execution_count": 31,
   "metadata": {},
   "outputs": [
    {
     "name": "stdout",
     "output_type": "stream",
     "text": [
      "-----------------\n",
      "The model score using K-fold cross validation (k=10) is 0.848 with a standard deviation of 0.027\n",
      "-----------------\n",
      "The performance metrics of the model\n"
     ]
    },
    {
     "data": {
      "text/html": [
       "<div>\n",
       "<style scoped>\n",
       "    .dataframe tbody tr th:only-of-type {\n",
       "        vertical-align: middle;\n",
       "    }\n",
       "\n",
       "    .dataframe tbody tr th {\n",
       "        vertical-align: top;\n",
       "    }\n",
       "\n",
       "    .dataframe thead th {\n",
       "        text-align: right;\n",
       "    }\n",
       "</style>\n",
       "<table border=\"1\" class=\"dataframe\">\n",
       "  <thead>\n",
       "    <tr style=\"text-align: right;\">\n",
       "      <th></th>\n",
       "      <th>train</th>\n",
       "      <th>test</th>\n",
       "    </tr>\n",
       "    <tr>\n",
       "      <th>error_metric</th>\n",
       "      <th></th>\n",
       "      <th></th>\n",
       "    </tr>\n",
       "  </thead>\n",
       "  <tbody>\n",
       "    <tr>\n",
       "      <th>val_mean_score (k=10)</th>\n",
       "      <td>0.848329</td>\n",
       "      <td>-</td>\n",
       "    </tr>\n",
       "    <tr>\n",
       "      <th>val_std (k=10)</th>\n",
       "      <td>0.027320</td>\n",
       "      <td>-</td>\n",
       "    </tr>\n",
       "    <tr>\n",
       "      <th>accuracy</th>\n",
       "      <td>0.976864</td>\n",
       "      <td>0.843188</td>\n",
       "    </tr>\n",
       "    <tr>\n",
       "      <th>precision</th>\n",
       "      <td>0.984186</td>\n",
       "      <td>0.844371</td>\n",
       "    </tr>\n",
       "    <tr>\n",
       "      <th>recall</th>\n",
       "      <td>0.982358</td>\n",
       "      <td>0.947955</td>\n",
       "    </tr>\n",
       "  </tbody>\n",
       "</table>\n",
       "</div>"
      ],
      "text/plain": [
       "                          train      test\n",
       "error_metric                             \n",
       "val_mean_score (k=10)  0.848329         -\n",
       "val_std (k=10)         0.027320         -\n",
       "accuracy               0.976864  0.843188\n",
       "precision              0.984186  0.844371\n",
       "recall                 0.982358  0.947955"
      ]
     },
     "metadata": {},
     "output_type": "display_data"
    },
    {
     "name": "stdout",
     "output_type": "stream",
     "text": [
      "-----------------\n",
      "Confusion matrix for the train set\n",
      "-----------------\n"
     ]
    },
    {
     "data": {
      "image/png": "[encoded data removed]",
      "text/plain": [
       "<Figure size 432x288 with 2 Axes>"
      ]
     },
     "metadata": {
      "needs_background": "light"
     },
     "output_type": "display_data"
    },
    {
     "name": "stdout",
     "output_type": "stream",
     "text": [
      "Confusion matrix for the test set\n",
      "-----------------\n"
     ]
    },
    {
     "data": {
      "image/png": "[encoded data removed]",
      "text/plain": [
       "<Figure size 432x288 with 2 Axes>"
      ]
     },
     "metadata": {
      "needs_background": "light"
     },
     "output_type": "display_data"
    }
   ],
   "source": [
    "output_svm_tfif_lemmas = text_classification(df[\"lemmas\"], y, TfidfVectorizer(), svm, cv=10, test_size=0.2, random_state=0, pipeline_flag=True)"
   ]
  },
  {
   "cell_type": "markdown",
   "metadata": {},
   "source": [
    "## Naive Bayes"
   ]
  },
  {
   "cell_type": "code",
   "execution_count": 32,
   "metadata": {},
   "outputs": [],
   "source": [
    "nb = MultinomialNB()"
   ]
  },
  {
   "cell_type": "markdown",
   "metadata": {},
   "source": [
    "### Bag of Words - Lemmas"
   ]
  },
  {
   "cell_type": "code",
   "execution_count": 33,
   "metadata": {},
   "outputs": [
    {
     "name": "stdout",
     "output_type": "stream",
     "text": [
      "-----------------\n",
      "The model score using K-fold cross validation (k=10) is 0.829 with a standard deviation of 0.02\n",
      "-----------------\n",
      "The performance metrics of the model\n"
     ]
    },
    {
     "data": {
      "text/html": [
       "<div>\n",
       "<style scoped>\n",
       "    .dataframe tbody tr th:only-of-type {\n",
       "        vertical-align: middle;\n",
       "    }\n",
       "\n",
       "    .dataframe tbody tr th {\n",
       "        vertical-align: top;\n",
       "    }\n",
       "\n",
       "    .dataframe thead th {\n",
       "        text-align: right;\n",
       "    }\n",
       "</style>\n",
       "<table border=\"1\" class=\"dataframe\">\n",
       "  <thead>\n",
       "    <tr style=\"text-align: right;\">\n",
       "      <th></th>\n",
       "      <th>train</th>\n",
       "      <th>test</th>\n",
       "    </tr>\n",
       "    <tr>\n",
       "      <th>error_metric</th>\n",
       "      <th></th>\n",
       "      <th></th>\n",
       "    </tr>\n",
       "  </thead>\n",
       "  <tbody>\n",
       "    <tr>\n",
       "      <th>val_mean_score (k=10)</th>\n",
       "      <td>0.829012</td>\n",
       "      <td>-</td>\n",
       "    </tr>\n",
       "    <tr>\n",
       "      <th>val_std (k=10)</th>\n",
       "      <td>0.020262</td>\n",
       "      <td>-</td>\n",
       "    </tr>\n",
       "    <tr>\n",
       "      <th>accuracy</th>\n",
       "      <td>0.921594</td>\n",
       "      <td>0.85347</td>\n",
       "    </tr>\n",
       "    <tr>\n",
       "      <th>precision</th>\n",
       "      <td>0.968597</td>\n",
       "      <td>0.873239</td>\n",
       "    </tr>\n",
       "    <tr>\n",
       "      <th>recall</th>\n",
       "      <td>0.916435</td>\n",
       "      <td>0.921933</td>\n",
       "    </tr>\n",
       "  </tbody>\n",
       "</table>\n",
       "</div>"
      ],
      "text/plain": [
       "                          train      test\n",
       "error_metric                             \n",
       "val_mean_score (k=10)  0.829012         -\n",
       "val_std (k=10)         0.020262         -\n",
       "accuracy               0.921594   0.85347\n",
       "precision              0.968597  0.873239\n",
       "recall                 0.916435  0.921933"
      ]
     },
     "metadata": {},
     "output_type": "display_data"
    },
    {
     "name": "stdout",
     "output_type": "stream",
     "text": [
      "-----------------\n",
      "Confusion matrix for the train set\n",
      "-----------------\n"
     ]
    },
    {
     "data": {
      "image/png": "[encoded data removed]",
      "text/plain": [
       "<Figure size 432x288 with 2 Axes>"
      ]
     },
     "metadata": {
      "needs_background": "light"
     },
     "output_type": "display_data"
    },
    {
     "name": "stdout",
     "output_type": "stream",
     "text": [
      "Confusion matrix for the test set\n",
      "-----------------\n"
     ]
    },
    {
     "data": {
      "image/png": "[encoded data removed]",
      "text/plain": [
       "<Figure size 432x288 with 2 Axes>"
      ]
     },
     "metadata": {
      "needs_background": "light"
     },
     "output_type": "display_data"
    }
   ],
   "source": [
    "output_nb_bow_lemmas = text_classification(df[\"lemmas\"], y, CountVectorizer(), nb, cv=10, test_size=0.2, random_state=0, pipeline_flag=True)"
   ]
  },
  {
   "cell_type": "markdown",
   "metadata": {},
   "source": [
    "### TF_ITF - lemmas"
   ]
  },
  {
   "cell_type": "code",
   "execution_count": 34,
   "metadata": {},
   "outputs": [
    {
     "name": "stdout",
     "output_type": "stream",
     "text": [
      "-----------------\n",
      "The model score using K-fold cross validation (k=10) is 0.786 with a standard deviation of 0.019\n",
      "-----------------\n",
      "The performance metrics of the model\n"
     ]
    },
    {
     "data": {
      "text/html": [
       "<div>\n",
       "<style scoped>\n",
       "    .dataframe tbody tr th:only-of-type {\n",
       "        vertical-align: middle;\n",
       "    }\n",
       "\n",
       "    .dataframe tbody tr th {\n",
       "        vertical-align: top;\n",
       "    }\n",
       "\n",
       "    .dataframe thead th {\n",
       "        text-align: right;\n",
       "    }\n",
       "</style>\n",
       "<table border=\"1\" class=\"dataframe\">\n",
       "  <thead>\n",
       "    <tr style=\"text-align: right;\">\n",
       "      <th></th>\n",
       "      <th>train</th>\n",
       "      <th>test</th>\n",
       "    </tr>\n",
       "    <tr>\n",
       "      <th>error_metric</th>\n",
       "      <th></th>\n",
       "      <th></th>\n",
       "    </tr>\n",
       "  </thead>\n",
       "  <tbody>\n",
       "    <tr>\n",
       "      <th>val_mean_score (k=10)</th>\n",
       "      <td>0.786009</td>\n",
       "      <td>-</td>\n",
       "    </tr>\n",
       "    <tr>\n",
       "      <th>val_std (k=10)</th>\n",
       "      <td>0.018858</td>\n",
       "      <td>-</td>\n",
       "    </tr>\n",
       "    <tr>\n",
       "      <th>accuracy</th>\n",
       "      <td>0.877892</td>\n",
       "      <td>0.817481</td>\n",
       "    </tr>\n",
       "    <tr>\n",
       "      <th>precision</th>\n",
       "      <td>0.853386</td>\n",
       "      <td>0.796407</td>\n",
       "    </tr>\n",
       "    <tr>\n",
       "      <th>recall</th>\n",
       "      <td>0.994429</td>\n",
       "      <td>0.988848</td>\n",
       "    </tr>\n",
       "  </tbody>\n",
       "</table>\n",
       "</div>"
      ],
      "text/plain": [
       "                          train      test\n",
       "error_metric                             \n",
       "val_mean_score (k=10)  0.786009         -\n",
       "val_std (k=10)         0.018858         -\n",
       "accuracy               0.877892  0.817481\n",
       "precision              0.853386  0.796407\n",
       "recall                 0.994429  0.988848"
      ]
     },
     "metadata": {},
     "output_type": "display_data"
    },
    {
     "name": "stdout",
     "output_type": "stream",
     "text": [
      "-----------------\n",
      "Confusion matrix for the train set\n",
      "-----------------\n"
     ]
    },
    {
     "data": {
      "image/png": "[encoded data removed]",
      "text/plain": [
       "<Figure size 432x288 with 2 Axes>"
      ]
     },
     "metadata": {
      "needs_background": "light"
     },
     "output_type": "display_data"
    },
    {
     "name": "stdout",
     "output_type": "stream",
     "text": [
      "Confusion matrix for the test set\n",
      "-----------------\n"
     ]
    },
    {
     "data": {
      "image/png": "[encoded data removed]",
      "text/plain": [
       "<Figure size 432x288 with 2 Axes>"
      ]
     },
     "metadata": {
      "needs_background": "light"
     },
     "output_type": "display_data"
    }
   ],
   "source": [
    "output_nb_tfif_lemmas = text_classification(df[\"lemmas\"], y, TfidfVectorizer(), nb, cv=10, test_size=0.2, random_state=0, pipeline_flag=True)"
   ]
  },
  {
   "cell_type": "markdown",
   "metadata": {},
   "source": [
    "# Final Model - Naive Bayes with TF_IDF and lemmas"
   ]
  },
  {
   "cell_type": "code",
   "execution_count": 41,
   "metadata": {},
   "outputs": [
    {
     "name": "stdout",
     "output_type": "stream",
     "text": [
      "-----------------\n",
      "The model score using K-fold cross validation (k=15) is 0.805 with a standard deviation of 0.028\n",
      "-----------------\n",
      "The performance metrics of the model\n"
     ]
    },
    {
     "data": {
      "text/html": [
       "<div>\n",
       "<style scoped>\n",
       "    .dataframe tbody tr th:only-of-type {\n",
       "        vertical-align: middle;\n",
       "    }\n",
       "\n",
       "    .dataframe tbody tr th {\n",
       "        vertical-align: top;\n",
       "    }\n",
       "\n",
       "    .dataframe thead th {\n",
       "        text-align: right;\n",
       "    }\n",
       "</style>\n",
       "<table border=\"1\" class=\"dataframe\">\n",
       "  <thead>\n",
       "    <tr style=\"text-align: right;\">\n",
       "      <th></th>\n",
       "      <th>train</th>\n",
       "      <th>test</th>\n",
       "    </tr>\n",
       "    <tr>\n",
       "      <th>error_metric</th>\n",
       "      <th></th>\n",
       "      <th></th>\n",
       "    </tr>\n",
       "  </thead>\n",
       "  <tbody>\n",
       "    <tr>\n",
       "      <th>val_mean_score (k=15)</th>\n",
       "      <td>0.805309</td>\n",
       "      <td>-</td>\n",
       "    </tr>\n",
       "    <tr>\n",
       "      <th>val_std (k=15)</th>\n",
       "      <td>0.028165</td>\n",
       "      <td>-</td>\n",
       "    </tr>\n",
       "    <tr>\n",
       "      <th>accuracy</th>\n",
       "      <td>0.879820</td>\n",
       "      <td>0.794344</td>\n",
       "    </tr>\n",
       "    <tr>\n",
       "      <th>precision</th>\n",
       "      <td>0.855431</td>\n",
       "      <td>0.777126</td>\n",
       "    </tr>\n",
       "    <tr>\n",
       "      <th>recall</th>\n",
       "      <td>0.994429</td>\n",
       "      <td>0.98513</td>\n",
       "    </tr>\n",
       "  </tbody>\n",
       "</table>\n",
       "</div>"
      ],
      "text/plain": [
       "                          train      test\n",
       "error_metric                             \n",
       "val_mean_score (k=15)  0.805309         -\n",
       "val_std (k=15)         0.028165         -\n",
       "accuracy               0.879820  0.794344\n",
       "precision              0.855431  0.777126\n",
       "recall                 0.994429   0.98513"
      ]
     },
     "metadata": {},
     "output_type": "display_data"
    },
    {
     "name": "stdout",
     "output_type": "stream",
     "text": [
      "-----------------\n",
      "Confusion matrix for the train set\n",
      "-----------------\n"
     ]
    },
    {
     "data": {
      "image/png": "[encoded data removed]",
      "text/plain": [
       "<Figure size 432x288 with 2 Axes>"
      ]
     },
     "metadata": {
      "needs_background": "light"
     },
     "output_type": "display_data"
    },
    {
     "name": "stdout",
     "output_type": "stream",
     "text": [
      "Confusion matrix for the test set\n",
      "-----------------\n"
     ]
    },
    {
     "data": {
      "image/png": "[encoded data removed]",
      "text/plain": [
       "<Figure size 432x288 with 2 Axes>"
      ]
     },
     "metadata": {
      "needs_background": "light"
     },
     "output_type": "display_data"
    }
   ],
   "source": [
    "nb = MultinomialNB()\n",
    "output_nb_tfif_lemmas = text_classification(df[\"lemmas\"], y, TfidfVectorizer(), nb, cv=15, test_size=0.2, random_state=20, pipeline_flag=True)"
   ]
  },
  {
   "cell_type": "code",
   "execution_count": null,
   "metadata": {},
   "outputs": [],
   "source": []
  }
 ],
 "metadata": {
  "interpreter": {
   "hash": "a28a6d9a2829a9f267e3512076f8ab1f78a273c3c6b252dca92df60bfdeeeb6d"
  },
  "kernelspec": {
   "display_name": "Python 3.9.0 64-bit ('DA_ENV': conda)",
   "language": "python",
   "name": "python3"
  },
  "language_info": {
   "codemirror_mode": {
    "name": "ipython",
    "version": 3
   },
   "file_extension": ".py",
   "mimetype": "text/x-python",
   "name": "python",
   "nbconvert_exporter": "python",
   "pygments_lexer": "ipython3",
   "version": "3.9.0"
  },
  "orig_nbformat": 4
 },
 "nbformat": 4,
 "nbformat_minor": 2
}
